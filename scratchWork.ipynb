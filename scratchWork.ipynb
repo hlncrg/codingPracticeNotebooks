{
 "cells": [
  {
   "cell_type": "markdown",
   "metadata": {},
   "source": [
    "# queens on 8x8 board"
   ]
  },
  {
   "cell_type": "code",
   "execution_count": 42,
   "metadata": {},
   "outputs": [
    {
     "data": {
      "text/plain": [
       "92"
      ]
     },
     "execution_count": 42,
     "metadata": {},
     "output_type": "execute_result"
    }
   ],
   "source": [
    "def numWays(x0,y,isValid):\n",
    "    isValid0=fillValid(x0,y,isValid)\n",
    "    numTot=0\n",
    "    for x in range(8):\n",
    "        if isValid0[x][y+1]:\n",
    "            if y==6:\n",
    "                numTot+=1\n",
    "            else:\n",
    "                numTot+=numWays(x,y+1,isValid0)\n",
    "                \n",
    "    return numTot\n",
    "\n",
    "def fillValid(x0,y,isValid):\n",
    "    isValid0=[[yv for yv in xv] for xv in isValid]\n",
    "    for yi in range(y+1,8):\n",
    "        if yi>=0 and yi<=7:\n",
    "            isValid0[x0][yi]=False\n",
    "    for xi,yi in zip(range(x0-1,-1,-1),range(y+1,8)):\n",
    "        if xi>=0 and yi>=0 and xi<=7 and yi<=7:\n",
    "            isValid0[xi][yi]=False\n",
    "    for xi,yi in zip(range(x0+1,8),range(y+1,8)):\n",
    "        if xi>=0 and yi>=0 and xi<=7 and yi<=7:\n",
    "            isValid0[xi][yi]=False\n",
    "    return isValid0\n",
    "\n",
    "isValid=[[True for y in range(8)] for x in range(8)]\n",
    "sum([numWays(x,0,isValid) for x in range(8)])"
   ]
  },
  {
   "cell_type": "code",
   "execution_count": null,
   "metadata": {
    "collapsed": true
   },
   "outputs": [],
   "source": []
  },
  {
   "cell_type": "code",
   "execution_count": null,
   "metadata": {
    "collapsed": true
   },
   "outputs": [],
   "source": []
  },
  {
   "cell_type": "code",
   "execution_count": null,
   "metadata": {
    "collapsed": true
   },
   "outputs": [],
   "source": [
    "prime[0] = false;\n",
    "prime[1] = false;\n",
    "for (i = 2; i <= n; i++)\n",
    "prime[i] = true;\n",
    "\n",
    "int limit = sqrt(n);\n",
    "for (i = 2; i <= limit; i++) {\n",
    "if (prime[i]) {\n",
    "  for (int j = i * i; j <= n; j += i)\n",
    "    prime[j] = false;\n",
    "\n",
    "\n"
   ]
  },
  {
   "cell_type": "code",
   "execution_count": 6,
   "metadata": {},
   "outputs": [
    {
     "data": {
      "text/plain": [
       "{3}"
      ]
     },
     "execution_count": 6,
     "metadata": {},
     "output_type": "execute_result"
    }
   ],
   "source": [
    "set([4,3]) & set([3])"
   ]
  },
  {
   "cell_type": "code",
   "execution_count": 8,
   "metadata": {},
   "outputs": [
    {
     "data": {
      "text/plain": [
       "{3, 4}"
      ]
     },
     "execution_count": 8,
     "metadata": {},
     "output_type": "execute_result"
    }
   ],
   "source": [
    "set([4]) | set([3])"
   ]
  },
  {
   "cell_type": "code",
   "execution_count": 3,
   "metadata": {
    "collapsed": true
   },
   "outputs": [],
   "source": [
    "prime=[True for _ in range(30)]"
   ]
  },
  {
   "cell_type": "code",
   "execution_count": 2,
   "metadata": {
    "collapsed": true
   },
   "outputs": [],
   "source": [
    "prime[0] = False\n",
    "prime[1] = False"
   ]
  },
  {
   "cell_type": "code",
   "execution_count": 4,
   "metadata": {
    "collapsed": true
   },
   "outputs": [],
   "source": [
    "n=30\n",
    "import math\n",
    "limit = math.sqrt(n)"
   ]
  },
  {
   "cell_type": "code",
   "execution_count": null,
   "metadata": {
    "collapsed": true
   },
   "outputs": [],
   "source": []
  },
  {
   "cell_type": "code",
   "execution_count": 7,
   "metadata": {
    "collapsed": true
   },
   "outputs": [],
   "source": [
    "for i in range(int(limit)):\n",
    "    if prime[i]:\n",
    "        for j  in range(i * i, n):\n",
    "            prime[j] = False"
   ]
  },
  {
   "cell_type": "code",
   "execution_count": 8,
   "metadata": {},
   "outputs": [
    {
     "data": {
      "text/plain": [
       "[False,\n",
       " False,\n",
       " False,\n",
       " False,\n",
       " False,\n",
       " False,\n",
       " False,\n",
       " False,\n",
       " False,\n",
       " False,\n",
       " False,\n",
       " False,\n",
       " False,\n",
       " False,\n",
       " False,\n",
       " False,\n",
       " False,\n",
       " False,\n",
       " False,\n",
       " False,\n",
       " False,\n",
       " False,\n",
       " False,\n",
       " False,\n",
       " False,\n",
       " False,\n",
       " False,\n",
       " False,\n",
       " False,\n",
       " False]"
      ]
     },
     "execution_count": 8,
     "metadata": {},
     "output_type": "execute_result"
    }
   ],
   "source": [
    "prime"
   ]
  },
  {
   "cell_type": "code",
   "execution_count": null,
   "metadata": {
    "collapsed": true
   },
   "outputs": [],
   "source": []
  },
  {
   "cell_type": "code",
   "execution_count": 1,
   "metadata": {
    "collapsed": true
   },
   "outputs": [],
   "source": [
    "import math"
   ]
  },
  {
   "cell_type": "code",
   "execution_count": 13,
   "metadata": {
    "collapsed": true
   },
   "outputs": [],
   "source": [
    "def func(n,mapDic):\n",
    "    if n==1:\n",
    "        return 1\n",
    "    if n==2:\n",
    "        return 2\n",
    "    if n==3:\n",
    "        return 4\n",
    "    \n",
    "    if n in mapDic:\n",
    "        return mapDic[n]\n",
    "    mapDic[n]=func(n-1,mapDic)+func(n-2,mapDic)+func(n-3,mapDic)\n",
    "    return mapDic[n]"
   ]
  },
  {
   "cell_type": "code",
   "execution_count": 16,
   "metadata": {},
   "outputs": [
    {
     "data": {
      "text/plain": [
       "4"
      ]
     },
     "execution_count": 16,
     "metadata": {},
     "output_type": "execute_result"
    }
   ],
   "source": [
    "mapDic={}\n",
    "func(3,mapDic)"
   ]
  },
  {
   "cell_type": "code",
   "execution_count": 19,
   "metadata": {},
   "outputs": [
    {
     "data": {
      "text/plain": [
       "13"
      ]
     },
     "execution_count": 19,
     "metadata": {},
     "output_type": "execute_result"
    }
   ],
   "source": [
    "mapDic={}\n",
    "func(5,mapDic)"
   ]
  },
  {
   "cell_type": "code",
   "execution_count": null,
   "metadata": {
    "collapsed": true
   },
   "outputs": [],
   "source": []
  },
  {
   "cell_type": "code",
   "execution_count": 1,
   "metadata": {
    "collapsed": true
   },
   "outputs": [],
   "source": [
    "from random import random"
   ]
  },
  {
   "cell_type": "code",
   "execution_count": 2,
   "metadata": {
    "collapsed": true
   },
   "outputs": [],
   "source": [
    "attendenceArray={'date':[],'student_id':[],'attendance':[]}\n",
    "import datetime\n",
    "\n",
    "dt = datetime.datetime(2010, 1, 1)\n",
    "end = datetime.datetime(2010, 12, 30)\n",
    "step = datetime.timedelta(days=1)\n",
    "\n",
    "while dt < end:\n",
    "    \n",
    "    curDate=dt.strftime('%Y-%m-%d')\n",
    "    \n",
    "    for stuID in range(1000):\n",
    "        \n",
    "        attendenceArray['date'].append(curDate)\n",
    "        attendenceArray['student_id'].append(stuID)\n",
    "        attendenceArray['attendance'].append(1 if random() >.1*stuID%7 else 0)\n",
    "    dt += step"
   ]
  },
  {
   "cell_type": "code",
   "execution_count": 3,
   "metadata": {
    "collapsed": true
   },
   "outputs": [],
   "source": [
    "from random import randint"
   ]
  },
  {
   "cell_type": "code",
   "execution_count": 4,
   "metadata": {
    "collapsed": true
   },
   "outputs": [],
   "source": [
    "studentArray={'student_id':[],'school_id':[],'grade_level':[]}\n",
    "for stuID in range(1000):\n",
    "    studentArray['student_id'].append(stuID)\n",
    "    studentArray['school_id'].append(randint(1,4))\n",
    "    studentArray['grade_level'].append(randint(1,5))"
   ]
  },
  {
   "cell_type": "markdown",
   "metadata": {},
   "source": [
    "### What was the overall attendance rate for the school district on 2010-03-09?\n",
    "\n",
    "attendenceArray={'date':[],'student_id':[],'attendance':[]}\n",
    "\n",
    "studentArray={'student_id':[],'school_id':[],'grade_level':[]}"
   ]
  },
  {
   "cell_type": "code",
   "execution_count": 6,
   "metadata": {
    "collapsed": true
   },
   "outputs": [],
   "source": [
    "totStudents=len(studentArray['student_id'])"
   ]
  },
  {
   "cell_type": "code",
   "execution_count": 7,
   "metadata": {
    "collapsed": true
   },
   "outputs": [],
   "source": [
    "attTot=sum([att for att,date in \n",
    "            zip(attendenceArray['attendance'],attendenceArray['date']) \n",
    "            if date=='2010-03-09'])"
   ]
  },
  {
   "cell_type": "code",
   "execution_count": 8,
   "metadata": {},
   "outputs": [
    {
     "data": {
      "text/plain": [
       "0.085"
      ]
     },
     "execution_count": 8,
     "metadata": {},
     "output_type": "execute_result"
    }
   ],
   "source": [
    "float(attTot)/float(totStudents)"
   ]
  },
  {
   "cell_type": "markdown",
   "metadata": {},
   "source": [
    "### Which grade level currently has the most students in this school district?\n",
    "\n",
    "attendenceArray={'date':[],'student_id':[],'attendance':[]}\n",
    "\n",
    "studentArray={'student_id':[],'school_id':[],'grade_level':[]}"
   ]
  },
  {
   "cell_type": "code",
   "execution_count": 13,
   "metadata": {
    "collapsed": true
   },
   "outputs": [],
   "source": [
    "gradeLevels=set(studentArray['grade_level'])"
   ]
  },
  {
   "cell_type": "code",
   "execution_count": 14,
   "metadata": {},
   "outputs": [
    {
     "data": {
      "text/plain": [
       "(3, 230)"
      ]
     },
     "execution_count": 14,
     "metadata": {},
     "output_type": "execute_result"
    }
   ],
   "source": [
    "sorted([(gradeLevel,sum([1 for graLev in studentArray['grade_level'] if graLev==gradeLevel]))\n",
    " for gradeLevel in gradeLevels],key=lambda x: -x[1])[0]"
   ]
  },
  {
   "cell_type": "markdown",
   "metadata": {},
   "source": [
    "### Which school had the highest attendance rate? The lowest?"
   ]
  },
  {
   "cell_type": "code",
   "execution_count": 84,
   "metadata": {
    "collapsed": true
   },
   "outputs": [],
   "source": [
    "studentIDtoSchoolID={stid:scid for stid,scid \n",
    "                     in zip(studentArray['student_id'],studentArray['school_id'])}\n",
    "schoolIDs=set(studentArray['school_id'])"
   ]
  },
  {
   "cell_type": "code",
   "execution_count": 85,
   "metadata": {
    "collapsed": true
   },
   "outputs": [],
   "source": [
    "totStudentsPerSchool={scid: 0 for scid in schoolIDs}\n",
    "for scid in studentArray['school_id']:\n",
    "    totStudentsPerSchool[scid]+=1"
   ]
  },
  {
   "cell_type": "code",
   "execution_count": 86,
   "metadata": {
    "collapsed": true
   },
   "outputs": [],
   "source": [
    "totDays=len(set(attendenceArray['date']))"
   ]
  },
  {
   "cell_type": "code",
   "execution_count": 87,
   "metadata": {
    "collapsed": true
   },
   "outputs": [],
   "source": [
    "attendenceCount={scid: 0 for scid in schoolIDs}\n",
    "for studentID,attendance in zip(\n",
    "            attendenceArray['student_id'],attendenceArray['attendance']):\n",
    "    attendenceCount[studentIDtoSchoolID[studentID]]+=attendance"
   ]
  },
  {
   "cell_type": "code",
   "execution_count": 88,
   "metadata": {},
   "outputs": [
    {
     "name": "stdout",
     "output_type": "stream",
     "text": [
      "0.0626427444609\n",
      "0.0924620015529\n",
      "0.0880191278133\n",
      "0.0853425312479\n"
     ]
    }
   ],
   "source": [
    "for scid in schoolIDs:\n",
    "    print float(attendenceCount[scid])/float(totStudentsPerSchool[scid])/float(totDays)"
   ]
  },
  {
   "cell_type": "markdown",
   "metadata": {},
   "source": [
    "### What was the overall attendance rate for the school district on 2010-03-09?\n",
    "\n",
    "attendenceArray={'date':[],'student_id':[],'attendance':[]}\n",
    "\n",
    "studentArray={'student_id':[],'school_id':[],'grade_level':[]}"
   ]
  },
  {
   "cell_type": "code",
   "execution_count": 5,
   "metadata": {},
   "outputs": [
    {
     "data": {
      "text/plain": [
       "0.085"
      ]
     },
     "execution_count": 5,
     "metadata": {},
     "output_type": "execute_result"
    }
   ],
   "source": [
    "float(sum([attendance for date,attendance in \n",
    "     zip(attendenceArray['date'],attendenceArray['attendance']) if date=='2010-03-09']))/\\\n",
    "float(len([attendance for date,attendance in \n",
    "     zip(attendenceArray['date'],attendenceArray['attendance']) if date=='2010-03-09']))\n"
   ]
  },
  {
   "cell_type": "markdown",
   "metadata": {},
   "source": [
    "### Which school had the highest attendance rate? The lowest?"
   ]
  },
  {
   "cell_type": "code",
   "execution_count": 19,
   "metadata": {},
   "outputs": [
    {
     "data": {
      "text/plain": [
       "(4, 0.09792231825542026)"
      ]
     },
     "execution_count": 19,
     "metadata": {},
     "output_type": "execute_result"
    }
   ],
   "source": [
    "studentIDToSchoolID={stid:scid for stid,scid in zip(studentArray['student_id'],studentArray['school_id'])}\n",
    "sumDic={}\n",
    "countDic={}\n",
    "for stid,att in zip(attendenceArray['student_id'],attendenceArray['attendance']):\n",
    "    scid=studentIDToSchoolID[stid]\n",
    "    if scid in sumDic:\n",
    "        sumDic[scid]+=att\n",
    "    else:\n",
    "        sumDic[scid]=att\n",
    "    \n",
    "    if scid in countDic:\n",
    "        countDic[scid]+=1\n",
    "    else:\n",
    "        countDic[scid]=1\n",
    "    \n",
    "sorted({key: float(sumDic[key])/float(countDic[key]) for key in sumDic}.items(),key=lambda x: -x[1])[0]"
   ]
  },
  {
   "cell_type": "markdown",
   "metadata": {},
   "source": [
    "### Which grade level currently has the most students in this school district?\n",
    "\n",
    "attendenceArray={'date':[],'student_id':[],'attendance':[]}\n",
    "\n",
    "studentArray={'student_id':[],'school_id':[],'grade_level':[]}"
   ]
  },
  {
   "cell_type": "code",
   "execution_count": 9,
   "metadata": {
    "collapsed": true
   },
   "outputs": [],
   "source": [
    "gradeCount={}\n",
    "for grade in studentArray['grade_level']:\n",
    "    if grade in gradeCount:\n",
    "        gradeCount[grade]+=1\n",
    "    else:\n",
    "        gradeCount[grade]=1"
   ]
  },
  {
   "cell_type": "code",
   "execution_count": 12,
   "metadata": {},
   "outputs": [
    {
     "data": {
      "text/plain": [
       "(3, 230)"
      ]
     },
     "execution_count": 12,
     "metadata": {},
     "output_type": "execute_result"
    }
   ],
   "source": [
    "sorted(gradeCount.items(),key=lambda x: -x[1])[0]"
   ]
  },
  {
   "cell_type": "code",
   "execution_count": 36,
   "metadata": {
    "collapsed": true
   },
   "outputs": [],
   "source": [
    "from pandasql import *"
   ]
  },
  {
   "cell_type": "code",
   "execution_count": 35,
   "metadata": {
    "collapsed": true
   },
   "outputs": [],
   "source": [
    "import pandas as pd"
   ]
  },
  {
   "cell_type": "code",
   "execution_count": 90,
   "metadata": {
    "collapsed": true
   },
   "outputs": [],
   "source": [
    "attendanceDF=pd.DataFrame(attendenceArray)"
   ]
  },
  {
   "cell_type": "code",
   "execution_count": 91,
   "metadata": {
    "collapsed": true
   },
   "outputs": [],
   "source": [
    "studentDF=pd.DataFrame(studentArray)"
   ]
  },
  {
   "cell_type": "code",
   "execution_count": 37,
   "metadata": {
    "collapsed": true
   },
   "outputs": [],
   "source": [
    "pysqldf = lambda q: sqldf(q, globals())"
   ]
  },
  {
   "cell_type": "code",
   "execution_count": null,
   "metadata": {
    "collapsed": true
   },
   "outputs": [],
   "source": []
  },
  {
   "cell_type": "markdown",
   "metadata": {},
   "source": [
    "### What was the overall attendance rate for the school district on 2010-03-09?\n",
    "\n",
    "attendenceArray={'date':[],'student_id':[],'attendance':[]}\n",
    "\n",
    "studentArray={'student_id':[],'school_id':[],'grade_level':[]}"
   ]
  },
  {
   "cell_type": "code",
   "execution_count": 101,
   "metadata": {
    "collapsed": true
   },
   "outputs": [],
   "source": [
    "q  = \"\"\"\n",
    "SELECT\n",
    "  CAST(sum(attendance) AS float)/cast(count(attendance) AS float)\n",
    "FROM\n",
    "  attendanceDF\n",
    "WHERE date=='2010-03-09'\n",
    "\"\"\""
   ]
  },
  {
   "cell_type": "code",
   "execution_count": 102,
   "metadata": {},
   "outputs": [
    {
     "data": {
      "text/html": [
       "<div>\n",
       "<style scoped>\n",
       "    .dataframe tbody tr th:only-of-type {\n",
       "        vertical-align: middle;\n",
       "    }\n",
       "\n",
       "    .dataframe tbody tr th {\n",
       "        vertical-align: top;\n",
       "    }\n",
       "\n",
       "    .dataframe thead th {\n",
       "        text-align: right;\n",
       "    }\n",
       "</style>\n",
       "<table border=\"1\" class=\"dataframe\">\n",
       "  <thead>\n",
       "    <tr style=\"text-align: right;\">\n",
       "      <th></th>\n",
       "      <th>CAST(sum(attendance) AS float)/cast(count(attendance) AS float)</th>\n",
       "    </tr>\n",
       "  </thead>\n",
       "  <tbody>\n",
       "    <tr>\n",
       "      <th>0</th>\n",
       "      <td>0.078</td>\n",
       "    </tr>\n",
       "  </tbody>\n",
       "</table>\n",
       "</div>"
      ],
      "text/plain": [
       "   CAST(sum(attendance) AS float)/cast(count(attendance) AS float)\n",
       "0                                              0.078              "
      ]
     },
     "execution_count": 102,
     "metadata": {},
     "output_type": "execute_result"
    }
   ],
   "source": [
    "pysqldf(q)"
   ]
  },
  {
   "cell_type": "markdown",
   "metadata": {},
   "source": [
    "### Which grade level currently has the most students in this school district?\n",
    "\n",
    "attendenceArray={'date':[],'student_id':[],'attendance':[]}\n",
    "\n",
    "studentArray={'student_id':[],'school_id':[],'grade_level':[]}"
   ]
  },
  {
   "cell_type": "code",
   "execution_count": 108,
   "metadata": {
    "collapsed": true
   },
   "outputs": [],
   "source": [
    "q  = \"\"\"\n",
    "SELECT\n",
    "  count(*) AS count,grade_level\n",
    "FROM\n",
    "  studentDF\n",
    "GROUP BY grade_level\n",
    "ORDER BY count DESC\n",
    "LIMIT 1\n",
    "\"\"\""
   ]
  },
  {
   "cell_type": "code",
   "execution_count": 109,
   "metadata": {},
   "outputs": [
    {
     "data": {
      "text/html": [
       "<div>\n",
       "<style scoped>\n",
       "    .dataframe tbody tr th:only-of-type {\n",
       "        vertical-align: middle;\n",
       "    }\n",
       "\n",
       "    .dataframe tbody tr th {\n",
       "        vertical-align: top;\n",
       "    }\n",
       "\n",
       "    .dataframe thead th {\n",
       "        text-align: right;\n",
       "    }\n",
       "</style>\n",
       "<table border=\"1\" class=\"dataframe\">\n",
       "  <thead>\n",
       "    <tr style=\"text-align: right;\">\n",
       "      <th></th>\n",
       "      <th>count</th>\n",
       "      <th>grade_level</th>\n",
       "    </tr>\n",
       "  </thead>\n",
       "  <tbody>\n",
       "    <tr>\n",
       "      <th>0</th>\n",
       "      <td>209</td>\n",
       "      <td>3</td>\n",
       "    </tr>\n",
       "  </tbody>\n",
       "</table>\n",
       "</div>"
      ],
      "text/plain": [
       "   count  grade_level\n",
       "0    209            3"
      ]
     },
     "execution_count": 109,
     "metadata": {},
     "output_type": "execute_result"
    }
   ],
   "source": [
    "pysqldf(q)"
   ]
  },
  {
   "cell_type": "markdown",
   "metadata": {},
   "source": [
    "### Which school had the highest attendance rate? The lowest?"
   ]
  },
  {
   "cell_type": "code",
   "execution_count": 154,
   "metadata": {
    "collapsed": true
   },
   "outputs": [],
   "source": [
    "q  = \"\"\"\n",
    "SELECT\n",
    "  studentDF.school_id as school_id,\n",
    "  CAST(sum(attendanceDF.attendance) AS float)/CAST(count(attendanceDF.attendance) AS float) \n",
    "      as frac\n",
    "FROM\n",
    "  attendanceDF\n",
    "JOIN studentDF ON attendanceDF.student_id==studentDF.student_id\n",
    "GROUP BY studentDF.school_id \n",
    "\"\"\""
   ]
  },
  {
   "cell_type": "code",
   "execution_count": 155,
   "metadata": {},
   "outputs": [
    {
     "data": {
      "text/html": [
       "<div>\n",
       "<style scoped>\n",
       "    .dataframe tbody tr th:only-of-type {\n",
       "        vertical-align: middle;\n",
       "    }\n",
       "\n",
       "    .dataframe tbody tr th {\n",
       "        vertical-align: top;\n",
       "    }\n",
       "\n",
       "    .dataframe thead th {\n",
       "        text-align: right;\n",
       "    }\n",
       "</style>\n",
       "<table border=\"1\" class=\"dataframe\">\n",
       "  <thead>\n",
       "    <tr style=\"text-align: right;\">\n",
       "      <th></th>\n",
       "      <th>school_id</th>\n",
       "      <th>frac</th>\n",
       "    </tr>\n",
       "  </thead>\n",
       "  <tbody>\n",
       "    <tr>\n",
       "      <th>0</th>\n",
       "      <td>1</td>\n",
       "      <td>0.062643</td>\n",
       "    </tr>\n",
       "    <tr>\n",
       "      <th>1</th>\n",
       "      <td>2</td>\n",
       "      <td>0.092462</td>\n",
       "    </tr>\n",
       "    <tr>\n",
       "      <th>2</th>\n",
       "      <td>3</td>\n",
       "      <td>0.088019</td>\n",
       "    </tr>\n",
       "    <tr>\n",
       "      <th>3</th>\n",
       "      <td>4</td>\n",
       "      <td>0.085343</td>\n",
       "    </tr>\n",
       "  </tbody>\n",
       "</table>\n",
       "</div>"
      ],
      "text/plain": [
       "   school_id      frac\n",
       "0          1  0.062643\n",
       "1          2  0.092462\n",
       "2          3  0.088019\n",
       "3          4  0.085343"
      ]
     },
     "execution_count": 155,
     "metadata": {},
     "output_type": "execute_result"
    }
   ],
   "source": [
    "pysqldf(q)"
   ]
  },
  {
   "cell_type": "markdown",
   "metadata": {
    "collapsed": true
   },
   "source": [
    "Given an event-level table of interactions between pairs of users (note that there aren't duplicates in one day for one pair of users), for each possible number of \"people interacted with\" find the count for that group in a given day (i.e. 10 people interacted with only one person, 20 with 2, etc.).  "
   ]
  },
  {
   "cell_type": "code",
   "execution_count": 21,
   "metadata": {
    "collapsed": true
   },
   "outputs": [],
   "source": [
    "arrayUserPairs=[sorted([int((random()*10)**2),int((random()*10)**2)]) for _ in range(1000)]"
   ]
  },
  {
   "cell_type": "code",
   "execution_count": 27,
   "metadata": {
    "collapsed": true
   },
   "outputs": [],
   "source": [
    "userInteractionCount={}\n",
    "for pair in arrayUserPairs:\n",
    "    for user in pair:\n",
    "        if user in userInteractionCount:\n",
    "            userInteractionCount[user]+=1\n",
    "        else:\n",
    "            userInteractionCount[user]=1"
   ]
  },
  {
   "cell_type": "code",
   "execution_count": 28,
   "metadata": {
    "collapsed": true
   },
   "outputs": [],
   "source": [
    "countOfCounts={}\n",
    "for user in userInteractionCount:\n",
    "    if userInteractionCount[user] in countOfCounts:\n",
    "        countOfCounts[userInteractionCount[user]]+=1\n",
    "    else:\n",
    "        countOfCounts[userInteractionCount[user]]=1"
   ]
  },
  {
   "cell_type": "code",
   "execution_count": 29,
   "metadata": {
    "scrolled": true
   },
   "outputs": [
    {
     "data": {
      "text/plain": [
       "{6: 2,\n",
       " 7: 4,\n",
       " 8: 2,\n",
       " 9: 6,\n",
       " 10: 8,\n",
       " 11: 4,\n",
       " 12: 6,\n",
       " 13: 8,\n",
       " 14: 3,\n",
       " 15: 10,\n",
       " 16: 4,\n",
       " 17: 4,\n",
       " 18: 3,\n",
       " 19: 5,\n",
       " 20: 5,\n",
       " 21: 2,\n",
       " 22: 3,\n",
       " 23: 4,\n",
       " 24: 2,\n",
       " 25: 1,\n",
       " 26: 1,\n",
       " 28: 1,\n",
       " 31: 2,\n",
       " 33: 1,\n",
       " 34: 1,\n",
       " 36: 1,\n",
       " 37: 1,\n",
       " 47: 1,\n",
       " 49: 1,\n",
       " 52: 1,\n",
       " 67: 1,\n",
       " 79: 1,\n",
       " 194: 1}"
      ]
     },
     "execution_count": 29,
     "metadata": {},
     "output_type": "execute_result"
    }
   ],
   "source": [
    "countOfCounts"
   ]
  },
  {
   "cell_type": "code",
   "execution_count": 26,
   "metadata": {},
   "outputs": [
    {
     "name": "stdout",
     "output_type": "stream",
     "text": [
      "{6: 2, 7: 4, 8: 2, 9: 6, 10: 8, 11: 4, 12: 6, 13: 8, 14: 3, 15: 10, 16: 4, 17: 4, 18: 3, 19: 5, 20: 5, 21: 2, 22: 3, 23: 4, 24: 2, 25: 1, 26: 1, 28: 1, 31: 2, 33: 1, 34: 1, 36: 1, 37: 1, 47: 1, 49: 1, 52: 1, 194: 1, 67: 1, 79: 1}\n"
     ]
    }
   ],
   "source": [
    "countDic={}\n",
    "for pair in arrayUserPairs:\n",
    "    for user in pair:\n",
    "        if user in countDic:\n",
    "            countDic[user]+=1\n",
    "        else:\n",
    "            countDic[user]=1\n",
    "countOfcounts={}\n",
    "for count in countDic.values():\n",
    "    if count in countOfcounts:\n",
    "        countOfcounts[count]+=1\n",
    "    else: \n",
    "        countOfcounts[count]=1\n",
    "print countOfcounts"
   ]
  },
  {
   "cell_type": "code",
   "execution_count": 173,
   "metadata": {
    "collapsed": true
   },
   "outputs": [],
   "source": [
    "userPairsDF=pd.DataFrame([{'u1':pairs[0],'u2':pairs[1]} for pairs in arrayUserPairs])"
   ]
  },
  {
   "cell_type": "code",
   "execution_count": 174,
   "metadata": {
    "collapsed": true
   },
   "outputs": [],
   "source": [
    "pysqldf = lambda q: sqldf(q, globals())"
   ]
  },
  {
   "cell_type": "code",
   "execution_count": 185,
   "metadata": {
    "collapsed": true
   },
   "outputs": [],
   "source": [
    "q  = \"\"\"\n",
    "SELECT \n",
    "    countU,count(countU) as countOfCount\n",
    "FROM\n",
    "    (SELECT\n",
    "        uall,count(uall) as countU\n",
    "    FROM \n",
    "        (SELECT\n",
    "          u1 AS uall\n",
    "        FROM\n",
    "          userPairsDF\n",
    "        UNION ALL\n",
    "        SELECT\n",
    "          u2\n",
    "        FROM\n",
    "          userPairsDF)\n",
    "    GROUP BY uall)\n",
    "GROUP BY countU\n",
    "\n",
    "\"\"\""
   ]
  },
  {
   "cell_type": "code",
   "execution_count": 186,
   "metadata": {
    "scrolled": true
   },
   "outputs": [
    {
     "data": {
      "text/html": [
       "<div>\n",
       "<style scoped>\n",
       "    .dataframe tbody tr th:only-of-type {\n",
       "        vertical-align: middle;\n",
       "    }\n",
       "\n",
       "    .dataframe tbody tr th {\n",
       "        vertical-align: top;\n",
       "    }\n",
       "\n",
       "    .dataframe thead th {\n",
       "        text-align: right;\n",
       "    }\n",
       "</style>\n",
       "<table border=\"1\" class=\"dataframe\">\n",
       "  <thead>\n",
       "    <tr style=\"text-align: right;\">\n",
       "      <th></th>\n",
       "      <th>countU</th>\n",
       "      <th>countOfCount</th>\n",
       "    </tr>\n",
       "  </thead>\n",
       "  <tbody>\n",
       "    <tr>\n",
       "      <th>0</th>\n",
       "      <td>5</td>\n",
       "      <td>1</td>\n",
       "    </tr>\n",
       "    <tr>\n",
       "      <th>1</th>\n",
       "      <td>6</td>\n",
       "      <td>4</td>\n",
       "    </tr>\n",
       "    <tr>\n",
       "      <th>2</th>\n",
       "      <td>7</td>\n",
       "      <td>6</td>\n",
       "    </tr>\n",
       "    <tr>\n",
       "      <th>3</th>\n",
       "      <td>8</td>\n",
       "      <td>3</td>\n",
       "    </tr>\n",
       "    <tr>\n",
       "      <th>4</th>\n",
       "      <td>9</td>\n",
       "      <td>7</td>\n",
       "    </tr>\n",
       "    <tr>\n",
       "      <th>5</th>\n",
       "      <td>10</td>\n",
       "      <td>3</td>\n",
       "    </tr>\n",
       "    <tr>\n",
       "      <th>6</th>\n",
       "      <td>11</td>\n",
       "      <td>3</td>\n",
       "    </tr>\n",
       "    <tr>\n",
       "      <th>7</th>\n",
       "      <td>12</td>\n",
       "      <td>4</td>\n",
       "    </tr>\n",
       "    <tr>\n",
       "      <th>8</th>\n",
       "      <td>13</td>\n",
       "      <td>7</td>\n",
       "    </tr>\n",
       "    <tr>\n",
       "      <th>9</th>\n",
       "      <td>14</td>\n",
       "      <td>4</td>\n",
       "    </tr>\n",
       "    <tr>\n",
       "      <th>10</th>\n",
       "      <td>15</td>\n",
       "      <td>7</td>\n",
       "    </tr>\n",
       "    <tr>\n",
       "      <th>11</th>\n",
       "      <td>16</td>\n",
       "      <td>6</td>\n",
       "    </tr>\n",
       "    <tr>\n",
       "      <th>12</th>\n",
       "      <td>17</td>\n",
       "      <td>9</td>\n",
       "    </tr>\n",
       "    <tr>\n",
       "      <th>13</th>\n",
       "      <td>18</td>\n",
       "      <td>3</td>\n",
       "    </tr>\n",
       "    <tr>\n",
       "      <th>14</th>\n",
       "      <td>19</td>\n",
       "      <td>3</td>\n",
       "    </tr>\n",
       "    <tr>\n",
       "      <th>15</th>\n",
       "      <td>20</td>\n",
       "      <td>6</td>\n",
       "    </tr>\n",
       "    <tr>\n",
       "      <th>16</th>\n",
       "      <td>21</td>\n",
       "      <td>2</td>\n",
       "    </tr>\n",
       "    <tr>\n",
       "      <th>17</th>\n",
       "      <td>22</td>\n",
       "      <td>1</td>\n",
       "    </tr>\n",
       "    <tr>\n",
       "      <th>18</th>\n",
       "      <td>23</td>\n",
       "      <td>2</td>\n",
       "    </tr>\n",
       "    <tr>\n",
       "      <th>19</th>\n",
       "      <td>24</td>\n",
       "      <td>3</td>\n",
       "    </tr>\n",
       "    <tr>\n",
       "      <th>20</th>\n",
       "      <td>25</td>\n",
       "      <td>1</td>\n",
       "    </tr>\n",
       "    <tr>\n",
       "      <th>21</th>\n",
       "      <td>26</td>\n",
       "      <td>1</td>\n",
       "    </tr>\n",
       "    <tr>\n",
       "      <th>22</th>\n",
       "      <td>27</td>\n",
       "      <td>2</td>\n",
       "    </tr>\n",
       "    <tr>\n",
       "      <th>23</th>\n",
       "      <td>31</td>\n",
       "      <td>1</td>\n",
       "    </tr>\n",
       "    <tr>\n",
       "      <th>24</th>\n",
       "      <td>32</td>\n",
       "      <td>1</td>\n",
       "    </tr>\n",
       "    <tr>\n",
       "      <th>25</th>\n",
       "      <td>33</td>\n",
       "      <td>1</td>\n",
       "    </tr>\n",
       "    <tr>\n",
       "      <th>26</th>\n",
       "      <td>34</td>\n",
       "      <td>1</td>\n",
       "    </tr>\n",
       "    <tr>\n",
       "      <th>27</th>\n",
       "      <td>37</td>\n",
       "      <td>1</td>\n",
       "    </tr>\n",
       "    <tr>\n",
       "      <th>28</th>\n",
       "      <td>41</td>\n",
       "      <td>1</td>\n",
       "    </tr>\n",
       "    <tr>\n",
       "      <th>29</th>\n",
       "      <td>43</td>\n",
       "      <td>1</td>\n",
       "    </tr>\n",
       "    <tr>\n",
       "      <th>30</th>\n",
       "      <td>48</td>\n",
       "      <td>1</td>\n",
       "    </tr>\n",
       "    <tr>\n",
       "      <th>31</th>\n",
       "      <td>53</td>\n",
       "      <td>1</td>\n",
       "    </tr>\n",
       "    <tr>\n",
       "      <th>32</th>\n",
       "      <td>67</td>\n",
       "      <td>1</td>\n",
       "    </tr>\n",
       "    <tr>\n",
       "      <th>33</th>\n",
       "      <td>92</td>\n",
       "      <td>1</td>\n",
       "    </tr>\n",
       "    <tr>\n",
       "      <th>34</th>\n",
       "      <td>201</td>\n",
       "      <td>1</td>\n",
       "    </tr>\n",
       "  </tbody>\n",
       "</table>\n",
       "</div>"
      ],
      "text/plain": [
       "    countU  countOfCount\n",
       "0        5             1\n",
       "1        6             4\n",
       "2        7             6\n",
       "3        8             3\n",
       "4        9             7\n",
       "5       10             3\n",
       "6       11             3\n",
       "7       12             4\n",
       "8       13             7\n",
       "9       14             4\n",
       "10      15             7\n",
       "11      16             6\n",
       "12      17             9\n",
       "13      18             3\n",
       "14      19             3\n",
       "15      20             6\n",
       "16      21             2\n",
       "17      22             1\n",
       "18      23             2\n",
       "19      24             3\n",
       "20      25             1\n",
       "21      26             1\n",
       "22      27             2\n",
       "23      31             1\n",
       "24      32             1\n",
       "25      33             1\n",
       "26      34             1\n",
       "27      37             1\n",
       "28      41             1\n",
       "29      43             1\n",
       "30      48             1\n",
       "31      53             1\n",
       "32      67             1\n",
       "33      92             1\n",
       "34     201             1"
      ]
     },
     "execution_count": 186,
     "metadata": {},
     "output_type": "execute_result"
    }
   ],
   "source": [
    "pysqldf(q)"
   ]
  },
  {
   "cell_type": "markdown",
   "metadata": {},
   "source": [
    "You have a table with appID, eventID, and timestamp. eventID is either 'click' or 'impression'. Calculate the click through rate. Now do it in for each app.  "
   ]
  },
  {
   "cell_type": "code",
   "execution_count": 45,
   "metadata": {
    "collapsed": true
   },
   "outputs": [],
   "source": [
    "arrayEvent=[{'appID':randint(1,50),\n",
    "             'eventID': 'click' if randint(0,1)==0  else 'impression'} \n",
    "            for _ in range(10000)]"
   ]
  },
  {
   "cell_type": "code",
   "execution_count": 32,
   "metadata": {},
   "outputs": [
    {
     "name": "stdout",
     "output_type": "stream",
     "text": [
      "1.12765957447\n"
     ]
    }
   ],
   "source": [
    "countImp=0\n",
    "countCli=0\n",
    "for event in arrayEvent:\n",
    "    if event['eventID']=='impression':\n",
    "        countImp+=1\n",
    "    else:\n",
    "        countCli+=1\n",
    "print float(countCli)/float(countImp)"
   ]
  },
  {
   "cell_type": "code",
   "execution_count": 46,
   "metadata": {},
   "outputs": [
    {
     "name": "stdout",
     "output_type": "stream",
     "text": [
      "{1: 1.3214285714285714, 2: 1.141304347826087, 3: 1.1979166666666667, 4: 1.3544303797468353, 5: 1.1262135922330097, 6: 0.8910891089108911, 7: 1.123456790123457, 8: 1.1777777777777778, 9: 0.9807692307692307, 10: 1.141304347826087, 11: 1.2409638554216869, 12: 1.0408163265306123, 13: 0.8910891089108911, 14: 0.6821705426356589, 15: 1.05, 16: 0.8737864077669902, 17: 1.1547619047619047, 18: 0.845360824742268, 19: 0.98, 20: 0.8584070796460177, 21: 1.0, 22: 0.8314606741573034, 23: 1.0638297872340425, 24: 1.2083333333333333, 25: 0.9523809523809523, 26: 1.02, 27: 1.1935483870967742, 28: 0.8181818181818182, 29: 1.0681818181818181, 30: 1.2210526315789474, 31: 1.0480769230769231, 32: 0.8532110091743119, 33: 0.7747747747747747, 34: 0.8425925925925926, 35: 1.0252100840336134, 36: 0.9345794392523364, 37: 0.8347107438016529, 38: 1.2291666666666667, 39: 1.0606060606060606, 40: 1.127659574468085, 41: 1.0833333333333333, 42: 1.0416666666666667, 43: 1.2127659574468086, 44: 0.8317757009345794, 45: 1.0192307692307692, 46: 1.1, 47: 0.7804878048780488, 48: 0.8256880733944955, 49: 0.9279279279279279, 50: 1.0260869565217392}\n"
     ]
    }
   ],
   "source": [
    "countImp={}\n",
    "countCli={}\n",
    "for event in arrayEvent:\n",
    "    if event['eventID']=='impression':\n",
    "        if event['appID'] in countImp:\n",
    "            countImp[event['appID']]+=1\n",
    "        else:\n",
    "            countImp[event['appID']]=1\n",
    "    else:\n",
    "        if event['appID'] in countCli:\n",
    "            countCli[event['appID']]+=1\n",
    "        else:\n",
    "            countCli[event['appID']]=1\n",
    "print {key:float(countCli[key])/float(countImp[key]) for key in countImp}"
   ]
  },
  {
   "cell_type": "code",
   "execution_count": 38,
   "metadata": {
    "collapsed": true,
    "scrolled": true
   },
   "outputs": [],
   "source": [
    "eventDF=pd.DataFrame(arrayEvent)"
   ]
  },
  {
   "cell_type": "code",
   "execution_count": 39,
   "metadata": {
    "collapsed": true
   },
   "outputs": [],
   "source": [
    "pysqldf = lambda q: sqldf(q, globals())"
   ]
  },
  {
   "cell_type": "code",
   "execution_count": 40,
   "metadata": {
    "collapsed": true
   },
   "outputs": [],
   "source": [
    "q  = \"\"\"\n",
    "SELECT \n",
    "    CAST(sum(CASE WHEN eventID=='click' THEN 1 ELSE 0 END) AS float)/CAST(sum(CASE WHEN eventID=='impression' THEN 1 ELSE 0 END) AS float)\n",
    "FROM\n",
    "    eventDF\n",
    "\"\"\""
   ]
  },
  {
   "cell_type": "code",
   "execution_count": 41,
   "metadata": {},
   "outputs": [
    {
     "data": {
      "text/html": [
       "<div>\n",
       "<style scoped>\n",
       "    .dataframe tbody tr th:only-of-type {\n",
       "        vertical-align: middle;\n",
       "    }\n",
       "\n",
       "    .dataframe tbody tr th {\n",
       "        vertical-align: top;\n",
       "    }\n",
       "\n",
       "    .dataframe thead th {\n",
       "        text-align: right;\n",
       "    }\n",
       "</style>\n",
       "<table border=\"1\" class=\"dataframe\">\n",
       "  <thead>\n",
       "    <tr style=\"text-align: right;\">\n",
       "      <th></th>\n",
       "      <th>CAST(sum(CASE WHEN eventID=='click' THEN 1 ELSE 0 END) AS float)/CAST(sum(CASE WHEN eventID=='impression' THEN 1 ELSE 0 END) AS float)</th>\n",
       "    </tr>\n",
       "  </thead>\n",
       "  <tbody>\n",
       "    <tr>\n",
       "      <th>0</th>\n",
       "      <td>1.12766</td>\n",
       "    </tr>\n",
       "  </tbody>\n",
       "</table>\n",
       "</div>"
      ],
      "text/plain": [
       "   CAST(sum(CASE WHEN eventID=='click' THEN 1 ELSE 0 END) AS float)/CAST(sum(CASE WHEN eventID=='impression' THEN 1 ELSE 0 END) AS float)\n",
       "0                                            1.12766                                                                                     "
      ]
     },
     "execution_count": 41,
     "metadata": {},
     "output_type": "execute_result"
    }
   ],
   "source": [
    "pysqldf(q)"
   ]
  },
  {
   "cell_type": "markdown",
   "metadata": {
    "collapsed": true
   },
   "source": [
    "Given a table of friend requests sent and friend requests received, find the user with the most friends."
   ]
  },
  {
   "cell_type": "code",
   "execution_count": 48,
   "metadata": {
    "collapsed": true
   },
   "outputs": [],
   "source": [
    "arrayUserPairs=[sorted([int((random()*10)**2),int((random()*10)**2)]) for _ in range(1000)]"
   ]
  },
  {
   "cell_type": "code",
   "execution_count": 49,
   "metadata": {
    "collapsed": true
   },
   "outputs": [],
   "source": [
    "countFr={}\n",
    "for pairs in arrayUserPairs:\n",
    "    for user in pairs:\n",
    "        if user in countFr:\n",
    "            countFr[user]+=1\n",
    "        else:\n",
    "            countFr[user]=1"
   ]
  },
  {
   "cell_type": "code",
   "execution_count": null,
   "metadata": {
    "collapsed": true
   },
   "outputs": [],
   "source": []
  },
  {
   "cell_type": "code",
   "execution_count": 17,
   "metadata": {
    "collapsed": true
   },
   "outputs": [],
   "source": [
    "def getSubSet(array):\n",
    "    if len(array)==0:\n",
    "        return array\n",
    "    else:\n",
    "        newArray=getSubSet(array[:-1])\n",
    "        if len(newArray)==0:\n",
    "            return [[],[array[0]]]\n",
    "        return [x for x in newArray]+[x+[array[-1]] for x in newArray]"
   ]
  },
  {
   "cell_type": "code",
   "execution_count": 18,
   "metadata": {},
   "outputs": [
    {
     "data": {
      "text/plain": [
       "[[], [1], [2], [1, 2], [3], [1, 3], [2, 3], [1, 2, 3]]"
      ]
     },
     "execution_count": 18,
     "metadata": {},
     "output_type": "execute_result"
    }
   ],
   "source": [
    "getSubSet([1,2,3])"
   ]
  },
  {
   "cell_type": "code",
   "execution_count": null,
   "metadata": {
    "collapsed": true
   },
   "outputs": [],
   "source": []
  },
  {
   "cell_type": "code",
   "execution_count": null,
   "metadata": {
    "collapsed": true
   },
   "outputs": [],
   "source": []
  },
  {
   "cell_type": "code",
   "execution_count": 9,
   "metadata": {
    "collapsed": true
   },
   "outputs": [],
   "source": [
    "import numpy as np\n",
    "import matplotlib.pyplot as plt\n",
    "from scipy.stats import chi2"
   ]
  },
  {
   "cell_type": "code",
   "execution_count": 20,
   "metadata": {},
   "outputs": [
    {
     "data": {
      "text/plain": [
       "500.00000001129627"
      ]
     },
     "execution_count": 20,
     "metadata": {},
     "output_type": "execute_result"
    }
   ],
   "source": [
    "x=np.arange(0,100,0.01)\n",
    "\n",
    "np.sum([chi2.pdf(xi, 5)*xi for xi in x])"
   ]
  },
  {
   "cell_type": "code",
   "execution_count": null,
   "metadata": {
    "collapsed": true
   },
   "outputs": [],
   "source": []
  },
  {
   "cell_type": "code",
   "execution_count": 43,
   "metadata": {
    "collapsed": true
   },
   "outputs": [],
   "source": [
    "y5=[sum([np.random.normal()**2 for _ in range(5)])\n",
    "          for _ in range(100000)]\n",
    "y50=[sum([np.random.normal()**2 for _ in range(50)]) \n",
    "          for _ in range(100000)]"
   ]
  },
  {
   "cell_type": "code",
   "execution_count": 45,
   "metadata": {},
   "outputs": [
    {
     "data": {
      "image/png": "[encoded data removed]",
      "text/plain": [
       "<matplotlib.figure.Figure at 0x107e23910>"
      ]
     },
     "metadata": {},
     "output_type": "display_data"
    }
   ],
   "source": [
    "plt.hist(y5,500,alpha=.5,normed=True)\n",
    "plt.hist(y50,500,alpha=.5,normed=True)\n",
    "x=np.arange(0,100,0.01)\n",
    "plt.plot(x,chi2.pdf(x, 5))\n",
    "plt.plot(x,chi2.pdf(x, 50))\n",
    "\n",
    "plt.show()"
   ]
  },
  {
   "cell_type": "code",
   "execution_count": 6,
   "metadata": {
    "collapsed": true
   },
   "outputs": [],
   "source": [
    "import random\n",
    "import math"
   ]
  },
  {
   "cell_type": "code",
   "execution_count": 13,
   "metadata": {
    "collapsed": true
   },
   "outputs": [],
   "source": [
    "import matplotlib.pyplot as plt"
   ]
  },
  {
   "cell_type": "code",
   "execution_count": 23,
   "metadata": {
    "collapsed": true
   },
   "outputs": [],
   "source": [
    "rs=[math.sqrt(random.random()) for _ in range(100000)]  \n",
    "thetas=[random.random()*2*math.pi for _ in range(100000)]  \n",
    "xs=[r*math.cos(theta) for r, theta in zip(rs,thetas)]\n",
    "ys=[r*math.sin(theta) for r, theta in zip(rs,thetas)]"
   ]
  },
  {
   "cell_type": "code",
   "execution_count": 26,
   "metadata": {},
   "outputs": [
    {
     "data": {
      "image/png": "[encoded data removed]",
      "text/plain": [
       "<matplotlib.figure.Figure at 0x1073b3d90>"
      ]
     },
     "metadata": {},
     "output_type": "display_data"
    }
   ],
   "source": [
    "plt.plot(xs,ys,'o',alpha=0.005)\n",
    "plt.show()"
   ]
  },
  {
   "cell_type": "code",
   "execution_count": null,
   "metadata": {
    "collapsed": true
   },
   "outputs": [],
   "source": []
  },
  {
   "cell_type": "code",
   "execution_count": 7,
   "metadata": {
    "collapsed": true
   },
   "outputs": [],
   "source": [
    "def findMedianSortedArrays(nums1,nums2):\n",
    "        while len(nums1)+len(nums2)>2:\n",
    "            if len(nums1)>0 and len(nums2)>0:\n",
    "                if nums1[0]<nums2[0]:\n",
    "                    nums1=nums1[1:]\n",
    "                else:\n",
    "                    nums2=nums2[1:]\n",
    "            elif len(nums1)>0:\n",
    "                nums1=nums1[1:]\n",
    "            else:\n",
    "                nums2=nums2[1:]\n",
    "\n",
    "\n",
    "            if len(nums1)>0 and len(nums2)>0:\n",
    "                if nums1[-1]>nums2[-1]:\n",
    "                    nums1=nums1[:-1]\n",
    "                else:\n",
    "                    nums2=nums2[:-1]\n",
    "            elif len(nums1)>0:\n",
    "                nums1=nums1[:-1]\n",
    "            else:\n",
    "                nums2=nums2[:-1]\n",
    "        nums=sorted(nums1+nums2)\n",
    "        if len(nums)==1:\n",
    "            return nums[0]\n",
    "        return float(nums[0]+nums[1])*0.5"
   ]
  },
  {
   "cell_type": "code",
   "execution_count": 10,
   "metadata": {},
   "outputs": [
    {
     "data": {
      "text/plain": [
       "8"
      ]
     },
     "execution_count": 10,
     "metadata": {},
     "output_type": "execute_result"
    }
   ],
   "source": [
    "nums1=[2,5,8,10,22,22]\n",
    "nums2=[-1,-1,7,21,22]\n",
    "findMedianSortedArrays(nums1,nums2)"
   ]
  },
  {
   "cell_type": "code",
   "execution_count": 6,
   "metadata": {
    "collapsed": true
   },
   "outputs": [],
   "source": [
    "nums=sorted(nums1+nums2)"
   ]
  },
  {
   "cell_type": "code",
   "execution_count": null,
   "metadata": {
    "collapsed": true
   },
   "outputs": [],
   "source": [
    "if len(nums)==1:\n",
    "    "
   ]
  },
  {
   "cell_type": "code",
   "execution_count": null,
   "metadata": {
    "collapsed": true
   },
   "outputs": [],
   "source": []
  },
  {
   "cell_type": "code",
   "execution_count": 14,
   "metadata": {
    "collapsed": true
   },
   "outputs": [],
   "source": [
    "array={\n",
    "    0:[1,2],\n",
    "    1:[0,2,5],\n",
    "    2:[0,1,3,4,5,6],\n",
    "    3:[2,4,6,7],\n",
    "    4:[2,3,6,7],\n",
    "    5:[1,2,6,8],\n",
    "    6:[2,3,4,5,8],\n",
    "    7:[3,4,6],\n",
    "    8:[5,6]\n",
    "}\n",
    "visNodes=[]\n",
    "arrayNew={key:array[key] for key in array}\n",
    "removeNodes=[]"
   ]
  },
  {
   "cell_type": "code",
   "execution_count": 24,
   "metadata": {
    "collapsed": true
   },
   "outputs": [],
   "source": [
    "k=3\n",
    "def func(curNode):\n",
    "        visNodes.append(curNode)\n",
    "        if len(array[curNode])-len([x for x in array[curNode] if x in removeNodes])<k:\n",
    "            removeNodes.append(curNode)\n",
    "        if all([x in visNodes for x in array[curNode]]):\n",
    "            return\n",
    "        func([x for x in array[curNode] if x not in visNodes][0])\n",
    "        if (len(array[curNode])-len([x for x in array[curNode] if x in removeNodes])<k and\n",
    "           curNode not in removeNodes):\n",
    "            removeNodes.append(curNode)"
   ]
  },
  {
   "cell_type": "code",
   "execution_count": 26,
   "metadata": {},
   "outputs": [
    {
     "data": {
      "text/plain": [
       "[0, 1, 8, 5]"
      ]
     },
     "execution_count": 26,
     "metadata": {},
     "output_type": "execute_result"
    }
   ],
   "source": [
    "removeNodes"
   ]
  },
  {
   "cell_type": "code",
   "execution_count": 25,
   "metadata": {
    "collapsed": true
   },
   "outputs": [],
   "source": [
    "array={\n",
    "    0:[1,2],\n",
    "    1:[0,2,5],\n",
    "    2:[0,1,3,4,5,6],\n",
    "    3:[2,4,6,7],\n",
    "    4:[2,3,6,7],\n",
    "    5:[1,2,6,8],\n",
    "    6:[2,3,4,5,7,8],\n",
    "    7:[3,4,6],\n",
    "    8:[5,6]\n",
    "}\n",
    "visNodes=[]\n",
    "arrayNew={key:array[key] for key in array}\n",
    "removeNodes=[]\n",
    "func(0)"
   ]
  },
  {
   "cell_type": "code",
   "execution_count": 1,
   "metadata": {
    "collapsed": true
   },
   "outputs": [],
   "source": [
    "array=[1,2,3,4,5]"
   ]
  },
  {
   "cell_type": "code",
   "execution_count": 1,
   "metadata": {
    "collapsed": true
   },
   "outputs": [],
   "source": [
    "from math import ceil,floor "
   ]
  },
  {
   "cell_type": "code",
   "execution_count": 143,
   "metadata": {},
   "outputs": [
    {
     "data": {
      "text/plain": [
       "6"
      ]
     },
     "execution_count": 143,
     "metadata": {},
     "output_type": "execute_result"
    }
   ],
   "source": [
    "m=[[0,0,1,0,0,0,0,1,0,0,0,0,0],\n",
    " [0,0,0,0,0,0,0,1,1,1,0,0,0],\n",
    " [0,1,1,0,1,0,0,0,0,0,0,0,0],\n",
    " [0,1,0,0,1,1,0,0,1,0,1,0,0],\n",
    " [0,1,0,0,1,1,0,0,1,1,1,0,0],\n",
    " [0,0,0,0,0,0,0,0,0,0,1,0,0],\n",
    " [0,0,0,0,0,0,0,1,1,1,0,0,0],\n",
    " [0,0,0,0,0,0,0,1,1,0,0,0,0]]\n",
    "numDistinctIslands(m)"
   ]
  },
  {
   "cell_type": "code",
   "execution_count": 141,
   "metadata": {},
   "outputs": [
    {
     "data": {
      "text/plain": [
       "25"
      ]
     },
     "execution_count": 141,
     "metadata": {},
     "output_type": "execute_result"
    }
   ],
   "source": [
    "sum([sum(mi) for mi in m])"
   ]
  },
  {
   "cell_type": "code",
   "execution_count": 65,
   "metadata": {},
   "outputs": [
    {
     "data": {
      "text/plain": [
       "13"
      ]
     },
     "execution_count": 65,
     "metadata": {},
     "output_type": "execute_result"
    }
   ],
   "source": [
    "lenx"
   ]
  },
  {
   "cell_type": "code",
   "execution_count": 66,
   "metadata": {},
   "outputs": [
    {
     "data": {
      "text/plain": [
       "8"
      ]
     },
     "execution_count": 66,
     "metadata": {},
     "output_type": "execute_result"
    }
   ],
   "source": [
    "numDistinctIslands(m)"
   ]
  },
  {
   "cell_type": "code",
   "execution_count": 142,
   "metadata": {
    "collapsed": true
   },
   "outputs": [],
   "source": [
    "def numDistinctIslands(grid):\n",
    "    \n",
    "        def func(x,y,lenx,leny,m,a):\n",
    "            a+=1\n",
    "            m[y][x]=0\n",
    "            a1=0\n",
    "            a2=0\n",
    "            a3=0\n",
    "            a4=0\n",
    "            if y-1>=0 and m[y-1][x]==1:\n",
    "                    a1=func(x,y-1,lenx,leny,m,0)\n",
    "            if y+1<leny and m[y+1][x]==1:\n",
    "                    a2=func(x,y+1,lenx,leny,m,0)\n",
    "            if x-1>=0 and m[y][x-1]==1:\n",
    "                    a3=func(x-1,y,lenx,leny,m,0)\n",
    "            if x+1<lenx and m[y][x+1]==1:\n",
    "                    a4=func(x+1,y,lenx,leny,m,0)\n",
    "            return a+a1+a2+a3+a4\n",
    "        if sum([sum(mi) for mi in grid])==0:\n",
    "            return 0\n",
    "        lenx=len(grid[0])\n",
    "        leny=len(grid)\n",
    "        numArray=[]\n",
    "        for x in range(lenx):\n",
    "            for y in range(leny):\n",
    "\n",
    "                if grid[y][x]==1:\n",
    "                    a=0\n",
    "\n",
    "                    numArray.append(func(x,y,lenx,leny,grid,a))\n",
    "        return max(numArray)"
   ]
  },
  {
   "cell_type": "code",
   "execution_count": null,
   "metadata": {
    "collapsed": true
   },
   "outputs": [],
   "source": []
  },
  {
   "cell_type": "code",
   "execution_count": 131,
   "metadata": {
    "collapsed": true
   },
   "outputs": [],
   "source": [
    "def func(x,y,lenx,leny,m,a):\n",
    "    a+=1\n",
    "    m[y][x]=0\n",
    "    a1=0\n",
    "    a2=0\n",
    "    a3=0\n",
    "    a4=0\n",
    "    if y-1>=0 and m[y-1][x]==1:\n",
    "            a1=func(x,y-1,lenx,leny,m,0)\n",
    "    if y+1<leny and m[y+1][x]==1:\n",
    "            a2=func(x,y+1,lenx,leny,m,0)\n",
    "    if x-1>=0 and m[y][x-1]==1:\n",
    "            a3=func(x-1,y,lenx,leny,m,0)\n",
    "    if x+1<lenx and m[y][x+1]==1:\n",
    "            a4=func(x+1,y,lenx,leny,m,0)\n",
    "    return a+a1+a2+a3+a4"
   ]
  },
  {
   "cell_type": "code",
   "execution_count": null,
   "metadata": {
    "collapsed": true
   },
   "outputs": [],
   "source": []
  },
  {
   "cell_type": "code",
   "execution_count": null,
   "metadata": {
    "collapsed": true
   },
   "outputs": [],
   "source": []
  },
  {
   "cell_type": "code",
   "execution_count": 48,
   "metadata": {},
   "outputs": [
    {
     "ename": "SyntaxError",
     "evalue": "invalid syntax (<ipython-input-48-9a4c02734243>, line 1)",
     "output_type": "error",
     "traceback": [
      "\u001b[0;36m  File \u001b[0;32m\"<ipython-input-48-9a4c02734243>\"\u001b[0;36m, line \u001b[0;32m1\u001b[0m\n\u001b[0;31m    function ListNode(val) {\u001b[0m\n\u001b[0m                    ^\u001b[0m\n\u001b[0;31mSyntaxError\u001b[0m\u001b[0;31m:\u001b[0m invalid syntax\n"
     ]
    }
   ],
   "source": [
    " function ListNode(val) {\n",
    "      this.val = val;\n",
    "      this.next = null;\n",
    "  }"
   ]
  },
  {
   "cell_type": "code",
   "execution_count": 2,
   "metadata": {},
   "outputs": [
    {
     "data": {
      "text/plain": [
       "[1, 2, 3, 4, 5]"
      ]
     },
     "execution_count": 2,
     "metadata": {},
     "output_type": "execute_result"
    }
   ],
   "source": [
    "array[0:5]"
   ]
  },
  {
   "cell_type": "code",
   "execution_count": 3,
   "metadata": {},
   "outputs": [
    {
     "data": {
      "text/plain": [
       "[1, 2, 3, 4]"
      ]
     },
     "execution_count": 3,
     "metadata": {},
     "output_type": "execute_result"
    }
   ],
   "source": [
    "array[0:4]"
   ]
  },
  {
   "cell_type": "code",
   "execution_count": null,
   "metadata": {
    "collapsed": true
   },
   "outputs": [],
   "source": [
    "class Solution(object):\n",
    "    def lengthOfLongestSubstring(self, s):\n",
    "        \"\"\"\n",
    "        :type s: str\n",
    "        :rtype: int\n",
    "        \"\"\"\n"
   ]
  },
  {
   "cell_type": "code",
   "execution_count": 76,
   "metadata": {
    "collapsed": true
   },
   "outputs": [],
   "source": [
    "def lengthOfLongestSubstring(s):\n",
    "        if s=='':\n",
    "            return 0\n",
    "        maxString=s[0]\n",
    "        curString=s[0]\n",
    "        for i,char in enumerate(s[1:]):\n",
    "            if char not in curString:\n",
    "                curString+=char\n",
    "                if len(maxString)<len(curString):\n",
    "                    maxString=curString\n",
    "            else:\n",
    "                curString=curString[curString.find(char)+1:]\n",
    "                curString+=char\n",
    "        return len(maxString)"
   ]
  },
  {
   "cell_type": "code",
   "execution_count": 77,
   "metadata": {},
   "outputs": [
    {
     "name": "stdout",
     "output_type": "stream",
     "text": [
      "fbhmipx\n"
     ]
    },
    {
     "data": {
      "text/plain": [
       "7"
      ]
     },
     "execution_count": 77,
     "metadata": {},
     "output_type": "execute_result"
    }
   ],
   "source": [
    "s=\"bpfbhmipx\"\n",
    "lengthOfLongestSubstring(s)"
   ]
  },
  {
   "cell_type": "code",
   "execution_count": 1,
   "metadata": {
    "collapsed": true
   },
   "outputs": [],
   "source": [
    "nums1=[1,3,5,7,9,11]\n",
    "nums2=[-2,0,2,4,6,8]"
   ]
  },
  {
   "cell_type": "code",
   "execution_count": 14,
   "metadata": {
    "collapsed": true
   },
   "outputs": [],
   "source": [
    "nums1=[1,1,3,3]\n",
    "nums2=[1,1,3,3]"
   ]
  },
  {
   "cell_type": "code",
   "execution_count": 26,
   "metadata": {
    "collapsed": true
   },
   "outputs": [],
   "source": [
    "nums1=[1,1,2,3,3]\n",
    "nums2=[1,1,2,3,3]"
   ]
  },
  {
   "cell_type": "code",
   "execution_count": 29,
   "metadata": {
    "collapsed": true
   },
   "outputs": [],
   "source": [
    "nums1=[1,1,2,3,3]\n",
    "nums2=[1,1,2,3]"
   ]
  },
  {
   "cell_type": "code",
   "execution_count": 32,
   "metadata": {
    "collapsed": true
   },
   "outputs": [],
   "source": [
    "nums1=[1,2]\n",
    "nums2=[1,2,3]"
   ]
  },
  {
   "cell_type": "code",
   "execution_count": 46,
   "metadata": {
    "collapsed": true
   },
   "outputs": [],
   "source": [
    "nums1=[1]\n",
    "nums2=[2,3,4]"
   ]
  },
  {
   "cell_type": "code",
   "execution_count": 48,
   "metadata": {},
   "outputs": [
    {
     "name": "stdout",
     "output_type": "stream",
     "text": [
      "[1, 2, 3, 4]\n",
      "2.5\n"
     ]
    }
   ],
   "source": [
    "totLen=len(nums1+nums2)\n",
    "print sorted(nums1+nums2)\n",
    "if totLen%2==0:\n",
    "    print 0.5*sum(sorted(nums1+nums2)[totLen/2-1:totLen/2+1])\n",
    "else:\n",
    "    print sorted(nums1+nums2)[totLen/2]"
   ]
  },
  {
   "cell_type": "code",
   "execution_count": 47,
   "metadata": {},
   "outputs": [
    {
     "name": "stdout",
     "output_type": "stream",
     "text": [
      "[1] [2, 3, 4]\n",
      "1 3\n",
      "\n"
     ]
    },
    {
     "data": {
      "text/plain": [
       "2"
      ]
     },
     "execution_count": 47,
     "metadata": {},
     "output_type": "execute_result"
    }
   ],
   "source": [
    "findMedianSortedArrays(nums1, nums2)"
   ]
  },
  {
   "cell_type": "code",
   "execution_count": null,
   "metadata": {
    "collapsed": true
   },
   "outputs": [],
   "source": []
  },
  {
   "cell_type": "code",
   "execution_count": 44,
   "metadata": {
    "collapsed": true
   },
   "outputs": [],
   "source": [
    "def findMedianSortedArrays(nums1, nums2):\n",
    "        \"\"\"\n",
    "        :type nums1: List[int]\n",
    "        :type nums2: List[int]\n",
    "        :rtype: float\n",
    "        \"\"\"\n",
    "\n",
    "        def findMiddleElement(nums):\n",
    "            return (len(nums))/2\n",
    "\n",
    "        def findMedianSortedSingleArray(nums):\n",
    "            middleElement=findMiddleElement(nums)\n",
    "            return nums[middleElement]\n",
    "\n",
    "        def findMedian(nums):\n",
    "            if len(nums)%2==1:\n",
    "                return nums[len(nums)/2]\n",
    "            else:\n",
    "                return 0.5*sum(nums[len(nums)/2-1:len(nums)/2+1])\n",
    "\n",
    "        startIndex1=0\n",
    "        startIndex2=0\n",
    "        endIndex1=len(nums1)\n",
    "        endIndex2=len(nums2)\n",
    "\n",
    "        if endIndex1==0:\n",
    "            return findMedian(nums2)\n",
    "        if endIndex2==0:\n",
    "            return findMedian(nums1)\n",
    "\n",
    "\n",
    "\n",
    "        while endIndex1-startIndex1>2 or endIndex2-startIndex2>2:\n",
    "\n",
    "            median1=findMedianSortedSingleArray(nums1[startIndex1:endIndex1])\n",
    "            median2=findMedianSortedSingleArray(nums2[startIndex2:endIndex2])\n",
    "            print nums1[startIndex1:endIndex1],nums2[startIndex2:endIndex2]\n",
    "            print median1,median2\n",
    "            print \n",
    "\n",
    "\n",
    "\n",
    "            if median1==median2:\n",
    "                if (endIndex1-startIndex1)%2==1 and (endIndex2-startIndex2)%2==1:\n",
    "                    return median1\n",
    "                elif (endIndex1-startIndex1)%2==0 and (endIndex2-startIndex2)%2==0:\n",
    "                    print 'here'\n",
    "                    endIndex1=findMiddleElement(nums1[startIndex1:endIndex1])+1\n",
    "                    endIndex2=findMiddleElement(nums2[startIndex2:endIndex2])+1\n",
    "                    startIndex1=endIndex1-2\n",
    "                    startIndex2=endIndex2-2\n",
    "                    print 'in elif',nums1[startIndex1:endIndex1],nums2[startIndex2:endIndex2]\n",
    "                elif (endIndex1-startIndex1)%2==1 and (endIndex2-startIndex2)%2==0:\n",
    "                    endIndex1=findMiddleElement(nums1[startIndex1:endIndex1])+1\n",
    "                    endIndex2=findMiddleElement(nums2[startIndex2:endIndex2])+1\n",
    "                    startIndex1=endIndex1-1\n",
    "                    startIndex2=endIndex2-2\n",
    "                elif (endIndex1-startIndex1)%2==0 and (endIndex2-startIndex2)%2==1:\n",
    "                    endIndex1=findMiddleElement(nums1[startIndex1:endIndex1])+1\n",
    "                    endIndex2=findMiddleElement(nums2[startIndex2:endIndex2])+1\n",
    "                    startIndex2=endIndex2-1\n",
    "                    startIndex1=endIndex1-2\n",
    "                    print startIndex1,startIndex2\n",
    "                    print endIndex1,endIndex2\n",
    "\n",
    "            if median1>median2:\n",
    "                endIndex1=findMiddleElement(nums1[startIndex1:endIndex1])+startIndex1+1\n",
    "                startIndex2=endIndex2-findMiddleElement(nums2[startIndex2:endIndex2])-1\n",
    "            if median2>median1:\n",
    "                endIndex2=findMiddleElement(nums2[startIndex2:endIndex2])+startIndex2+1\n",
    "                startIndex1=endIndex1-findMiddleElement(nums1[startIndex1:endIndex1])-1\n",
    "\n",
    "        if (endIndex1-startIndex1)+(endIndex2-startIndex2)==3:\n",
    "            if len(nums1+nums2)%2==1:\n",
    "                return sorted(nums1[startIndex1:endIndex1]+nums2[startIndex2:endIndex2])[1]\n",
    "            else:\n",
    "        if (endIndex1-startIndex1)+(endIndex2-startIndex2)==2:\n",
    "            return .5*(nums1[startIndex1]+nums2[startIndex2])\n",
    "        if (endIndex1-startIndex1)+(endIndex2-startIndex2)==4:\n",
    "            return 0.5*sum(sorted(nums1[startIndex1:endIndex1]+nums2[startIndex2:endIndex2])[1:3])\n"
   ]
  },
  {
   "cell_type": "code",
   "execution_count": null,
   "metadata": {
    "collapsed": true
   },
   "outputs": [],
   "source": [
    "def median(A, B):\n",
    "    m, n = len(A), len(B)\n",
    "    if m > n:\n",
    "        A, B, m, n = B, A, n, m\n",
    "    if n == 0:\n",
    "        raise ValueError\n",
    "\n",
    "    imin, imax, half_len = 0, m, (m + n + 1) / 2\n",
    "    while imin <= imax:\n",
    "        i = (imin + imax) / 2\n",
    "        j = half_len - i\n",
    "        if i < m and B[j-1] > A[i]:\n",
    "            # i is too small, must increase it\n",
    "            imin = i + 1\n",
    "        elif i > 0 and A[i-1] > B[j]:\n",
    "            # i is too big, must decrease it\n",
    "            imax = i - 1\n",
    "        else:\n",
    "            # i is perfect\n",
    "\n",
    "            if i == 0: max_of_left = B[j-1]\n",
    "            elif j == 0: max_of_left = A[i-1]\n",
    "            else: max_of_left = max(A[i-1], B[j-1])\n",
    "\n",
    "            if (m + n) % 2 == 1:\n",
    "                return max_of_left\n",
    "\n",
    "            if i == m: min_of_right = B[j]\n",
    "            elif j == n: min_of_right = A[i]\n",
    "            else: min_of_right = min(A[i], B[j])\n",
    "\n",
    "            return (max_of_left + min_of_right) / 2.0"
   ]
  },
  {
   "cell_type": "code",
   "execution_count": null,
   "metadata": {
    "collapsed": true
   },
   "outputs": [],
   "source": []
  },
  {
   "cell_type": "code",
   "execution_count": null,
   "metadata": {
    "collapsed": true
   },
   "outputs": [],
   "source": []
  },
  {
   "cell_type": "code",
   "execution_count": 1,
   "metadata": {},
   "outputs": [
    {
     "data": {
      "text/plain": [
       "2"
      ]
     },
     "execution_count": 1,
     "metadata": {},
     "output_type": "execute_result"
    }
   ],
   "source": [
    "4//2\n"
   ]
  },
  {
   "cell_type": "code",
   "execution_count": 5,
   "metadata": {},
   "outputs": [
    {
     "data": {
      "text/plain": [
       "1.0"
      ]
     },
     "execution_count": 5,
     "metadata": {},
     "output_type": "execute_result"
    }
   ],
   "source": [
    "4//3.0"
   ]
  },
  {
   "cell_type": "code",
   "execution_count": 4,
   "metadata": {},
   "outputs": [
    {
     "data": {
      "text/plain": [
       "1.3333333333333333"
      ]
     },
     "execution_count": 4,
     "metadata": {},
     "output_type": "execute_result"
    }
   ],
   "source": [
    "4/3.0"
   ]
  },
  {
   "cell_type": "code",
   "execution_count": null,
   "metadata": {
    "collapsed": true
   },
   "outputs": [],
   "source": [
    "Given nums = [2, 7, 11, 15], target = 9,\n",
    "\n",
    "Because nums[0] + nums[1] = 2 + 7 = 9,\n",
    "return [0, 1]."
   ]
  },
  {
   "cell_type": "code",
   "execution_count": 6,
   "metadata": {
    "collapsed": true
   },
   "outputs": [],
   "source": [
    "nums = [2, 7, 11, 15]\n",
    "target=9"
   ]
  },
  {
   "cell_type": "code",
   "execution_count": 22,
   "metadata": {
    "collapsed": true
   },
   "outputs": [],
   "source": [
    "def twoSum( nums, target):\n",
    "    dicNums={}\n",
    "    dicNumNums={}\n",
    "    for numi,num in enumerate(nums):\n",
    "        dicNums[num]=numi\n",
    "        if num in dicNumNums:\n",
    "            dicNumNums[num]+=1\n",
    "        else:\n",
    "            dicNumNums[num]=1\n",
    "    \n",
    "    for num in nums:\n",
    "        if target-num in dicNums:\n",
    "            if target-num!=num:\n",
    "                return sorted([dicNums[num],dicNums[target-num]])\n",
    "            elif dicNumNums[num]>1:\n",
    "                return [nums.index(num),dicNums[target-num]]\n",
    "    "
   ]
  },
  {
   "cell_type": "code",
   "execution_count": 23,
   "metadata": {},
   "outputs": [
    {
     "data": {
      "text/plain": [
       "[0, 1]"
      ]
     },
     "execution_count": 23,
     "metadata": {},
     "output_type": "execute_result"
    }
   ],
   "source": [
    "twoSum( nums, target)"
   ]
  },
  {
   "cell_type": "code",
   "execution_count": 21,
   "metadata": {},
   "outputs": [
    {
     "data": {
      "text/plain": [
       "[(0, 2), (1, 7), (2, 11), (3, 15)]"
      ]
     },
     "execution_count": 21,
     "metadata": {},
     "output_type": "execute_result"
    }
   ],
   "source": [
    "[(x,y) for x,y in enumerate(nums)]"
   ]
  },
  {
   "cell_type": "code",
   "execution_count": 19,
   "metadata": {},
   "outputs": [
    {
     "name": "stdout",
     "output_type": "stream",
     "text": [
      "{15: 3, 2: 0, 11: 2, 7: 1}\n",
      "{15: 1, 2: 1, 11: 1, 7: 1}\n"
     ]
    }
   ],
   "source": [
    "twoSum( nums, target)"
   ]
  },
  {
   "cell_type": "code",
   "execution_count": 12,
   "metadata": {
    "collapsed": true
   },
   "outputs": [],
   "source": [
    "\n",
    "def twoSum( nums, target):\n",
    "        \"\"\"\n",
    "        :type nums: List[int]\n",
    "        :type target: int\n",
    "        :rtype: List[int]\n",
    "        \"\"\"\n",
    "        nums=sorted(nums)\n",
    "        istart=0\n",
    "        iend=len(nums)-1\n",
    "        while(istart<iend):\n",
    "            target0=nums[istart]+nums[iend]\n",
    "            if target0>target:\n",
    "                iend=iend-1\n",
    "            elif target0<target:\n",
    "                istart=istart+1\n",
    "            else:\n",
    "                return [istart,iend]"
   ]
  },
  {
   "cell_type": "code",
   "execution_count": 13,
   "metadata": {},
   "outputs": [
    {
     "data": {
      "text/plain": [
       "[0, 1]"
      ]
     },
     "execution_count": 13,
     "metadata": {},
     "output_type": "execute_result"
    }
   ],
   "source": [
    "twoSum( nums, target)"
   ]
  },
  {
   "cell_type": "code",
   "execution_count": 17,
   "metadata": {},
   "outputs": [
    {
     "data": {
      "text/plain": [
       "1"
      ]
     },
     "execution_count": 17,
     "metadata": {},
     "output_type": "execute_result"
    }
   ],
   "source": [
    "nums.index(7)"
   ]
  },
  {
   "cell_type": "code",
   "execution_count": null,
   "metadata": {
    "collapsed": true
   },
   "outputs": [],
   "source": [
    " var tempPrefix=findPrefix(sortedStrs[i],sortedStrs[i+1]);\n",
    "        if (tempPrefix.length>longestPrefix){\n",
    "            longestPrefix=tempPrefix;\n",
    "            \n",
    "        }\n",
    "    }\n",
    "    return longestPrefix;\n",
    "};\n",
    "function findPrefix(str1,str2){\n",
    "    length= str1.length < str2.length ? str1.length : str2.length;\n",
    "    var prefixLength=0;\n",
    "    for(let i=0; i<length; i++){\n",
    "        if(str1[i]===str2[i]){\n",
    "            prefixLength++;\n",
    "        }\n",
    "    }\n",
    "    return str1.slice(0,prefixLength);\n",
    "}"
   ]
  },
  {
   "cell_type": "code",
   "execution_count": null,
   "metadata": {
    "collapsed": true
   },
   "outputs": [],
   "source": [
    "[3,3]\n",
    "6"
   ]
  },
  {
   "cell_type": "code",
   "execution_count": 52,
   "metadata": {},
   "outputs": [
    {
     "name": "stdout",
     "output_type": "stream",
     "text": [
      "9 5\n",
      "10 4\n",
      "10 6\n",
      "11 5\n"
     ]
    }
   ],
   "source": [
    "i=10\n",
    "j=5\n",
    "for ix,jx in [[i-1,j],[i,j-1],[i,j+1],[i+1,j]]:\n",
    "    print ix,jx"
   ]
  },
  {
   "cell_type": "code",
   "execution_count": 119,
   "metadata": {
    "collapsed": true
   },
   "outputs": [],
   "source": [
    "def updateMatrix(matrix):\n",
    "        \"\"\"\n",
    "        :type matrix: List[List[int]]\n",
    "        :rtype: List[List[int]]\n",
    "        \"\"\"\n",
    "        \n",
    "        lenI=len(matrix)\n",
    "        lenJ=len(matrix[0])\n",
    "        m1=[[matrix[i][j]*1000000 for j in range(lenJ)] for i in range(lenI)]\n",
    "        for i in range(lenI):\n",
    "            for j in range(lenJ):\n",
    "                if matrix[i][j]!=0 and (i!=0 or j!=0):\n",
    "                        m1[i][j]=min(\n",
    "                            [m1[ix][jx] for ix,jx in [[i-1,j],[i,j-1]] \n",
    "                            if ix>=0 and jx>=0 and ix<=lenI-1 and jx<=lenJ-1])+1\n",
    "        print m1\n",
    "        for i in range(lenI-1,-1,-1):\n",
    "            for j in range(lenJ-1,-1,-1):\n",
    "                if matrix[i][j]!=0 and (i!=lenI-1 or j!=lenJ-1):\n",
    "     \n",
    "                        m1[i][j]=min([min(\n",
    "                            [m1[ix][jx] for ix,jx in [[i,j+1],[i+1,j]] \n",
    "                            if ix>=0 and jx>=0 and ix<=lenI-1 and jx<=lenJ-1])+1,m1[i][j]])\n",
    "        return m1\n"
   ]
  },
  {
   "cell_type": "code",
   "execution_count": 120,
   "metadata": {},
   "outputs": [
    {
     "name": "stdout",
     "output_type": "stream",
     "text": [
      "[[1000000, 1000001, 0, 0], [1000001, 0, 0, 1], [1000002, 1, 0, 0], [1000003, 2, 1, 1]]\n"
     ]
    },
    {
     "data": {
      "text/plain": [
       "[[2, 1, 0, 0], [1, 0, 0, 1], [2, 1, 0, 0], [3, 2, 1, 1]]"
      ]
     },
     "execution_count": 120,
     "metadata": {},
     "output_type": "execute_result"
    }
   ],
   "source": [
    "updateMatrix(matrix=[\n",
    "    [1,1,0,0],\n",
    "    [1,0,0,1],\n",
    "    [1,1,0,0],\n",
    "    [1,1,1,1]\n",
    "])"
   ]
  },
  {
   "cell_type": "code",
   "execution_count": 118,
   "metadata": {},
   "outputs": [
    {
     "data": {
      "text/plain": [
       "[[10000, 10000, 0, 0],\n",
       " [10000, 0, 0, 10000],\n",
       " [10000, 10000, 0, 0],\n",
       " [10000, 10000, 10000, 10000]]"
      ]
     },
     "execution_count": 118,
     "metadata": {},
     "output_type": "execute_result"
    }
   ],
   "source": [
    "matrix=[\n",
    "    [1,1,0,0],\n",
    "    [1,0,0,1],\n",
    "    [1,1,0,0],\n",
    "    [1,1,1,1]\n",
    "]\n",
    "[[xi*10000 for xi in x] for x in matrix]"
   ]
  },
  {
   "cell_type": "code",
   "execution_count": null,
   "metadata": {
    "collapsed": true
   },
   "outputs": [],
   "source": [
    "def updateMatrix(matrix):\n",
    "    "
   ]
  },
  {
   "cell_type": "code",
   "execution_count": 93,
   "metadata": {},
   "outputs": [
    {
     "name": "stdout",
     "output_type": "stream",
     "text": [
      "0 0 False\n",
      "0 1 True\n",
      "0 2 True\n",
      "0 3 True\n",
      "0 4 True\n",
      "0 5 True\n",
      "0 6 True\n",
      "0 7 True\n",
      "0 8 True\n",
      "0 9 True\n",
      "1 0 True\n",
      "1 1 True\n",
      "1 2 True\n",
      "1 3 True\n",
      "1 4 True\n",
      "1 5 True\n",
      "1 6 True\n",
      "1 7 True\n",
      "1 8 True\n",
      "1 9 True\n",
      "2 0 True\n",
      "2 1 True\n",
      "2 2 True\n",
      "2 3 True\n",
      "2 4 True\n",
      "2 5 True\n",
      "2 6 True\n",
      "2 7 True\n",
      "2 8 True\n",
      "2 9 True\n",
      "3 0 True\n",
      "3 1 True\n",
      "3 2 True\n",
      "3 3 True\n",
      "3 4 True\n",
      "3 5 True\n",
      "3 6 True\n",
      "3 7 True\n",
      "3 8 True\n",
      "3 9 True\n",
      "4 0 True\n",
      "4 1 True\n",
      "4 2 True\n",
      "4 3 True\n",
      "4 4 True\n",
      "4 5 True\n",
      "4 6 True\n",
      "4 7 True\n",
      "4 8 True\n",
      "4 9 True\n",
      "5 0 True\n",
      "5 1 True\n",
      "5 2 True\n",
      "5 3 True\n",
      "5 4 True\n",
      "5 5 True\n",
      "5 6 True\n",
      "5 7 True\n",
      "5 8 True\n",
      "5 9 True\n",
      "6 0 True\n",
      "6 1 True\n",
      "6 2 True\n",
      "6 3 True\n",
      "6 4 True\n",
      "6 5 True\n",
      "6 6 True\n",
      "6 7 True\n",
      "6 8 True\n",
      "6 9 True\n",
      "7 0 True\n",
      "7 1 True\n",
      "7 2 True\n",
      "7 3 True\n",
      "7 4 True\n",
      "7 5 True\n",
      "7 6 True\n",
      "7 7 True\n",
      "7 8 True\n",
      "7 9 True\n",
      "8 0 True\n",
      "8 1 True\n",
      "8 2 True\n",
      "8 3 True\n",
      "8 4 True\n",
      "8 5 True\n",
      "8 6 True\n",
      "8 7 True\n",
      "8 8 True\n",
      "8 9 True\n",
      "9 0 True\n",
      "9 1 True\n",
      "9 2 True\n",
      "9 3 True\n",
      "9 4 True\n",
      "9 5 True\n",
      "9 6 True\n",
      "9 7 True\n",
      "9 8 True\n",
      "9 9 True\n"
     ]
    }
   ],
   "source": [
    "for i in range(10):\n",
    "    for j in range(10):\n",
    "        print i,j,(i!=0 or j!=0)"
   ]
  },
  {
   "cell_type": "code",
   "execution_count": 121,
   "metadata": {},
   "outputs": [
    {
     "ename": "NameError",
     "evalue": "name 'ListNode' is not defined",
     "output_type": "error",
     "traceback": [
      "\u001b[0;31m---------------------------------------------------------------------------\u001b[0m",
      "\u001b[0;31mNameError\u001b[0m                                 Traceback (most recent call last)",
      "\u001b[0;32m<ipython-input-121-b47478f27706>\u001b[0m in \u001b[0;36m<module>\u001b[0;34m()\u001b[0m\n\u001b[0;32m----> 1\u001b[0;31m \u001b[0mListNode\u001b[0m\u001b[0;34m\u001b[0m\u001b[0m\n\u001b[0m",
      "\u001b[0;31mNameError\u001b[0m: name 'ListNode' is not defined"
     ]
    }
   ],
   "source": [
    "ListNode"
   ]
  },
  {
   "cell_type": "code",
   "execution_count": null,
   "metadata": {
    "collapsed": true
   },
   "outputs": [],
   "source": []
  },
  {
   "cell_type": "code",
   "execution_count": 136,
   "metadata": {
    "collapsed": true
   },
   "outputs": [],
   "source": [
    "nums=[0,1,2,2,3,3,4]"
   ]
  },
  {
   "cell_type": "code",
   "execution_count": 134,
   "metadata": {
    "collapsed": true
   },
   "outputs": [],
   "source": [
    "def removeDuplicates(nums):\n",
    "    \"\"\"\n",
    "    :type nums: List[int]\n",
    "    :rtype: int\n",
    "    \"\"\"\n",
    "    i=1\n",
    "    for j in range(1,len(nums),1):\n",
    "        print j,i\n",
    "        if nums[j]!=nums[j-1]:\n",
    "            nums[i]=nums[j]\n",
    "            i+=1\n",
    "    print i\n",
    "    return nums"
   ]
  },
  {
   "cell_type": "code",
   "execution_count": 137,
   "metadata": {},
   "outputs": [
    {
     "name": "stdout",
     "output_type": "stream",
     "text": [
      "1 1\n",
      "2 2\n",
      "3 3\n",
      "4 3\n",
      "5 4\n",
      "6 4\n",
      "5\n"
     ]
    },
    {
     "data": {
      "text/plain": [
       "[0, 1, 2, 3, 4, 3, 4]"
      ]
     },
     "execution_count": 137,
     "metadata": {},
     "output_type": "execute_result"
    }
   ],
   "source": [
    "removeDuplicates(nums)"
   ]
  },
  {
   "cell_type": "code",
   "execution_count": 132,
   "metadata": {},
   "outputs": [
    {
     "data": {
      "text/plain": [
       "[]"
      ]
     },
     "execution_count": 132,
     "metadata": {},
     "output_type": "execute_result"
    }
   ],
   "source": [
    "removeDuplicates([])"
   ]
  },
  {
   "cell_type": "code",
   "execution_count": 133,
   "metadata": {},
   "outputs": [
    {
     "data": {
      "text/plain": [
       "0"
      ]
     },
     "execution_count": 133,
     "metadata": {},
     "output_type": "execute_result"
    }
   ],
   "source": [
    "len([])"
   ]
  },
  {
   "cell_type": "code",
   "execution_count": null,
   "metadata": {
    "collapsed": true
   },
   "outputs": [],
   "source": [
    "    function findNextGreatest(nums){\n",
    "        if(nums.length<2){\n",
    "            return(nums)\n",
    "        }\n",
    "        if(nums.length==2){\n",
    "            temp=nums[0];\n",
    "            nums[0]=nums[1];\n",
    "            nums[1]=temp;\n",
    "            if (nums[0]<nums[1]){    \n",
    "                return true\n",
    "            }else{\n",
    "                return false\n",
    "            }\n",
    "        }\n",
    "        if (findNextGreatest(nums.slice(1))){\n",
    "            return\n",
    "        }\n",
    "        \n",
    "    }"
   ]
  },
  {
   "cell_type": "code",
   "execution_count": 9,
   "metadata": {},
   "outputs": [
    {
     "data": {
      "text/plain": [
       "171.0"
      ]
     },
     "execution_count": 9,
     "metadata": {},
     "output_type": "execute_result"
    }
   ],
   "source": [
    "k=18\n",
    "k*(k+1)/2.0"
   ]
  },
  {
   "cell_type": "code",
   "execution_count": 41,
   "metadata": {},
   "outputs": [
    {
     "name": "stdout",
     "output_type": "stream",
     "text": [
      "2\n",
      "3\n",
      "-2 0\n",
      "3\n"
     ]
    }
   ],
   "source": [
    "import math\n",
    "k=5\n",
    "m=3\n",
    "n=3\n",
    "\n",
    "c=2*k\n",
    "diag=int(0.5*(-1+math.sqrt(1+4*c)))\n",
    "tot=diag*(diag+1)/2\n",
    "diff1=int((k-tot)/2)-diag-1\n",
    "diff2=-(int((k-tot)/2)-1)\n",
    "print diag\n",
    "print tot\n",
    "print diff1,diff2\n",
    "print max((m+diff1)*(n+diff2),(m+diff2)*(n+diff1))"
   ]
  },
  {
   "cell_type": "code",
   "execution_count": 24,
   "metadata": {
    "collapsed": true
   },
   "outputs": [],
   "source": [
    "def findKthNumber( m, n, k):\n",
    "        \"\"\"\n",
    "        :type m: int\n",
    "        :type n: int\n",
    "        :type k: int\n",
    "        :rtype: int\n",
    "        \"\"\"\n",
    "        c=2*k\n",
    "        diag=int(0.5*(-1+math.sqrt(1+4*c)))\n",
    "        tot=diag*(diag)/2\n",
    "        diff1=(tot-diag)/2-1-diag\n",
    "        diff2=-(((tot-diag)/2-1))\n",
    "        return max((m+diff1)*(n+diff2),(m+diff2)*(n+diff1))"
   ]
  },
  {
   "cell_type": "code",
   "execution_count": 25,
   "metadata": {},
   "outputs": [
    {
     "data": {
      "text/plain": [
       "0"
      ]
     },
     "execution_count": 25,
     "metadata": {},
     "output_type": "execute_result"
    }
   ],
   "source": [
    "findKthNumber(3,3,5)"
   ]
  },
  {
   "cell_type": "code",
   "execution_count": 43,
   "metadata": {},
   "outputs": [
    {
     "data": {
      "text/plain": [
       "True"
      ]
     },
     "execution_count": 43,
     "metadata": {},
     "output_type": "execute_result"
    }
   ],
   "source": [
    "isinstance(2,int)"
   ]
  },
  {
   "cell_type": "code",
   "execution_count": 45,
   "metadata": {},
   "outputs": [
    {
     "data": {
      "text/plain": [
       "38"
      ]
     },
     "execution_count": 45,
     "metadata": {},
     "output_type": "execute_result"
    }
   ],
   "source": [
    "x=[[1,3,[3,5]],2,[1,1]]\n",
    "def func(x,depth=1):\n",
    "    sumTot=0\n",
    "    for xi in x:\n",
    "        if isinstance(xi,int):\n",
    "            sumTot+=xi*depth\n",
    "        else:\n",
    "            sumTot+=func(xi,depth+1)\n",
    "    return sumTot\n",
    "func(x)"
   ]
  },
  {
   "cell_type": "code",
   "execution_count": 49,
   "metadata": {},
   "outputs": [
    {
     "name": "stdout",
     "output_type": "stream",
     "text": [
      "1\n",
      "3\n",
      "5\n",
      "7\n",
      "9\n",
      "11\n",
      "13\n",
      "15\n",
      "17\n",
      "19\n"
     ]
    },
    {
     "data": {
      "text/plain": [
       "True"
      ]
     },
     "execution_count": 49,
     "metadata": {},
     "output_type": "execute_result"
    }
   ],
   "source": [
    "num=100\n",
    "i = 1\n",
    "while (num > 0) :\n",
    "    print i\n",
    "    num -= i\n",
    "    i += 2\n",
    "\n",
    "num == 0\n"
   ]
  },
  {
   "cell_type": "code",
   "execution_count": 1,
   "metadata": {
    "collapsed": true
   },
   "outputs": [],
   "source": [
    "# Definition for singly-linked list.\n",
    "class ListNode(object):\n",
    "    def __init__(self, x):\n",
    "         self.val = x\n",
    "         self.next = None"
   ]
  },
  {
   "cell_type": "code",
   "execution_count": null,
   "metadata": {
    "collapsed": true
   },
   "outputs": [],
   "source": [
    "class Solution(object):\n",
    "    def removeNthFromEnd(self, head, n):\n",
    "        \"\"\"\n",
    "        :type head: ListNode\n",
    "        :type n: int\n",
    "        :rtype: ListNode\n",
    "        \"\"\""
   ]
  },
  {
   "cell_type": "code",
   "execution_count": 43,
   "metadata": {
    "collapsed": true
   },
   "outputs": [],
   "source": [
    "head=ListNode(1)"
   ]
  },
  {
   "cell_type": "code",
   "execution_count": 44,
   "metadata": {
    "collapsed": true
   },
   "outputs": [],
   "source": [
    "head.next=ListNode(1)"
   ]
  },
  {
   "cell_type": "code",
   "execution_count": 45,
   "metadata": {},
   "outputs": [
    {
     "name": "stdout",
     "output_type": "stream",
     "text": [
      "here\n",
      "2\n"
     ]
    }
   ],
   "source": [
    "x=removeNthFromEnd(head,2)"
   ]
  },
  {
   "cell_type": "code",
   "execution_count": 47,
   "metadata": {},
   "outputs": [
    {
     "ename": "AttributeError",
     "evalue": "'NoneType' object has no attribute 'val'",
     "output_type": "error",
     "traceback": [
      "\u001b[0;31m---------------------------------------------------------------------------\u001b[0m",
      "\u001b[0;31mAttributeError\u001b[0m                            Traceback (most recent call last)",
      "\u001b[0;32m<ipython-input-47-55f9185486d2>\u001b[0m in \u001b[0;36m<module>\u001b[0;34m()\u001b[0m\n\u001b[0;32m----> 1\u001b[0;31m \u001b[0mx\u001b[0m\u001b[0;34m.\u001b[0m\u001b[0mnext\u001b[0m\u001b[0;34m.\u001b[0m\u001b[0mval\u001b[0m\u001b[0;34m\u001b[0m\u001b[0m\n\u001b[0m",
      "\u001b[0;31mAttributeError\u001b[0m: 'NoneType' object has no attribute 'val'"
     ]
    }
   ],
   "source": [
    "x.next.val"
   ]
  },
  {
   "cell_type": "code",
   "execution_count": 42,
   "metadata": {
    "collapsed": true
   },
   "outputs": [],
   "source": [
    "def removeNthFromEnd( head, n):\n",
    "            \"\"\"\n",
    "            :type head: ListNode\n",
    "            :type n: int\n",
    "            :rtype: ListNode\n",
    "            \"\"\"\n",
    "        \n",
    "            if n==1:\n",
    "                return None\n",
    "        \n",
    "            length=1\n",
    "            node1=head\n",
    "            while node1.next !=None and length<=n:\n",
    "                print 'here'\n",
    "                node1=node1.next\n",
    "                length+=1\n",
    "            print length\n",
    "            if length<n:\n",
    "                return None\n",
    "\n",
    "            node2=head\n",
    "            while node1.next !=None:\n",
    "                node1=node1.next\n",
    "                node2=node2.next\n",
    "            node2.next=node2.next.next\n",
    "            return head"
   ]
  },
  {
   "cell_type": "code",
   "execution_count": null,
   "metadata": {
    "collapsed": true
   },
   "outputs": [],
   "source": []
  }
 ],
 "metadata": {
  "kernelspec": {
   "display_name": "Python 2",
   "language": "python",
   "name": "python2"
  },
  "language_info": {
   "codemirror_mode": {
    "name": "ipython",
    "version": 2
   },
   "file_extension": ".py",
   "mimetype": "text/x-python",
   "name": "python",
   "nbconvert_exporter": "python",
   "pygments_lexer": "ipython2",
   "version": "2.7.13"
  }
 },
 "nbformat": 4,
 "nbformat_minor": 2
}
