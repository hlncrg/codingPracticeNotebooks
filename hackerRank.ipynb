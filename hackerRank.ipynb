{
 "cells": [
  {
   "cell_type": "markdown",
   "metadata": {},
   "source": [
    "# Coin Change\n"
   ]
  },
  {
   "cell_type": "code",
   "execution_count": 12,
   "metadata": {},
   "outputs": [
    {
     "data": {
      "text/plain": [
       "4"
      ]
     },
     "execution_count": 12,
     "metadata": {},
     "output_type": "execute_result"
    }
   ],
   "source": [
    "getWays(25,[5,10,25])"
   ]
  },
  {
   "cell_type": "code",
   "execution_count": 11,
   "metadata": {
    "collapsed": true
   },
   "outputs": [],
   "source": [
    "def getWays(n, c):\n",
    "    # Complete this function\n",
    "    numCoins=len(c)\n",
    "    T=[[0 for j in range(n+1)] for i in range(numCoins+1)]\n",
    "    for i in range(numCoins+1):\n",
    "        T[i][0]=1\n",
    "    for i in range(1,numCoins+1):\n",
    "        for j in range(1,n+1):\n",
    "            if j>=c[i-1]:\n",
    "                T[i][j]=T[i][j-c[i-1]]+T[i-1][j]\n",
    "            else:\n",
    "                T[i][j]=T[i-1][j]\n",
    "    return T[-1][-1]\n",
    "    "
   ]
  },
  {
   "cell_type": "code",
   "execution_count": null,
   "metadata": {
    "collapsed": true
   },
   "outputs": [],
   "source": []
  }
 ],
 "metadata": {
  "kernelspec": {
   "display_name": "Python 2",
   "language": "python",
   "name": "python2"
  },
  "language_info": {
   "codemirror_mode": {
    "name": "ipython",
    "version": 2
   },
   "file_extension": ".py",
   "mimetype": "text/x-python",
   "name": "python",
   "nbconvert_exporter": "python",
   "pygments_lexer": "ipython2",
   "version": "2.7.13"
  }
 },
 "nbformat": 4,
 "nbformat_minor": 2
}
