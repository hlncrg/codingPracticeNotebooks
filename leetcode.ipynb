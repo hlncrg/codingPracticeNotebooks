{
 "cells": [
  {
   "cell_type": "code",
   "execution_count": 8,
   "metadata": {
    "collapsed": true
   },
   "outputs": [],
   "source": [
    "from pandasql import *\n",
    "import pandas as pd\n",
    "pysqldf = lambda q: sqldf(q, globals())"
   ]
  },
  {
   "cell_type": "code",
   "execution_count": 2,
   "metadata": {
    "collapsed": true
   },
   "outputs": [],
   "source": [
    "Numbers={'Number':[1,2,3,4],'Frequency':[3,4,1,4]}"
   ]
  },
  {
   "cell_type": "code",
   "execution_count": 5,
   "metadata": {
    "collapsed": true
   },
   "outputs": [],
   "source": [
    "Numbers=pd.DataFrame(Numbers)"
   ]
  },
  {
   "cell_type": "code",
   "execution_count": 12,
   "metadata": {
    "collapsed": true
   },
   "outputs": [],
   "source": [
    "q  = \"\"\"\n",
    "SELECT AVG(n.Number) AS median \n",
    "FROM Numbers n LEFT JOIN\n",
    "(\n",
    "SELECT Number, @prev := @count AS prevNumber, (@count := @count + Frequency) AS countNumber\n",
    "FROM Numbers, \n",
    "(SELECT @count := 0, @prev := 0, @total := (SELECT SUM(Frequency) FROM Numbers)) temp ORDER BY Number\n",
    ") n2\n",
    "ON n.Number = n2.Number\n",
    "WHERE \n",
    "(prevNumber < floor((@total+1)/2) AND countNumber >= floor((@total+1)/2))\n",
    "OR\n",
    "(prevNumber < floor((@total+2)/2) AND countNumber >= floor((@total+2)/2))\n",
    "\"\"\"\n",
    "q=\"\"\"\n",
    "SELECT Number, @prev := @count AS prevNumber, \n",
    "    (@count := @count + Frequency) AS countNumber\n",
    "FROM Numbers\n",
    "\"\"\"\n",
    "q=\"\"\"Declare @var AS VARCHAR(MAX)\n",
    "SET @var = ''\"\"\""
   ]
  },
  {
   "cell_type": "code",
   "execution_count": 13,
   "metadata": {},
   "outputs": [
    {
     "ename": "PandaSQLException",
     "evalue": "(sqlite3.OperationalError) near \"Declare\": syntax error [SQL: \"Declare @var AS VARCHAR(MAX)\\nSET @var = ''\"]",
     "output_type": "error",
     "traceback": [
      "\u001b[0;31m---------------------------------------------------------------------------\u001b[0m",
      "\u001b[0;31mPandaSQLException\u001b[0m                         Traceback (most recent call last)",
      "\u001b[0;32m<ipython-input-13-4016d7824961>\u001b[0m in \u001b[0;36m<module>\u001b[0;34m()\u001b[0m\n\u001b[0;32m----> 1\u001b[0;31m \u001b[0mpysqldf\u001b[0m\u001b[0;34m(\u001b[0m\u001b[0mq\u001b[0m\u001b[0;34m)\u001b[0m\u001b[0;34m\u001b[0m\u001b[0m\n\u001b[0m",
      "\u001b[0;32m<ipython-input-8-ec487c4858da>\u001b[0m in \u001b[0;36m<lambda>\u001b[0;34m(q)\u001b[0m\n\u001b[1;32m      1\u001b[0m \u001b[0;32mfrom\u001b[0m \u001b[0mpandasql\u001b[0m \u001b[0;32mimport\u001b[0m \u001b[0;34m*\u001b[0m\u001b[0;34m\u001b[0m\u001b[0m\n\u001b[1;32m      2\u001b[0m \u001b[0;32mimport\u001b[0m \u001b[0mpandas\u001b[0m \u001b[0;32mas\u001b[0m \u001b[0mpd\u001b[0m\u001b[0;34m\u001b[0m\u001b[0m\n\u001b[0;32m----> 3\u001b[0;31m \u001b[0mpysqldf\u001b[0m \u001b[0;34m=\u001b[0m \u001b[0;32mlambda\u001b[0m \u001b[0mq\u001b[0m\u001b[0;34m:\u001b[0m \u001b[0msqldf\u001b[0m\u001b[0;34m(\u001b[0m\u001b[0mq\u001b[0m\u001b[0;34m,\u001b[0m \u001b[0mglobals\u001b[0m\u001b[0;34m(\u001b[0m\u001b[0;34m)\u001b[0m\u001b[0;34m)\u001b[0m\u001b[0;34m\u001b[0m\u001b[0m\n\u001b[0m",
      "\u001b[0;32m/Library/Frameworks/Python.framework/Versions/2.7/lib/python2.7/site-packages/pandasql/sqldf.pyc\u001b[0m in \u001b[0;36msqldf\u001b[0;34m(query, env, db_uri)\u001b[0m\n\u001b[1;32m    154\u001b[0m     \u001b[0;34m>>\u001b[0m\u001b[0;34m>\u001b[0m \u001b[0msqldf\u001b[0m\u001b[0;34m(\u001b[0m\u001b[0;34m\"select avg(x) from df;\"\u001b[0m\u001b[0;34m,\u001b[0m \u001b[0mlocals\u001b[0m\u001b[0;34m(\u001b[0m\u001b[0;34m)\u001b[0m\u001b[0;34m)\u001b[0m\u001b[0;34m\u001b[0m\u001b[0m\n\u001b[1;32m    155\u001b[0m     \"\"\"\n\u001b[0;32m--> 156\u001b[0;31m     \u001b[0;32mreturn\u001b[0m \u001b[0mPandaSQL\u001b[0m\u001b[0;34m(\u001b[0m\u001b[0mdb_uri\u001b[0m\u001b[0;34m)\u001b[0m\u001b[0;34m(\u001b[0m\u001b[0mquery\u001b[0m\u001b[0;34m,\u001b[0m \u001b[0menv\u001b[0m\u001b[0;34m)\u001b[0m\u001b[0;34m\u001b[0m\u001b[0m\n\u001b[0m",
      "\u001b[0;32m/Library/Frameworks/Python.framework/Versions/2.7/lib/python2.7/site-packages/pandasql/sqldf.pyc\u001b[0m in \u001b[0;36m__call__\u001b[0;34m(self, query, env)\u001b[0m\n\u001b[1;32m     61\u001b[0m                 \u001b[0mresult\u001b[0m \u001b[0;34m=\u001b[0m \u001b[0mread_sql\u001b[0m\u001b[0;34m(\u001b[0m\u001b[0mquery\u001b[0m\u001b[0;34m,\u001b[0m \u001b[0mconn\u001b[0m\u001b[0;34m)\u001b[0m\u001b[0;34m\u001b[0m\u001b[0m\n\u001b[1;32m     62\u001b[0m             \u001b[0;32mexcept\u001b[0m \u001b[0mDatabaseError\u001b[0m \u001b[0;32mas\u001b[0m \u001b[0mex\u001b[0m\u001b[0;34m:\u001b[0m\u001b[0;34m\u001b[0m\u001b[0m\n\u001b[0;32m---> 63\u001b[0;31m                 \u001b[0;32mraise\u001b[0m \u001b[0mPandaSQLException\u001b[0m\u001b[0;34m(\u001b[0m\u001b[0mex\u001b[0m\u001b[0;34m)\u001b[0m\u001b[0;34m\u001b[0m\u001b[0m\n\u001b[0m\u001b[1;32m     64\u001b[0m             \u001b[0;32mexcept\u001b[0m \u001b[0mResourceClosedError\u001b[0m\u001b[0;34m:\u001b[0m\u001b[0;34m\u001b[0m\u001b[0m\n\u001b[1;32m     65\u001b[0m                 \u001b[0;31m# query returns nothing\u001b[0m\u001b[0;34m\u001b[0m\u001b[0;34m\u001b[0m\u001b[0m\n",
      "\u001b[0;31mPandaSQLException\u001b[0m: (sqlite3.OperationalError) near \"Declare\": syntax error [SQL: \"Declare @var AS VARCHAR(MAX)\\nSET @var = ''\"]"
     ]
    }
   ],
   "source": [
    "pysqldf(q)"
   ]
  },
  {
   "cell_type": "code",
   "execution_count": 19,
   "metadata": {},
   "outputs": [
    {
     "name": "stdout",
     "output_type": "stream",
     "text": [
      "(1),\n",
      "(1),\n",
      "(0),\n",
      "(4),\n",
      "(7),\n",
      "(3),\n",
      "(7),\n",
      "(1),\n",
      "(4),\n",
      "(1),\n",
      "(6),\n",
      "(0),\n",
      "(6),\n",
      "(4),\n",
      "(3),\n",
      "(6),\n",
      "(3),\n",
      "(1),\n",
      "(6),\n",
      "(1),\n",
      "(6),\n",
      "(1),\n",
      "(7),\n",
      "(1),\n",
      "(4),\n",
      "(0),\n",
      "(7),\n",
      "(7),\n",
      "(0),\n",
      "(3),\n"
     ]
    }
   ],
   "source": [
    "import random\n",
    "for x in range(30):\n",
    "    print '('+str(int(random.randint(0,5)*1.5))+'),'"
   ]
  },
  {
   "cell_type": "markdown",
   "metadata": {},
   "source": [
    "linked list palandrone\n"
   ]
  },
  {
   "cell_type": "code",
   "execution_count": 20,
   "metadata": {
    "collapsed": true
   },
   "outputs": [],
   "source": [
    "class ListNode(object):\n",
    "     def __init__(self, x):\n",
    "        self.val = x\n",
    "        self.next = None"
   ]
  },
  {
   "cell_type": "code",
   "execution_count": 22,
   "metadata": {
    "collapsed": true
   },
   "outputs": [],
   "source": [
    "node=ListNode(1)"
   ]
  },
  {
   "cell_type": "code",
   "execution_count": 28,
   "metadata": {
    "collapsed": true
   },
   "outputs": [],
   "source": [
    "node.next=ListNode(2)\n",
    "node.next.next=ListNode(3)\n",
    "node.next.next.next=ListNode(2)\n",
    "node.next.next.next.next=ListNode(1)\n",
    "node.next.next.next.next=ListNode(9)\n"
   ]
  },
  {
   "cell_type": "code",
   "execution_count": 29,
   "metadata": {
    "collapsed": true
   },
   "outputs": [],
   "source": [
    "def nextNode(nodeB,nodeH):\n",
    "    result=True\n",
    "    if nodeB.next!=None:\n",
    "        nodeF,result=nextNode(nodeB.next,nodeH)\n",
    "    else:\n",
    "        nodeF=nodeH\n",
    "    if result==True:\n",
    "        if nodeF.val==nodeB.val:\n",
    "            return nodeF.next,True\n",
    "    return nodeF.next,False"
   ]
  },
  {
   "cell_type": "code",
   "execution_count": 30,
   "metadata": {},
   "outputs": [
    {
     "data": {
      "text/plain": [
       "(None, False)"
      ]
     },
     "execution_count": 30,
     "metadata": {},
     "output_type": "execute_result"
    }
   ],
   "source": [
    "nextNode(node,node)"
   ]
  },
  {
   "cell_type": "markdown",
   "metadata": {
    "collapsed": true
   },
   "source": [
    "# Find All Anagrams in a String"
   ]
  },
  {
   "cell_type": "code",
   "execution_count": 47,
   "metadata": {
    "collapsed": true
   },
   "outputs": [],
   "source": [
    "s=\"cbaebabacd\"\n",
    "p=\"abc\"\n",
    "def findAnagrams(s, p):\n",
    "    pdic={}\n",
    "    for i in p:\n",
    "        pdic[i]=pdic.get(i,0)+1\n",
    "    indexArray=[]\n",
    "    for i in range(len(s)):\n",
    "        if s[i] in pdic:\n",
    "            foundDic={}\n",
    "            for j in range(i,len(s)):\n",
    "                if s[j] in pdic and pdic[s[j]]>foundDic.get(s[j],0):\n",
    "                    foundDic[s[j]]=foundDic.get(s[j],0)+1\n",
    "                else:\n",
    "                    break\n",
    "                if pdic==foundDic:\n",
    "                    indexArray.append(i)\n",
    "                    break\n",
    "    return indexArray"
   ]
  },
  {
   "cell_type": "code",
   "execution_count": 48,
   "metadata": {},
   "outputs": [
    {
     "data": {
      "text/plain": [
       "[0, 6]"
      ]
     },
     "execution_count": 48,
     "metadata": {},
     "output_type": "execute_result"
    }
   ],
   "source": [
    "s=\"cbaebabacd\"\n",
    "p=\"abc\"\n",
    "findAnagrams(s, p)"
   ]
  },
  {
   "cell_type": "code",
   "execution_count": 49,
   "metadata": {},
   "outputs": [
    {
     "data": {
      "text/plain": [
       "[1]"
      ]
     },
     "execution_count": 49,
     "metadata": {},
     "output_type": "execute_result"
    }
   ],
   "source": [
    "s=\"baa\"\n",
    "p=\"aa\"\n",
    "findAnagrams(s, p)"
   ]
  },
  {
   "cell_type": "code",
   "execution_count": 51,
   "metadata": {
    "collapsed": true
   },
   "outputs": [],
   "source": [
    "a=[3,4]"
   ]
  },
  {
   "cell_type": "code",
   "execution_count": 52,
   "metadata": {},
   "outputs": [
    {
     "data": {
      "text/plain": [
       "4"
      ]
     },
     "execution_count": 52,
     "metadata": {},
     "output_type": "execute_result"
    }
   ],
   "source": [
    "a.pop()"
   ]
  },
  {
   "cell_type": "code",
   "execution_count": 53,
   "metadata": {},
   "outputs": [
    {
     "data": {
      "text/plain": [
       "[3]"
      ]
     },
     "execution_count": 53,
     "metadata": {},
     "output_type": "execute_result"
    }
   ],
   "source": [
    "a"
   ]
  },
  {
   "cell_type": "code",
   "execution_count": 54,
   "metadata": {},
   "outputs": [
    {
     "ename": "AttributeError",
     "evalue": "'list' object has no attribute 'push'",
     "output_type": "error",
     "traceback": [
      "\u001b[0;31m---------------------------------------------------------------------------\u001b[0m",
      "\u001b[0;31mAttributeError\u001b[0m                            Traceback (most recent call last)",
      "\u001b[0;32m<ipython-input-54-041bfe1e0de8>\u001b[0m in \u001b[0;36m<module>\u001b[0;34m()\u001b[0m\n\u001b[0;32m----> 1\u001b[0;31m \u001b[0ma\u001b[0m\u001b[0;34m.\u001b[0m\u001b[0mpush\u001b[0m\u001b[0;34m(\u001b[0m\u001b[0;36m7\u001b[0m\u001b[0;34m)\u001b[0m\u001b[0;34m\u001b[0m\u001b[0m\n\u001b[0m",
      "\u001b[0;31mAttributeError\u001b[0m: 'list' object has no attribute 'push'"
     ]
    }
   ],
   "source": [
    "a.push(7)"
   ]
  },
  {
   "cell_type": "markdown",
   "metadata": {
    "collapsed": true
   },
   "source": [
    "# longest-common-prefix"
   ]
  },
  {
   "cell_type": "code",
   "execution_count": null,
   "metadata": {
    "collapsed": true
   },
   "outputs": [],
   "source": []
  },
  {
   "cell_type": "code",
   "execution_count": 13,
   "metadata": {
    "collapsed": true
   },
   "outputs": [],
   "source": [
    "def longestCommonPrefix( strs):\n",
    "        \"\"\"\n",
    "        :type strs: List[str]\n",
    "        :rtype: str\n",
    "        \"\"\"\n",
    "        if len(strs)==0:\n",
    "            return ''\n",
    "        if len(strs)==1:\n",
    "            return strs[0]\n",
    "        orgS=strs[0]\n",
    "        for si in range(len(orgS)):\n",
    "            for s in strs[1:]:\n",
    "                if len(s)<si+1:\n",
    "                    return orgS[:si]\n",
    "                if orgS[si]!=s[si]:\n",
    "                        return orgS[:si]\n",
    "        return orgS[:si+1]"
   ]
  },
  {
   "cell_type": "code",
   "execution_count": 14,
   "metadata": {},
   "outputs": [
    {
     "data": {
      "text/plain": [
       "'ab'"
      ]
     },
     "execution_count": 14,
     "metadata": {},
     "output_type": "execute_result"
    }
   ],
   "source": [
    "strs=['aba','ab','abce']\n",
    "longestCommonPrefix( strs)"
   ]
  },
  {
   "cell_type": "markdown",
   "metadata": {},
   "source": [
    "# two sum "
   ]
  },
  {
   "cell_type": "code",
   "execution_count": 16,
   "metadata": {
    "collapsed": true
   },
   "outputs": [],
   "source": [
    "def twoSum(nums, target):\n",
    "    \"\"\"\n",
    "    :type nums: List[int]\n",
    "    :type target: int\n",
    "    :rtype: List[int]\n",
    "    \"\"\"\n",
    "    dicPast={}\n",
    "    for ni in range(len(nums)):\n",
    "        diff=target-nums[ni]\n",
    "        if diff in dicPast:\n",
    "            return [dicPast[diff],ni] \n",
    "        else:\n",
    "            dicPast[nums[ni]]=ni"
   ]
  },
  {
   "cell_type": "code",
   "execution_count": 19,
   "metadata": {},
   "outputs": [
    {
     "data": {
      "text/plain": [
       "[6, 8]"
      ]
     },
     "execution_count": 19,
     "metadata": {},
     "output_type": "execute_result"
    }
   ],
   "source": [
    "nums=[0,1,2,3,4,5,6,7,8]\n",
    "target=14\n",
    "twoSum(nums, target)"
   ]
  },
  {
   "cell_type": "markdown",
   "metadata": {},
   "source": [
    "# Longest Substring Without Repeating Characters\n",
    "\n",
    "Given \"abcabcbb\", the answer is \"abc\", which the length is 3.\n",
    "\n",
    "Given \"bbbbb\", the answer is \"b\", with the length of 1.\n",
    "\n",
    "Given \"pwwkew\", the answer is \"wke\", with the length of 3. Note that the answer must be a substring, \"pwke\" is a subsequence"
   ]
  },
  {
   "cell_type": "code",
   "execution_count": 43,
   "metadata": {
    "collapsed": true
   },
   "outputs": [],
   "source": [
    "def lengthOfLongestSubstring(s):\n",
    "    if s=='':\n",
    "            return 0\n",
    "\n",
    "    curS=s[0]\n",
    "    curLen=len(curS)\n",
    "    maxLen=curLen\n",
    "    for si in range(1,len(s)):\n",
    "        if s[si] in curS:\n",
    "            curS=curS[curS.find(s[si])+1:]\n",
    "            curLen=len(curS)\n",
    "        curS+=s[si]\n",
    "        curLen=len(curS)\n",
    "        if curLen>maxLen:\n",
    "            maxLen=curLen\n",
    "    return maxLen"
   ]
  },
  {
   "cell_type": "code",
   "execution_count": 44,
   "metadata": {},
   "outputs": [
    {
     "data": {
      "text/plain": [
       "3"
      ]
     },
     "execution_count": 44,
     "metadata": {},
     "output_type": "execute_result"
    }
   ],
   "source": [
    "s=\"abcabcbb\"\n",
    "#s=\"bbbbb\"\n",
    "#s=\"pwwkew\"\n",
    "#s='s'\n",
    "lengthOfLongestSubstring(s)"
   ]
  },
  {
   "cell_type": "markdown",
   "metadata": {},
   "source": [
    "### faster "
   ]
  },
  {
   "cell_type": "code",
   "execution_count": 45,
   "metadata": {
    "collapsed": true
   },
   "outputs": [],
   "source": [
    "def lengthOfLongestSubstring(s):\n",
    "    if s=='':\n",
    "            return 0\n",
    "\n",
    "    curS=s[0]\n",
    "    curLen=len(curS)\n",
    "    maxLen=curLen\n",
    "    dicS={}\n",
    "    dicS[s[0]]=0\n",
    "    startI=0\n",
    "    for si in range(1,len(s)):\n",
    "        if s[si] in dicS and dicS[s[si]]>=startI:\n",
    "                startI=dicS[s[si]]+1\n",
    "                dicS[s[si]]=si\n",
    "                curLen=si-startI+1\n",
    "        else:\n",
    "            curLen+=1\n",
    "            dicS[s[si]]=si\n",
    "        if curLen>maxLen:\n",
    "            maxLen=curLen\n",
    "    return maxLen"
   ]
  },
  {
   "cell_type": "code",
   "execution_count": 49,
   "metadata": {},
   "outputs": [
    {
     "data": {
      "text/plain": [
       "1"
      ]
     },
     "execution_count": 49,
     "metadata": {},
     "output_type": "execute_result"
    }
   ],
   "source": [
    "s=\"abcabcbb\"\n",
    "s=\"bbbbb\"\n",
    "s=\"pwwkew\"\n",
    "s='s'\n",
    "lengthOfLongestSubstring(s)"
   ]
  },
  {
   "cell_type": "markdown",
   "metadata": {},
   "source": [
    "# Group Anagrams"
   ]
  },
  {
   "cell_type": "markdown",
   "metadata": {},
   "source": [
    "### faster uses char count"
   ]
  },
  {
   "cell_type": "code",
   "execution_count": 64,
   "metadata": {
    "collapsed": true
   },
   "outputs": [],
   "source": [
    "def groupAnagrams(strs):\n",
    "        \"\"\"\n",
    "        :type strs: List[str]\n",
    "        :rtype: List[List[str]]\n",
    "        \"\"\"\n",
    "        dicStr={}\n",
    "        for s in strs:\n",
    "            ss=''.join(sorted(s))\n",
    "            if ss in dicStr:\n",
    "                dicStr[ss].append(s)\n",
    "            else:\n",
    "                dicStr[ss]=[s]\n",
    "        return dicStr.values()"
   ]
  },
  {
   "cell_type": "code",
   "execution_count": 65,
   "metadata": {},
   "outputs": [
    {
     "name": "stdout",
     "output_type": "stream",
     "text": [
      "aet\n",
      "aet\n",
      "ant\n",
      "aet\n",
      "ant\n",
      "abt\n"
     ]
    },
    {
     "data": {
      "text/plain": [
       "[['tan', 'nat'], ['bat'], ['eat', 'tea', 'ate']]"
      ]
     },
     "execution_count": 65,
     "metadata": {},
     "output_type": "execute_result"
    }
   ],
   "source": [
    "strs=[\"eat\", \"tea\", \"tan\", \"ate\", \"nat\", \"bat\"]\n",
    "groupAnagrams(strs)"
   ]
  },
  {
   "cell_type": "markdown",
   "metadata": {},
   "source": [
    "# merge intervals"
   ]
  },
  {
   "cell_type": "code",
   "execution_count": 66,
   "metadata": {
    "collapsed": true
   },
   "outputs": [],
   "source": [
    "array=[[1,9],[2,5],[19,20],[10,11],[12,20],[0,3],[0,1],[0,2]]"
   ]
  },
  {
   "cell_type": "code",
   "execution_count": 67,
   "metadata": {
    "collapsed": true
   },
   "outputs": [],
   "source": [
    "class Interval(object):\n",
    "     def __init__(self, s=0, e=0):\n",
    "        self.start = s\n",
    "        self.end = e\n",
    "    "
   ]
  },
  {
   "cell_type": "code",
   "execution_count": 68,
   "metadata": {
    "collapsed": true
   },
   "outputs": [],
   "source": [
    "intervals=[Interval(x[0],x[1]) for x in array]"
   ]
  },
  {
   "cell_type": "code",
   "execution_count": 77,
   "metadata": {
    "collapsed": true
   },
   "outputs": [],
   "source": [
    "array=[[1,4],[4,5]]\n",
    "intervals=[Interval(x[0],x[1]) for x in array]"
   ]
  },
  {
   "cell_type": "code",
   "execution_count": 76,
   "metadata": {
    "collapsed": true
   },
   "outputs": [],
   "source": [
    "def merge(intervals):\n",
    "        \"\"\"\n",
    "        :type intervals: List[Interval]\n",
    "        :rtype: List[Interval]\n",
    "        \"\"\"\n",
    "        intervals=sorted(intervals, key=lambda x: x.start)\n",
    "        merged=[intervals[0]]\n",
    "        for i in intervals[1:]:\n",
    "                if i.start<=merged[-1].end and i.start>=merged[-1].start:\n",
    "                    if i.end>merged[-1].end:\n",
    "                        merged[-1].end=i.end\n",
    "                else:\n",
    "                    merged.append(i)\n",
    "        return merged"
   ]
  },
  {
   "cell_type": "code",
   "execution_count": 78,
   "metadata": {},
   "outputs": [
    {
     "name": "stdout",
     "output_type": "stream",
     "text": [
      "1 5\n"
     ]
    }
   ],
   "source": [
    "for x in merge(intervals):\n",
    "    print x.start,x.end"
   ]
  },
  {
   "cell_type": "markdown",
   "metadata": {},
   "source": [
    "# Word Ladder II"
   ]
  },
  {
   "cell_type": "code",
   "execution_count": 192,
   "metadata": {
    "collapsed": true
   },
   "outputs": [],
   "source": [
    "def diff(s1,s2,pastDic):\n",
    "    key='_'.join(sorted([s1,s2]))\n",
    "    if key in pastDic:\n",
    "        return pastDic[key]\n",
    "    count=0\n",
    "    for s1i,s2i in zip(s1,s2):\n",
    "        if s1i!=s2i:\n",
    "            count+=1\n",
    "    pastDic[key]=count\n",
    "    return count"
   ]
  },
  {
   "cell_type": "code",
   "execution_count": 196,
   "metadata": {},
   "outputs": [
    {
     "data": {
      "text/plain": [
       "[]"
      ]
     },
     "execution_count": 196,
     "metadata": {},
     "output_type": "execute_result"
    }
   ],
   "source": [
    "beginWord = \"hot\"\n",
    "endWord = \"dog\"\n",
    "wordList = [\"hot\",\"dog\"]\n",
    "findLadders(beginWord, endWord, wordList)"
   ]
  },
  {
   "cell_type": "code",
   "execution_count": 129,
   "metadata": {},
   "outputs": [
    {
     "data": {
      "text/plain": [
       "[]"
      ]
     },
     "execution_count": 129,
     "metadata": {},
     "output_type": "execute_result"
    }
   ],
   "source": []
  },
  {
   "cell_type": "code",
   "execution_count": 195,
   "metadata": {},
   "outputs": [
    {
     "data": {
      "text/plain": [
       "[['hit', 'hot', 'dot', 'dog', 'cog'], ['hit', 'hot', 'lot', 'log', 'cog']]"
      ]
     },
     "execution_count": 195,
     "metadata": {},
     "output_type": "execute_result"
    }
   ],
   "source": [
    "beginWord = \"hit\"\n",
    "endWord = \"cog\"\n",
    "wordList = [\"hot\",\"dot\",\"dog\",\"lot\",\"log\",\"cog\"]\n",
    "findLadders(beginWord, endWord, wordList)"
   ]
  },
  {
   "cell_type": "code",
   "execution_count": 193,
   "metadata": {
    "collapsed": true
   },
   "outputs": [],
   "source": [
    "def findLadders(beginWord, endWord, wordList):\n",
    "        ladders=[[beginWord]]\n",
    "        wordList=set(wordList)-set([beginWord])\n",
    "        found=False\n",
    "        lenWord=-1\n",
    "        pastDic={}\n",
    "        while  lenWord!=len(wordList):\n",
    "            lenWord=len(wordList)\n",
    "            \n",
    "            numLadders=len(ladders)\n",
    "            for ladderI in range(numLadders):\n",
    "                for word in wordList:\n",
    "                    if diff(word,ladders[ladderI][-1],pastDic)==1:\n",
    "                        if word==endWord:\n",
    "                            found=True\n",
    "                        ladders.append(ladders[ladderI]+[word])\n",
    "            ladders=ladders[numLadders:]\n",
    "            if found==True:\n",
    "                return [ladder for ladder in ladders if ladder[-1]==endWord]\n",
    "            \n",
    "            wordList=set(wordList)-set([ladder[-1] for ladder in ladders])\n",
    "        return []\n",
    "            \n",
    "        "
   ]
  },
  {
   "cell_type": "code",
   "execution_count": 194,
   "metadata": {},
   "outputs": [
    {
     "data": {
      "text/plain": [
       "[['hot', 'dot', 'dog']]"
      ]
     },
     "execution_count": 194,
     "metadata": {},
     "output_type": "execute_result"
    }
   ],
   "source": [
    "beginWord=\"hot\"\n",
    "endWord=\"dog\"\n",
    "wordList=[\"hot\",\"dog\",\"dot\"]\n",
    "findLadders(beginWord, endWord, wordList)"
   ]
  },
  {
   "cell_type": "markdown",
   "metadata": {},
   "source": [
    "# skyline"
   ]
  },
  {
   "cell_type": "code",
   "execution_count": 197,
   "metadata": {
    "collapsed": true
   },
   "outputs": [],
   "source": [
    "buildings=[ [2, 9, 10], [3, 7, 15], [5, 12, 12], [15, 20, 10], [19, 24, 8] ]"
   ]
  },
  {
   "cell_type": "code",
   "execution_count": null,
   "metadata": {
    "collapsed": true
   },
   "outputs": [],
   "source": [
    "buildings"
   ]
  },
  {
   "cell_type": "code",
   "execution_count": 219,
   "metadata": {},
   "outputs": [
    {
     "data": {
      "text/plain": [
       "[[2, 10], [3, 15], [7, 12], [12, 0], [15, 10], [20, 8], [24, 0]]"
      ]
     },
     "execution_count": 219,
     "metadata": {},
     "output_type": "execute_result"
    }
   ],
   "source": [
    "getSkyline(buildings)"
   ]
  },
  {
   "cell_type": "code",
   "execution_count": null,
   "metadata": {
    "collapsed": true
   },
   "outputs": [],
   "source": [
    "[ [2 10], [3 15], [7 12], [12 0], [15 10], [20 8], [24, 0] ]."
   ]
  },
  {
   "cell_type": "code",
   "execution_count": 226,
   "metadata": {},
   "outputs": [
    {
     "data": {
      "text/plain": [
       "[[0, 3], [5, 0]]"
      ]
     },
     "execution_count": 226,
     "metadata": {},
     "output_type": "execute_result"
    }
   ],
   "source": [
    "getSkyline([[0,2,3],[2,5,3]])"
   ]
  },
  {
   "cell_type": "code",
   "execution_count": 232,
   "metadata": {
    "collapsed": true
   },
   "outputs": [],
   "source": [
    "def getSkyline(buildings):\n",
    "        \"\"\"\n",
    "        :type buildings: List[List[int]]\n",
    "        :rtype: List[List[int]]\n",
    "        \"\"\"\n",
    "        BL=sorted([[y,x[2],label] for x in buildings \n",
    "                   for y,label in zip(x[:2],[0,1])], \n",
    "                  key= lambda x: (x[0],x[2]))\n",
    "        maxH=-1\n",
    "        SL=[]\n",
    "        curBuilding=[]\n",
    "        for x in BL:\n",
    "            if x[2]==1:\n",
    "                curBuilding.remove(x[1])\n",
    "                tempMax=max(curBuilding or [0])\n",
    "                if tempMax!=maxH:\n",
    "                    if x[0]==SL[-1][0]:\n",
    "                        SL[-1][1]=tempMax\n",
    "                    else:\n",
    "                        SL.append([x[0],tempMax])\n",
    "                    maxH=tempMax\n",
    "            if x[2]==0:\n",
    "                curBuilding.append(x[1])\n",
    "                if x[1]>maxH:\n",
    "                    maxH=x[1]\n",
    "                    if len(SL)>0 and x[0]==SL[-1][0]:\n",
    "                        SL[-1][1]=maxH\n",
    "                    else:\n",
    "                        SL.append([x[0],maxH])\n",
    "        return SL"
   ]
  },
  {
   "cell_type": "code",
   "execution_count": 230,
   "metadata": {},
   "outputs": [
    {
     "data": {
      "text/plain": [
       "[[1, 3], [2, 0]]"
      ]
     },
     "execution_count": 230,
     "metadata": {},
     "output_type": "execute_result"
    }
   ],
   "source": [
    "getSkyline([[1,2,1],[1,2,2],[1,2,3]])"
   ]
  },
  {
   "cell_type": "code",
   "execution_count": 233,
   "metadata": {},
   "outputs": [
    {
     "data": {
      "text/plain": [
       "[[2, 7], [4, 0]]"
      ]
     },
     "execution_count": 233,
     "metadata": {},
     "output_type": "execute_result"
    }
   ],
   "source": [
    "getSkyline([[2,4,7],[2,4,5],[2,4,6]])"
   ]
  },
  {
   "cell_type": "code",
   "execution_count": 55,
   "metadata": {
    "collapsed": true
   },
   "outputs": [],
   "source": [
    "def fib(k):\n",
    "    if k==0:\n",
    "        return True\n",
    "    if k==1:\n",
    "        return True\n",
    "    fib1=0\n",
    "    fib2=1    \n",
    "    while fib2<k:\n",
    "        temp=fib1\n",
    "        fib1=fib2\n",
    "        fib2=fib1+temp\n",
    "        if fib2==k:\n",
    "            return True\n",
    "    return False"
   ]
  },
  {
   "cell_type": "code",
   "execution_count": 58,
   "metadata": {},
   "outputs": [
    {
     "data": {
      "text/plain": [
       "False"
      ]
     },
     "execution_count": 58,
     "metadata": {},
     "output_type": "execute_result"
    }
   ],
   "source": [
    "fib(145)"
   ]
  },
  {
   "cell_type": "markdown",
   "metadata": {
    "collapsed": true
   },
   "source": [
    "# Fizz buzz"
   ]
  },
  {
   "cell_type": "code",
   "execution_count": 3,
   "metadata": {
    "collapsed": true
   },
   "outputs": [],
   "source": [
    "n=19\n",
    "results=[]\n",
    "for i in range(1,n+1):\n",
    "    word=''\n",
    "    if i%3==0:\n",
    "        word='Fizz'\n",
    "    if i%5==0:\n",
    "        word+='Buzz'\n",
    "    if word=='':\n",
    "        results.append(i)\n",
    "    else:\n",
    "        results.append(word)"
   ]
  },
  {
   "cell_type": "markdown",
   "metadata": {
    "collapsed": true
   },
   "source": [
    "# Longest Palindromic Substring"
   ]
  },
  {
   "cell_type": "code",
   "execution_count": 9,
   "metadata": {},
   "outputs": [
    {
     "name": "stdout",
     "output_type": "stream",
     "text": [
      "0 0 1\n",
      "1 -1 1\n",
      "2 -1 4\n",
      "1 0 2\n",
      "0 2 3\n",
      "1 1 3\n",
      "0 3 4\n",
      "2 1 5\n",
      "0 4 5\n",
      "2 2 6\n",
      "1 4 7\n",
      "1 4 6\n",
      "1 5 8\n",
      "5 1 11\n",
      "0 7 8\n",
      "1 6 8\n",
      "0 8 9\n",
      "2 6 10\n",
      "0 9 10\n",
      "3 6 12\n",
      "0 10 11\n",
      "4 6 14\n",
      "0 11 12\n",
      "5 6 16\n",
      "0 12 13\n",
      "5 7 17\n",
      "0 13 14\n",
      "4 9 17\n",
      "0 14 15\n",
      "3 11 17\n",
      "0 15 16\n",
      "2 13 17\n",
      "1 15 18\n",
      "1 15 17\n",
      "1 16 19\n",
      "9 8 26\n",
      "0 18 19\n",
      "1 17 19\n",
      "0 19 20\n",
      "2 17 21\n",
      "0 20 21\n",
      "3 17 23\n",
      "0 21 22\n",
      "4 17 25\n",
      "0 22 23\n",
      "4 18 26\n",
      "0 23 24\n",
      "3 20 26\n",
      "0 24 25\n",
      "2 22 26\n",
      "3 22 29\n",
      "1 24 26\n",
      "0 26 27\n",
      "1 25 27\n",
      "0 27 28\n",
      "2 25 29\n"
     ]
    }
   ],
   "source": [
    "array='keekekkkekekekekeeekekekekkek'\n",
    "maxLen=1\n",
    "for x in range(1,len(array)):\n",
    "    curMax=0\n",
    "    i1=x-1\n",
    "    i2=x\n",
    "    curMax=expand(i1,i2,array,curMax)\n",
    "    if curMax>maxLen:\n",
    "        maxLen=curMax\n",
    "    curMax=1\n",
    "    i1=x-2\n",
    "    i2=x\n",
    "    curMax=expand(i1,i2,array,curMax)\n",
    "    if curMax>maxLen:\n",
    "        maxLen=curMax\n",
    "        "
   ]
  },
  {
   "cell_type": "code",
   "execution_count": 8,
   "metadata": {
    "collapsed": true
   },
   "outputs": [],
   "source": [
    "def expand(i1,i2,array,curMax):\n",
    "    while(i1>=0 and i2<len(array)):\n",
    "        if array[i1]==array[i2]:\n",
    "            curMax+=1\n",
    "        else:\n",
    "            break\n",
    "        i1-=1\n",
    "        i2+=1\n",
    "    print curMax,i1,i2\n",
    "    return curMax"
   ]
  },
  {
   "cell_type": "code",
   "execution_count": 7,
   "metadata": {},
   "outputs": [
    {
     "data": {
      "text/plain": [
       "9"
      ]
     },
     "execution_count": 7,
     "metadata": {},
     "output_type": "execute_result"
    }
   ],
   "source": [
    "maxLen"
   ]
  },
  {
   "cell_type": "markdown",
   "metadata": {},
   "source": [
    "# Valid Sqr"
   ]
  },
  {
   "cell_type": "code",
   "execution_count": 16,
   "metadata": {
    "collapsed": true
   },
   "outputs": [],
   "source": [
    "def isPerfectSquare(num):\n",
    "        \"\"\"\n",
    "        :type num: int\n",
    "        :rtype: bool\n",
    "        \"\"\"\n",
    "        if num==1:\n",
    "            return True\n",
    "        a=1\n",
    "        b=num\n",
    "        while(b-a>1):\n",
    "            c=int((a+b)*0.5)\n",
    "            csqr=c*c\n",
    "            if csqr==num:\n",
    "                return True\n",
    "            if csqr>num:\n",
    "                b=c\n",
    "            else:\n",
    "                a=c\n",
    "        return False"
   ]
  },
  {
   "cell_type": "code",
   "execution_count": 17,
   "metadata": {},
   "outputs": [
    {
     "data": {
      "text/plain": [
       "True"
      ]
     },
     "execution_count": 17,
     "metadata": {},
     "output_type": "execute_result"
    }
   ],
   "source": [
    "isPerfectSquare(16)"
   ]
  },
  {
   "cell_type": "code",
   "execution_count": 19,
   "metadata": {},
   "outputs": [
    {
     "data": {
      "text/plain": [
       "102"
      ]
     },
     "execution_count": 19,
     "metadata": {},
     "output_type": "execute_result"
    }
   ],
   "source": [
    "ord('f')"
   ]
  },
  {
   "cell_type": "code",
   "execution_count": 14,
   "metadata": {
    "collapsed": true
   },
   "outputs": [],
   "source": [
    "array=[2, 3, 7, 6, 8, -1, -10, 15]"
   ]
  },
  {
   "cell_type": "code",
   "execution_count": 28,
   "metadata": {
    "collapsed": true
   },
   "outputs": [],
   "source": [
    "array=[2, 3, 7, 6, 8, -1, -10, 15,0]"
   ]
  },
  {
   "cell_type": "code",
   "execution_count": 21,
   "metadata": {
    "collapsed": true
   },
   "outputs": [],
   "source": [
    "array=[ -1, -10]"
   ]
  },
  {
   "cell_type": "code",
   "execution_count": 36,
   "metadata": {
    "collapsed": true
   },
   "outputs": [],
   "source": [
    "A=  [1, 3, 6, 4, 1, 2]"
   ]
  },
  {
   "cell_type": "code",
   "execution_count": 29,
   "metadata": {
    "collapsed": true
   },
   "outputs": [],
   "source": []
  },
  {
   "cell_type": "code",
   "execution_count": 54,
   "metadata": {
    "collapsed": true
   },
   "outputs": [],
   "source": [
    "startIndex=0\n",
    "endIndex=len(A)-1\n",
    "\n",
    "while(startIndex!=endIndex):\n",
    "    while(A[startIndex]<0 and startIndex<endIndex):\n",
    "        startIndex+=1\n",
    "    while(A[endIndex]>0 and startIndex<endIndex):\n",
    "        endIndex-=1\n",
    "    temp=A[startIndex]\n",
    "    A[startIndex]=A[endIndex]\n",
    "    A[endIndex]=temp\n",
    "if A[startIndex]<0:\n",
    "    array=A[startIndex+1:]\n",
    "else:\n",
    "    array=A[startIndex:]"
   ]
  },
  {
   "cell_type": "code",
   "execution_count": 55,
   "metadata": {},
   "outputs": [
    {
     "data": {
      "text/plain": [
       "[1, 3, 6, 4, 1, 2]"
      ]
     },
     "execution_count": 55,
     "metadata": {},
     "output_type": "execute_result"
    }
   ],
   "source": [
    "array"
   ]
  },
  {
   "cell_type": "code",
   "execution_count": 39,
   "metadata": {},
   "outputs": [
    {
     "data": {
      "text/plain": [
       "0"
      ]
     },
     "execution_count": 39,
     "metadata": {},
     "output_type": "execute_result"
    }
   ],
   "source": [
    "startIndex"
   ]
  },
  {
   "cell_type": "code",
   "execution_count": 56,
   "metadata": {},
   "outputs": [
    {
     "name": "stdout",
     "output_type": "stream",
     "text": [
      "1\n",
      "-3\n",
      "-4\n",
      "2\n"
     ]
    }
   ],
   "source": [
    "for i in range(len(array)):\n",
    "    if array[i]<len(array):\n",
    "        if array[abs(array[i])]>0:\n",
    "            print array[i]\n",
    "            array[abs(array[i])]=-array[abs(array[i])]"
   ]
  },
  {
   "cell_type": "code",
   "execution_count": 57,
   "metadata": {},
   "outputs": [
    {
     "data": {
      "text/plain": [
       "[1, -3, -6, -4, -1, 2]"
      ]
     },
     "execution_count": 57,
     "metadata": {},
     "output_type": "execute_result"
    }
   ],
   "source": [
    "array"
   ]
  },
  {
   "cell_type": "code",
   "execution_count": null,
   "metadata": {
    "collapsed": true
   },
   "outputs": [],
   "source": [
    "for i in range(1,len(array)):\n",
    "    if array[i]>0:\n",
    "        return i\n",
    "else:\n",
    "    "
   ]
  },
  {
   "cell_type": "markdown",
   "metadata": {},
   "source": [
    "# Overlapping rectangles"
   ]
  },
  {
   "cell_type": "code",
   "execution_count": null,
   "metadata": {
    "collapsed": true
   },
   "outputs": [],
   "source": [
    "def solution(A, B, C, D, E, F, G, H):\n",
    "    x1=None\n",
    "    x2=None\n",
    "    y1=None\n",
    "    y2=None\n",
    "    if E>=A and E<=C:\n",
    "        x1=E\n",
    "    if A>=E and A<=G:\n",
    "        x1=A\n",
    "    if C>=E and C<=G:\n",
    "        x2=C\n",
    "    if G>=A and G<=C:\n",
    "        x2=G\n",
    "    \n",
    "    if B>=F and B<=H:\n",
    "        y1=B\n",
    "    if F>=B and F<=D:\n",
    "        y1=F\n",
    "    if H>=B and H<=D:\n",
    "        y2=H\n",
    "    if D>=F and D<=H:\n",
    "        y2=D\n",
    "    area=(D-B)*(C-A)+(H-F)*(G-E)\n",
    "    if x1==None or x2==None or y1==None or y2==None:\n",
    "        return area\n",
    "    return area-(y2-y1)*(x2-x1)\n",
    "    "
   ]
  },
  {
   "cell_type": "markdown",
   "metadata": {},
   "source": [
    "# Lonely Integer"
   ]
  },
  {
   "cell_type": "code",
   "execution_count": 58,
   "metadata": {},
   "outputs": [
    {
     "data": {
      "text/plain": [
       "0"
      ]
     },
     "execution_count": 58,
     "metadata": {},
     "output_type": "execute_result"
    }
   ],
   "source": [
    "4^4"
   ]
  },
  {
   "cell_type": "code",
   "execution_count": 61,
   "metadata": {},
   "outputs": [
    {
     "data": {
      "text/plain": [
       "4"
      ]
     },
     "execution_count": 61,
     "metadata": {},
     "output_type": "execute_result"
    }
   ],
   "source": [
    "5^4^5"
   ]
  },
  {
   "cell_type": "code",
   "execution_count": 62,
   "metadata": {
    "collapsed": true
   },
   "outputs": [],
   "source": [
    "x={4,3}"
   ]
  },
  {
   "cell_type": "code",
   "execution_count": 86,
   "metadata": {
    "collapsed": true
   },
   "outputs": [],
   "source": [
    "def multiset_subset(multiset):\n",
    "    if len(multiset)==0:\n",
    "        return [[]]\n",
    "    resultsTot=[]    \n",
    "    results=multiset_subset(multiset[1:])\n",
    "    \n",
    "    return [a for a in results]+[a+[multiset[0]] for a in results]"
   ]
  },
  {
   "cell_type": "code",
   "execution_count": 93,
   "metadata": {
    "collapsed": true
   },
   "outputs": [],
   "source": [
    "multiset='a,b,a'"
   ]
  },
  {
   "cell_type": "code",
   "execution_count": 94,
   "metadata": {},
   "outputs": [
    {
     "data": {
      "text/plain": [
       "{'a', 'a,a', 'a,a,b', 'a,b', 'b'}"
      ]
     },
     "execution_count": 94,
     "metadata": {},
     "output_type": "execute_result"
    }
   ],
   "source": [
    "multiset_subset(multiset)"
   ]
  },
  {
   "cell_type": "code",
   "execution_count": null,
   "metadata": {
    "collapsed": true
   },
   "outputs": [],
   "source": []
  },
  {
   "cell_type": "code",
   "execution_count": 95,
   "metadata": {
    "collapsed": true
   },
   "outputs": [],
   "source": [
    "def multiset_subset(multiset):\n",
    "    results=[]\n",
    "    array=findAll(multiset.split(','))[1:]\n",
    "\n",
    "    return [','.join(sorted(a)) for a in array]\n",
    "    \n",
    "def findAll(multiset,resultsOld):    \n",
    "    if len(multiset)==0:\n",
    "        return ['']\n",
    "    results=findAll(multiset[1:],resultsOld)\n",
    "    for a in results:\n",
    "        if a not in resultsOld:\n",
    "            \n",
    "    return [a for a in results]+[a+[multiset[0]] for a in results]"
   ]
  },
  {
   "cell_type": "markdown",
   "metadata": {},
   "source": [
    "# Linkedin"
   ]
  },
  {
   "cell_type": "code",
   "execution_count": null,
   "metadata": {
    "collapsed": true
   },
   "outputs": [],
   "source": [
    "/* This class will be given a list of words (such as might be tokenized\n",
    " * from a paragraph of text), and will provide a method that takes two\n",
    " * words and returns the shortest distance (in words) between those two\n",
    " * words in the provided text.\n",
    " * Example:\n",
    " *   WordDistanceFinder finder = new WordDistanceFinder(Arrays.asList(\"the\", \"quick\", \"brown\", \"fox\", \"quick\"));\n",
    " *   assert(finder.distance(\"fox\", \"the\") == 3);\n",
    " *   assert(finder.distance(\"quick\", \"fox\") == 1);\n",
    " *\n",
    " * \"quick\" appears twice in the input. There are two possible distance values for \"quick\" and \"fox\":\n",
    " *     (3 - 1) = 2 and (4 - 3) = 1.\n",
    " * Since we have to return the shortest distance between the two words we return 1.\n",
    " */\n",
    "class WordDistanceFinder {\n",
    "    WordDistanceFinder (words) {\n",
    "        // implementation here\n",
    "        self.words=words\n",
    "        self.wordLocation={}\n",
    "        for i in range(len(self.words)):\n",
    "            if self.words[i] in self.wordLocation:\n",
    "                self.wordLocation[self.words[i]].append(i)\n",
    "            else:\n",
    "                self.wordLocation[self.words[i]]=[i]\n",
    "    }\n",
    "    public int distance (self,wordOne,wordTwo) {\n",
    "        // implementation here\n",
    "        list1=self.wordLocation[wordOne]\n",
    "        list2=self.wordLocation[wordTwo]\n",
    "        minDist=len(words)+1\n",
    "        startIndex=0\n",
    "        #[1, 10, 25]\n",
    "        #[12, 15, 26]\n",
    "        for i in list1:\n",
    "        \n",
    "            for curIndex,j in enumerate(list2[startIndex:]):\n",
    "                if abs(j-i)<minDist:\n",
    "                    startIndex=curIndex\n",
    "                    minDist=abs(j-i)\n",
    "                    \n",
    "                    \n",
    "        return minDist     \n",
    "        \n",
    "    }\n",
    "}\n"
   ]
  },
  {
   "cell_type": "code",
   "execution_count": 97,
   "metadata": {},
   "outputs": [
    {
     "ename": "TypeError",
     "evalue": "unsupported operand type(s) for +: 'int' and 'tuple'",
     "output_type": "error",
     "traceback": [
      "\u001b[0;31m---------------------------------------------------------------------------\u001b[0m",
      "\u001b[0;31mTypeError\u001b[0m                                 Traceback (most recent call last)",
      "\u001b[0;32m<ipython-input-97-53186e26f813>\u001b[0m in \u001b[0;36m<module>\u001b[0;34m()\u001b[0m\n\u001b[0;32m----> 1\u001b[0;31m \u001b[0msum\u001b[0m\u001b[0;34m(\u001b[0m\u001b[0mzip\u001b[0m\u001b[0;34m(\u001b[0m\u001b[0;34m[\u001b[0m\u001b[0;36m1\u001b[0m\u001b[0;34m,\u001b[0m\u001b[0;36m2\u001b[0m\u001b[0;34m]\u001b[0m\u001b[0;34m,\u001b[0m\u001b[0;34m[\u001b[0m\u001b[0;36m3\u001b[0m\u001b[0;34m,\u001b[0m\u001b[0;36m4\u001b[0m\u001b[0;34m]\u001b[0m\u001b[0;34m)\u001b[0m\u001b[0;34m)\u001b[0m\u001b[0;34m\u001b[0m\u001b[0m\n\u001b[0m",
      "\u001b[0;31mTypeError\u001b[0m: unsupported operand type(s) for +: 'int' and 'tuple'"
     ]
    }
   ],
   "source": [
    "sum(zip([1,2],[3,4]))"
   ]
  },
  {
   "cell_type": "code",
   "execution_count": 98,
   "metadata": {},
   "outputs": [
    {
     "data": {
      "text/plain": [
       "[(1, 3), (2, 4)]"
      ]
     },
     "execution_count": 98,
     "metadata": {},
     "output_type": "execute_result"
    }
   ],
   "source": [
    "zip([1,2],[3,4])"
   ]
  },
  {
   "cell_type": "markdown",
   "metadata": {},
   "source": [
    "# Word Distance"
   ]
  },
  {
   "cell_type": "code",
   "execution_count": 99,
   "metadata": {
    "collapsed": true
   },
   "outputs": [],
   "source": [
    "words = [\"practice\", \"makes\", \"perfect\", \"coding\", \"makes\"]\n"
   ]
  },
  {
   "cell_type": "code",
   "execution_count": null,
   "metadata": {
    "collapsed": true
   },
   "outputs": [],
   "source": [
    "class distClass:\n",
    "    def __init__(self,words):\n",
    "        self.words = words\n",
    "        self.wordLocation={}\n",
    "        for i,word in enumerate(words):\n",
    "            if word in self.wordLocation:\n",
    "                    self.wordLocation[word].append(i)\n",
    "            else:\n",
    "                self.wordLocation[word]=[self.wordLocation]\n",
    "        \n",
    "    def dist(w1,w2):\n",
    "         "
   ]
  },
  {
   "cell_type": "code",
   "execution_count": null,
   "metadata": {
    "collapsed": true
   },
   "outputs": [],
   "source": [
    "word1 = \"coding\"\n",
    "word2 = \"practice\"\n",
    "word1 = \"makes\" \n",
    "word2 = \"coding\""
   ]
  },
  {
   "cell_type": "markdown",
   "metadata": {},
   "source": [
    "#  Number of Islands"
   ]
  },
  {
   "cell_type": "code",
   "execution_count": 100,
   "metadata": {
    "collapsed": true
   },
   "outputs": [],
   "source": [
    "grid=[[\"1\",\"1\",\"1\",\"1\",\"0\"],\n",
    "      [\"1\",\"1\",\"0\",\"1\",\"0\"],\n",
    "      [\"1\",\"1\",\"0\",\"0\",\"0\"],\n",
    "      [\"0\",\"0\",\"0\",\"0\",\"0\"]]\n"
   ]
  },
  {
   "cell_type": "code",
   "execution_count": 106,
   "metadata": {},
   "outputs": [
    {
     "name": "stdout",
     "output_type": "stream",
     "text": [
      "0 0 0 1\n",
      "here\n",
      "1 0 1 1\n",
      "2 0 1 1\n",
      "3 0 1 0\n",
      "0 1 1 1\n",
      "1 1 1 1\n",
      "2 1 1 1\n",
      "3 1 1 0\n",
      "0 2 1 1\n",
      "1 2 1 0\n",
      "2 2 1 0\n",
      "3 2 1 0\n",
      "0 3 1 1\n",
      "1 3 1 1\n",
      "2 3 1 0\n",
      "3 3 1 0\n",
      "0 4 1 0\n",
      "1 4 1 0\n",
      "2 4 1 0\n",
      "3 4 0 0\n"
     ]
    },
    {
     "data": {
      "text/plain": [
       "1"
      ]
     },
     "execution_count": 106,
     "metadata": {},
     "output_type": "execute_result"
    }
   ],
   "source": [
    "numIslands(grid)"
   ]
  },
  {
   "cell_type": "code",
   "execution_count": 105,
   "metadata": {
    "collapsed": true
   },
   "outputs": [],
   "source": [
    "def numIslands(grid):\n",
    "    \n",
    "    lenx=len(grid)\n",
    "    leny=len(grid[0])\n",
    "    visited=[[0 for y in range(leny)] for x in range(lenx)]\n",
    "    count=0\n",
    "    for y in range(leny):\n",
    "        for x in range(lenx):\n",
    "            print x,y,visited[x][y],grid[x][y]\n",
    "            if visited[x][y]==0:\n",
    "                if grid[x][y]=='1':\n",
    "                    print 'here'\n",
    "                    visited[x][y]=1\n",
    "                    check(x,y,grid,visited,lenx,leny)\n",
    "                    count+=1\n",
    "    return count\n",
    "                    \n",
    "def check(x,y,grid,visited,lenx,leny):\n",
    "    for xi,yi in zip([-1,1,0,0],[0,0,-1,1]):\n",
    "        if x+xi>=0 and y+yi>=0 and x+xi<lenx and y+yi<leny:\n",
    "            if visited[x+xi][y+yi]==0:\n",
    "                visited[x+xi][y+yi]=1\n",
    "                if grid[x+xi][y+yi]=='1':\n",
    "                    check(x+xi,y+yi,grid,visited)\n",
    "\n"
   ]
  },
  {
   "cell_type": "markdown",
   "metadata": {},
   "source": [
    "# House Robber III"
   ]
  },
  {
   "cell_type": "code",
   "execution_count": null,
   "metadata": {
    "collapsed": true
   },
   "outputs": [],
   "source": [
    "def rob(self, root):\n",
    "    \"\"\"\n",
    "    :type root: TreeNode\n",
    "    :rtype: int\n",
    "    \"\"\"\n",
    "\n",
    "    def findAmount(root):\n",
    "        if root==None:\n",
    "            return 0,0\n",
    "        L0,L1=findAmount(root.left)\n",
    "        R0,R1=findAmount(root.right)\n",
    "        x0=max(R0+L0,R0+L1,R1+L0,R1+L1)\n",
    "        x1=root.val+L0+R0\n",
    "        return x0,x1\n",
    "\n",
    "    return max(findAmount(root))"
   ]
  },
  {
   "cell_type": "markdown",
   "metadata": {},
   "source": [
    "# Word pattern"
   ]
  },
  {
   "cell_type": "code",
   "execution_count": 107,
   "metadata": {
    "collapsed": true
   },
   "outputs": [],
   "source": [
    "    def wordPattern(self, pattern, str):\n",
    "        \"\"\"\n",
    "        :type pattern: str\n",
    "        :type str: str\n",
    "        :rtype: bool\n",
    "        \"\"\"\n",
    "        if len(pattern)!=len(str.split(' ')):\n",
    "            return False\n",
    "        mapWords={}\n",
    "        setWords=set()\n",
    "        for p,s in zip(pattern,str.split(' ')):\n",
    "            if p in mapWords and mapWords[p]!=s:\n",
    "                return False\n",
    "            if p not in mapWords and s in setWords:\n",
    "                return False\n",
    "            if p not in mapWords:\n",
    "                mapWords[p]=s\n",
    "                setWords.add(s)\n",
    "        return True"
   ]
  },
  {
   "cell_type": "code",
   "execution_count": 108,
   "metadata": {},
   "outputs": [
    {
     "data": {
      "text/plain": [
       "2"
      ]
     },
     "execution_count": 108,
     "metadata": {},
     "output_type": "execute_result"
    }
   ],
   "source": [
    "set([2,3]).pop()"
   ]
  },
  {
   "cell_type": "code",
   "execution_count": 111,
   "metadata": {
    "collapsed": true
   },
   "outputs": [],
   "source": [
    "if set():\n",
    "    print 'ere'"
   ]
  },
  {
   "cell_type": "code",
   "execution_count": 112,
   "metadata": {},
   "outputs": [
    {
     "data": {
      "text/plain": [
       "False"
      ]
     },
     "execution_count": 112,
     "metadata": {},
     "output_type": "execute_result"
    }
   ],
   "source": [
    "[3]==False"
   ]
  },
  {
   "cell_type": "markdown",
   "metadata": {},
   "source": [
    "# Word Pattern II"
   ]
  },
  {
   "cell_type": "markdown",
   "metadata": {},
   "source": [
    "# Factor Combinations"
   ]
  },
  {
   "cell_type": "code",
   "execution_count": 149,
   "metadata": {
    "collapsed": true
   },
   "outputs": [],
   "source": [
    "def factor(start,num):\n",
    "    if num==1:\n",
    "        return False\n",
    "    i=start\n",
    "    notFound=True\n",
    "    while(i<=num and notFound==True):\n",
    "        if num%i==0:\n",
    "            notFound=False\n",
    "            x1=i\n",
    "            num=num/i\n",
    "            if num!=1:\n",
    "                results=factor(i,num)\n",
    "                if results!=False:\n",
    "                    return [r+[i] for r in results]+[[x1,num]]+\\\\\n",
    "                        []\n",
    "                else:\n",
    "                    return [[x1,num]]\n",
    "            return False\n",
    "            \n",
    "            \n",
    "        i+=1\n",
    "        \n",
    "        \n",
    "        "
   ]
  },
  {
   "cell_type": "code",
   "execution_count": 150,
   "metadata": {},
   "outputs": [
    {
     "data": {
      "text/plain": [
       "[[2, 2, 2], [2, 4]]"
      ]
     },
     "execution_count": 150,
     "metadata": {},
     "output_type": "execute_result"
    }
   ],
   "source": [
    "factor(2,8)"
   ]
  },
  {
   "cell_type": "code",
   "execution_count": 151,
   "metadata": {},
   "outputs": [
    {
     "data": {
      "text/plain": [
       "[[2, 2, 2, 2], [2, 4, 2], [2, 8]]"
      ]
     },
     "execution_count": 151,
     "metadata": {},
     "output_type": "execute_result"
    }
   ],
   "source": [
    "factor(2,16)"
   ]
  },
  {
   "cell_type": "code",
   "execution_count": 152,
   "metadata": {},
   "outputs": [
    {
     "data": {
      "text/plain": [
       "[[2, 3, 2], [2, 6]]"
      ]
     },
     "execution_count": 152,
     "metadata": {},
     "output_type": "execute_result"
    }
   ],
   "source": [
    "factor(2,12)"
   ]
  },
  {
   "cell_type": "code",
   "execution_count": 144,
   "metadata": {},
   "outputs": [
    {
     "data": {
      "text/plain": [
       "[[2, 2]]"
      ]
     },
     "execution_count": 144,
     "metadata": {},
     "output_type": "execute_result"
    }
   ],
   "source": [
    "factor(2,4)"
   ]
  },
  {
   "cell_type": "markdown",
   "metadata": {},
   "source": [
    "# Group Shifted Strings"
   ]
  },
  {
   "cell_type": "code",
   "execution_count": 170,
   "metadata": {
    "collapsed": true
   },
   "outputs": [],
   "source": [
    "array=[\"abc\", \"bcd\", \"acef\", \"xyz\", \"az\", \"ba\", \"a\", \"z\",'tmq']"
   ]
  },
  {
   "cell_type": "code",
   "execution_count": 171,
   "metadata": {
    "collapsed": true
   },
   "outputs": [],
   "source": [
    "dicArray={}\n",
    "for a in array:\n",
    "    dist=ord(a[0])-ord('a')\n",
    "    key='_'.join([str(ord(ai)-dist) for ai in a])\n",
    "    if key in dicArray:\n",
    "        dicArray[key].append(a)\n",
    "    else:\n",
    "        dicArray[key]=[a]"
   ]
  },
  {
   "cell_type": "code",
   "execution_count": 172,
   "metadata": {},
   "outputs": [
    {
     "data": {
      "text/plain": [
       "{'97': ['a', 'z'],\n",
       " '97_122': ['az'],\n",
       " '97_90_94': ['tmq'],\n",
       " '97_96': ['ba'],\n",
       " '97_98_99': ['abc', 'bcd', 'xyz'],\n",
       " '97_99_101_102': ['acef']}"
      ]
     },
     "execution_count": 172,
     "metadata": {},
     "output_type": "execute_result"
    }
   ],
   "source": [
    "dicArray"
   ]
  },
  {
   "cell_type": "markdown",
   "metadata": {},
   "source": [
    "# Reverse words in a given string"
   ]
  },
  {
   "cell_type": "code",
   "execution_count": 184,
   "metadata": {
    "collapsed": true
   },
   "outputs": [],
   "source": [
    "def revString(i,j,s):\n",
    "    halfLen=int((j-i+1)*0.5)\n",
    "    for xi in range(i,i+halfLen):\n",
    "        temp=s[xi]\n",
    "        s[xi]=s[j-(xi-i)]\n",
    "        s[j-(xi-i)]=temp\n",
    "    return s"
   ]
  },
  {
   "cell_type": "code",
   "execution_count": 193,
   "metadata": {},
   "outputs": [
    {
     "data": {
      "text/plain": [
       "'practice of lot a needs coding at good getting'"
      ]
     },
     "execution_count": 193,
     "metadata": {},
     "output_type": "execute_result"
    }
   ],
   "source": [
    "s = list(\"getting good at coding needs a lot of practice\")\n",
    "i=0\n",
    "j=0\n",
    "while(i<len(s) and j<=len(s)):\n",
    "    if j==len(s) or s[j]==' ':\n",
    "        s=revString(i,j-1,s)\n",
    "        i=j+1\n",
    "        j=i\n",
    "    else:\n",
    "        j+=1\n",
    "''.join(revString(0,len(s)-1,s))"
   ]
  },
  {
   "cell_type": "markdown",
   "metadata": {},
   "source": [
    "# one edit distance"
   ]
  },
  {
   "cell_type": "code",
   "execution_count": 223,
   "metadata": {
    "collapsed": true
   },
   "outputs": [],
   "source": [
    "w1='abcdek'\n",
    "w2='acdeijk'\n",
    "i=0\n",
    "j=0\n",
    "cost=0\n",
    "while(i<len(w1) and j<len(w2)):\n",
    "    if w1[i]!=w2[j]:\n",
    "        \n",
    "        cost+=1\n",
    "        if i+1<len(w1) and w1[i+1]==w2[j]:\n",
    "            i=i+1\n",
    "        elif j+1<len(w2) and w2[j+1]==w1[i]:\n",
    "            j=j+1\n",
    "\n",
    "    if i!=len(w1)-1 and j!=len(w2)-1:\n",
    "        i=i+1\n",
    "        j=j+1\n",
    "    elif i!=len(w1)-1:\n",
    "        i=i+1\n",
    "    elif j!=len(w2)-1:\n",
    "        j=j+1\n",
    "    else:\n",
    "        i=i+1\n",
    "        j=j+1\n"
   ]
  },
  {
   "cell_type": "code",
   "execution_count": 224,
   "metadata": {},
   "outputs": [
    {
     "data": {
      "text/plain": [
       "3"
      ]
     },
     "execution_count": 224,
     "metadata": {},
     "output_type": "execute_result"
    }
   ],
   "source": [
    "cost"
   ]
  },
  {
   "cell_type": "markdown",
   "metadata": {},
   "source": [
    "# "
   ]
  },
  {
   "cell_type": "code",
   "execution_count": 225,
   "metadata": {
    "collapsed": true
   },
   "outputs": [],
   "source": [
    "class RandomListNode(object):\n",
    "     def __init__(self, x):\n",
    "        self.label = x\n",
    "        self.next = None\n",
    "        self.random = None"
   ]
  },
  {
   "cell_type": "code",
   "execution_count": 237,
   "metadata": {
    "collapsed": true
   },
   "outputs": [],
   "source": [
    "import copy"
   ]
  },
  {
   "cell_type": "code",
   "execution_count": 234,
   "metadata": {
    "collapsed": true
   },
   "outputs": [],
   "source": [
    "root=RandomListNode(0)"
   ]
  },
  {
   "cell_type": "code",
   "execution_count": 235,
   "metadata": {
    "collapsed": true
   },
   "outputs": [],
   "source": [
    "root.next=RandomListNode(1)"
   ]
  },
  {
   "cell_type": "code",
   "execution_count": 236,
   "metadata": {
    "collapsed": true
   },
   "outputs": [],
   "source": [
    "root.next.next=RandomListNode(3)"
   ]
  },
  {
   "cell_type": "code",
   "execution_count": 238,
   "metadata": {
    "collapsed": true
   },
   "outputs": [],
   "source": [
    "root.next=copy.deepcopy(root)"
   ]
  },
  {
   "cell_type": "code",
   "execution_count": 239,
   "metadata": {},
   "outputs": [
    {
     "data": {
      "text/plain": [
       "0"
      ]
     },
     "execution_count": 239,
     "metadata": {},
     "output_type": "execute_result"
    }
   ],
   "source": [
    "root.label"
   ]
  },
  {
   "cell_type": "code",
   "execution_count": 240,
   "metadata": {},
   "outputs": [
    {
     "data": {
      "text/plain": [
       "0"
      ]
     },
     "execution_count": 240,
     "metadata": {},
     "output_type": "execute_result"
    }
   ],
   "source": [
    "root.next.label"
   ]
  },
  {
   "cell_type": "code",
   "execution_count": 241,
   "metadata": {},
   "outputs": [
    {
     "data": {
      "text/plain": [
       "1"
      ]
     },
     "execution_count": 241,
     "metadata": {},
     "output_type": "execute_result"
    }
   ],
   "source": [
    "root.next.next.label"
   ]
  },
  {
   "cell_type": "code",
   "execution_count": 242,
   "metadata": {
    "collapsed": true
   },
   "outputs": [],
   "source": [
    "def func(root):\n",
    "    root.label=9"
   ]
  },
  {
   "cell_type": "code",
   "execution_count": 243,
   "metadata": {
    "collapsed": true
   },
   "outputs": [],
   "source": [
    "func(root)"
   ]
  },
  {
   "cell_type": "code",
   "execution_count": 244,
   "metadata": {},
   "outputs": [
    {
     "data": {
      "text/plain": [
       "9"
      ]
     },
     "execution_count": 244,
     "metadata": {},
     "output_type": "execute_result"
    }
   ],
   "source": [
    "root.label"
   ]
  },
  {
   "cell_type": "markdown",
   "metadata": {},
   "source": [
    "# Decode Ways"
   ]
  },
  {
   "cell_type": "code",
   "execution_count": 245,
   "metadata": {
    "collapsed": true
   },
   "outputs": [],
   "source": [
    "array='123'"
   ]
  },
  {
   "cell_type": "code",
   "execution_count": 279,
   "metadata": {
    "collapsed": true
   },
   "outputs": [],
   "source": [
    "class Solution(object):\n",
    "\n",
    "    \n",
    "    def numDecodings(self, s):\n",
    "        \"\"\"\n",
    "        :type s: str\n",
    "        :rtype: int\n",
    "        \"\"\"\n",
    "        \n",
    "        def decode(s,T):\n",
    "            if s in T:\n",
    "                return T[s]\n",
    "            if len(s)==0:\n",
    "                return 0\n",
    "            if len(s)==1 and int(s[0])>0:\n",
    "                T[s]=1\n",
    "                return 1\n",
    "            if int(s[0])==0:\n",
    "                T[s]=0\n",
    "                return 0\n",
    "            ways=0\n",
    "            if len(s)==2:\n",
    "                if int(s[0])==1:\n",
    "                    ways+=1\n",
    "                if int(s[0])==2 and int(s[1])<7:\n",
    "                    ways+=1\n",
    "            if int(s[0])>0:\n",
    "                ways+=decode(s[1:],T)\n",
    "            if len(s)>2:\n",
    "                if int(s[0])==1:\n",
    "                    ways+=decode(s[2:],T)\n",
    "                if int(s[0])==2 and int(s[1])<7:\n",
    "                    ways+=decode(s[2:],T)\n",
    "            T[s]=ways\n",
    "            return ways\n",
    "        T={}\n",
    "        return decode(s,T)\n",
    "    \n"
   ]
  },
  {
   "cell_type": "code",
   "execution_count": 284,
   "metadata": {},
   "outputs": [
    {
     "data": {
      "text/plain": [
       "5"
      ]
     },
     "execution_count": 284,
     "metadata": {},
     "output_type": "execute_result"
    }
   ],
   "source": [
    "array='11235'\n",
    "decode(array)"
   ]
  },
  {
   "cell_type": "markdown",
   "metadata": {},
   "source": [
    "# Excel Sheet Column Number"
   ]
  },
  {
   "cell_type": "code",
   "execution_count": 289,
   "metadata": {
    "collapsed": true
   },
   "outputs": [],
   "source": [
    "def titleToNumber(s):\n",
    "    tot=0\n",
    "    for i,L in enumerate(s[::-1]):\n",
    "        \n",
    "        x=ord(L)-ord('A')+1\n",
    "        tot+=pow(26,i)*x\n",
    "    return tot"
   ]
  },
  {
   "cell_type": "code",
   "execution_count": 291,
   "metadata": {},
   "outputs": [
    {
     "data": {
      "text/plain": [
       "1379"
      ]
     },
     "execution_count": 291,
     "metadata": {},
     "output_type": "execute_result"
    }
   ],
   "source": [
    "titleToNumber('BAA')"
   ]
  },
  {
   "cell_type": "markdown",
   "metadata": {},
   "source": [
    "# Spiral Matrix"
   ]
  },
  {
   "cell_type": "code",
   "execution_count": 295,
   "metadata": {
    "collapsed": true
   },
   "outputs": [],
   "source": [
    "def spiralOrder(matrix):\n",
    "    xT1=0\n",
    "    xT2=len(matrix[0])-1\n",
    "    yT=0\n",
    "    \n",
    "    xR=len(matrix[0])-1\n",
    "    yR1=1\n",
    "    yR2=len(matrix)-1\n",
    "    \n",
    "    xB1=len(matrix[0])-2\n",
    "    xB2=0\n",
    "    yB=len(matrix)-1\n",
    "\n",
    "    xL=0\n",
    "    yL1=len(matrix)-2\n",
    "    yL2=1\n",
    "    foundOne=True\n",
    "    while (foundOne):\n",
    "        foundOne=False\n",
    "        for x in range(xT1,xT2+1):\n",
    "            print matrix[yT][x]\n",
    "            foundOne=True\n",
    "        xT1+=1\n",
    "        xT2-=1\n",
    "        yT+=1\n",
    "        for y in range(yR1,yR2+1):\n",
    "            print matrix[y][xR]\n",
    "            foundOne=True\n",
    "        xR-=1\n",
    "        yR1+=1\n",
    "        yR2-=1\n",
    "        for x in range(xB1,xB2-1,-1):\n",
    "            print matrix[yB][x]\n",
    "            foundOne=True\n",
    "        xB1-=1\n",
    "        xB2+=1\n",
    "        yB-=1\n",
    "        for y in range(yL1,yL2-1,-1):\n",
    "            print matrix[y][xL]\n",
    "            foundOne=True\n",
    "        xL+=1\n",
    "        yL1-=1\n",
    "        yL2+=1"
   ]
  },
  {
   "cell_type": "code",
   "execution_count": 304,
   "metadata": {},
   "outputs": [
    {
     "name": "stdout",
     "output_type": "stream",
     "text": [
      "1\n",
      "2\n",
      "3\n",
      "2\n",
      "1\n"
     ]
    },
    {
     "ename": "IndexError",
     "evalue": "list index out of range",
     "output_type": "error",
     "traceback": [
      "\u001b[0;31m---------------------------------------------------------------------------\u001b[0m",
      "\u001b[0;31mIndexError\u001b[0m                                Traceback (most recent call last)",
      "\u001b[0;32m<ipython-input-304-f5dae4c7020e>\u001b[0m in \u001b[0;36m<module>\u001b[0;34m()\u001b[0m\n\u001b[1;32m      3\u001b[0m \u001b[0;34m\u001b[0m\u001b[0m\n\u001b[1;32m      4\u001b[0m ]\n\u001b[0;32m----> 5\u001b[0;31m \u001b[0mspiralOrder\u001b[0m\u001b[0;34m(\u001b[0m\u001b[0mmatrix\u001b[0m\u001b[0;34m)\u001b[0m\u001b[0;34m\u001b[0m\u001b[0m\n\u001b[0m",
      "\u001b[0;32m<ipython-input-295-b8fab3e8c250>\u001b[0m in \u001b[0;36mspiralOrder\u001b[0;34m(matrix)\u001b[0m\n\u001b[1;32m     19\u001b[0m         \u001b[0mfoundOne\u001b[0m\u001b[0;34m=\u001b[0m\u001b[0mFalse\u001b[0m\u001b[0;34m\u001b[0m\u001b[0m\n\u001b[1;32m     20\u001b[0m         \u001b[0;32mfor\u001b[0m \u001b[0mx\u001b[0m \u001b[0;32min\u001b[0m \u001b[0mrange\u001b[0m\u001b[0;34m(\u001b[0m\u001b[0mxT1\u001b[0m\u001b[0;34m,\u001b[0m\u001b[0mxT2\u001b[0m\u001b[0;34m+\u001b[0m\u001b[0;36m1\u001b[0m\u001b[0;34m)\u001b[0m\u001b[0;34m:\u001b[0m\u001b[0;34m\u001b[0m\u001b[0m\n\u001b[0;32m---> 21\u001b[0;31m             \u001b[0;32mprint\u001b[0m \u001b[0mmatrix\u001b[0m\u001b[0;34m[\u001b[0m\u001b[0myT\u001b[0m\u001b[0;34m]\u001b[0m\u001b[0;34m[\u001b[0m\u001b[0mx\u001b[0m\u001b[0;34m]\u001b[0m\u001b[0;34m\u001b[0m\u001b[0m\n\u001b[0m\u001b[1;32m     22\u001b[0m             \u001b[0mfoundOne\u001b[0m\u001b[0;34m=\u001b[0m\u001b[0mTrue\u001b[0m\u001b[0;34m\u001b[0m\u001b[0m\n\u001b[1;32m     23\u001b[0m         \u001b[0mxT1\u001b[0m\u001b[0;34m+=\u001b[0m\u001b[0;36m1\u001b[0m\u001b[0;34m\u001b[0m\u001b[0m\n",
      "\u001b[0;31mIndexError\u001b[0m: list index out of range"
     ]
    }
   ],
   "source": [
    "matrix=[\n",
    " [ 1,2,3 ]\n",
    "\n",
    "]\n",
    "spiralOrder(matrix)"
   ]
  },
  {
   "cell_type": "markdown",
   "metadata": {},
   "source": [
    "# regex"
   ]
  },
  {
   "cell_type": "code",
   "execution_count": 347,
   "metadata": {
    "collapsed": true
   },
   "outputs": [],
   "source": [
    "def isMatch(s, p):\n",
    "        if len(p)==0:\n",
    "            return False\n",
    "        if len(s)==0 and len(p)==2 and p[1]=='*':\n",
    "            return True\n",
    "        if len(s)==0:\n",
    "            return False\n",
    "        T=[[False for pi in p] for si in s]\n",
    "        if s[0]==p[0] or p[0]=='.':\n",
    "            T[0][0]=True\n",
    "        for i in range(len(s)):\n",
    "            for j in range(len(p)):\n",
    "                if (p[j]=='.' or p[j]==s[i]) and i-1>=0 and j-1>=0:\n",
    "                    T[i][j]=T[i-1][j-1]\n",
    "                elif p[j]=='*':\n",
    "                    if (j-2>=0 and T[i][j-2]) or j-2<0:\n",
    "                        T[i][j]=True\n",
    "                    elif j-1>=0 and (p[j-1]==s[i] or p[j-1]=='.'):\n",
    "                        if T[i][j-1]:\n",
    "                            T[i][j]=True\n",
    "                        elif i-1>=0 and T[i-1][j]:\n",
    "                            T[i][j]=True\n",
    "        return T[-1][-1]"
   ]
  },
  {
   "cell_type": "code",
   "execution_count": 348,
   "metadata": {},
   "outputs": [
    {
     "data": {
      "text/plain": [
       "True"
      ]
     },
     "execution_count": 348,
     "metadata": {},
     "output_type": "execute_result"
    }
   ],
   "source": [
    "p='aa'\n",
    "s='a'\n",
    "isMatch(s, p)\n",
    "p='aa'\n",
    "s='a'\n",
    "isMatch(s, p)\n",
    "p='aa'\n",
    "s='a'\n",
    "isMatch(s, p)\n",
    "p='c*a*b'\n",
    "s='aab'\n",
    "isMatch(s, p)"
   ]
  },
  {
   "cell_type": "code",
   "execution_count": 349,
   "metadata": {},
   "outputs": [
    {
     "data": {
      "text/plain": [
       "True"
      ]
     },
     "execution_count": 349,
     "metadata": {},
     "output_type": "execute_result"
    }
   ],
   "source": [
    "p='d*'\n",
    "s='abcd'\n",
    "isMatch(s, p)"
   ]
  },
  {
   "cell_type": "markdown",
   "metadata": {},
   "source": [
    "# Best Time to Buy and Sell Stock"
   ]
  },
  {
   "cell_type": "code",
   "execution_count": 352,
   "metadata": {
    "collapsed": true
   },
   "outputs": [],
   "source": [
    "def maxProfit(prices):\n",
    "    maxProf=0\n",
    "    minP=10000\n",
    "    for x in prices:\n",
    "        if x-minP>maxProf:\n",
    "            maxProf=x-minP\n",
    "        if x<minP:\n",
    "            minP=x\n",
    "    return maxProf"
   ]
  },
  {
   "cell_type": "code",
   "execution_count": 353,
   "metadata": {},
   "outputs": [
    {
     "data": {
      "text/plain": [
       "17"
      ]
     },
     "execution_count": 353,
     "metadata": {},
     "output_type": "execute_result"
    }
   ],
   "source": [
    "prices=[5,4,3,9,7,8,10,4,20]\n",
    "maxProfit(prices)"
   ]
  },
  {
   "cell_type": "markdown",
   "metadata": {
    "collapsed": true
   },
   "source": [
    "# Sliding window minimum"
   ]
  },
  {
   "cell_type": "code",
   "execution_count": 1,
   "metadata": {
    "collapsed": true
   },
   "outputs": [],
   "source": [
    "from collections import deque"
   ]
  },
  {
   "cell_type": "code",
   "execution_count": 2,
   "metadata": {
    "collapsed": true
   },
   "outputs": [],
   "source": [
    "Qi = deque()"
   ]
  },
  {
   "cell_type": "code",
   "execution_count": 16,
   "metadata": {
    "collapsed": true
   },
   "outputs": [],
   "source": [
    "Qi.append(1)\n",
    "Qi.append(2)\n",
    "Qi.append(3)\n"
   ]
  },
  {
   "cell_type": "code",
   "execution_count": 7,
   "metadata": {},
   "outputs": [
    {
     "data": {
      "text/plain": [
       "3"
      ]
     },
     "execution_count": 7,
     "metadata": {},
     "output_type": "execute_result"
    }
   ],
   "source": [
    "Qi.pop()"
   ]
  },
  {
   "cell_type": "code",
   "execution_count": 8,
   "metadata": {},
   "outputs": [
    {
     "data": {
      "text/plain": [
       "deque([4, 1, 2])"
      ]
     },
     "execution_count": 8,
     "metadata": {},
     "output_type": "execute_result"
    }
   ],
   "source": [
    "Qi"
   ]
  },
  {
   "cell_type": "code",
   "execution_count": 10,
   "metadata": {},
   "outputs": [
    {
     "data": {
      "text/plain": [
       "4"
      ]
     },
     "execution_count": 10,
     "metadata": {},
     "output_type": "execute_result"
    }
   ],
   "source": [
    "Qi.popleft()"
   ]
  },
  {
   "cell_type": "code",
   "execution_count": 11,
   "metadata": {},
   "outputs": [
    {
     "data": {
      "text/plain": [
       "deque([1, 2])"
      ]
     },
     "execution_count": 11,
     "metadata": {},
     "output_type": "execute_result"
    }
   ],
   "source": [
    "Qi"
   ]
  },
  {
   "cell_type": "code",
   "execution_count": 17,
   "metadata": {},
   "outputs": [
    {
     "data": {
      "text/plain": [
       "2"
      ]
     },
     "execution_count": 17,
     "metadata": {},
     "output_type": "execute_result"
    }
   ],
   "source": [
    "Qi[1]"
   ]
  },
  {
   "cell_type": "code",
   "execution_count": 18,
   "metadata": {},
   "outputs": [
    {
     "data": {
      "text/plain": [
       "deque([1, 2, 1, 2, 3])"
      ]
     },
     "execution_count": 18,
     "metadata": {},
     "output_type": "execute_result"
    }
   ],
   "source": [
    "Qi"
   ]
  },
  {
   "cell_type": "code",
   "execution_count": 19,
   "metadata": {},
   "outputs": [
    {
     "data": {
      "text/plain": [
       "2"
      ]
     },
     "execution_count": 19,
     "metadata": {},
     "output_type": "execute_result"
    }
   ],
   "source": [
    "Qi[3]"
   ]
  },
  {
   "cell_type": "markdown",
   "metadata": {},
   "source": [
    "# Search a 2D Matrix II"
   ]
  },
  {
   "cell_type": "code",
   "execution_count": null,
   "metadata": {
    "collapsed": true
   },
   "outputs": [],
   "source": [
    "def search(,a=)"
   ]
  },
  {
   "cell_type": "code",
   "execution_count": null,
   "metadata": {
    "collapsed": true
   },
   "outputs": [],
   "source": [
    "    def rightSideView(self, root):\n",
    "        \"\"\"\n",
    "        :type root: TreeNode\n",
    "        :rtype: List[int]\n",
    "        \"\"\"\n",
    "        def check(root,array):\n",
    "            if root==None:\n",
    "                return False\n",
    "            array.append(root.val)\n",
    "            right=check(root.right,array)\n",
    "            if right==False:\n",
    "                left=check(root.left,array)\n",
    "                if left==False:\n",
    "                    return True"
   ]
  },
  {
   "cell_type": "markdown",
   "metadata": {},
   "source": [
    "# zigzag binary tree traversal\n"
   ]
  },
  {
   "cell_type": "code",
   "execution_count": null,
   "metadata": {
    "collapsed": true
   },
   "outputs": [],
   "source": [
    "        \"\"\"\n",
    "        :type root: TreeNode\n",
    "        :rtype: List[List[int]]\n",
    "        \"\"\"\n",
    "        count=0\n",
    "        array=[root]\n",
    "        results=[[root]]\n",
    "        while len(array)!=0:\n",
    "            tempArray=[]\n",
    "            while len(array)!=0"
   ]
  },
  {
   "cell_type": "markdown",
   "metadata": {},
   "source": [
    "# Insert Interval"
   ]
  },
  {
   "cell_type": "code",
   "execution_count": 23,
   "metadata": {
    "collapsed": true
   },
   "outputs": [],
   "source": [
    "def binarySearch(array,x):\n",
    "    a=0\n",
    "    b=len(array)-1\n",
    "    if x<array[a]:\n",
    "        return [a,a]\n",
    "    if x>array[b]:\n",
    "        return [b,b]\n",
    "    while(b-a>1):\n",
    "        c=int((b+a)*0.5)\n",
    "        if array[c]==x:\n",
    "            a=c\n",
    "            b=c\n",
    "        else:\n",
    "            if array[c]<x:\n",
    "                a=c\n",
    "            else:\n",
    "                b=c\n",
    "    return [a,b]"
   ]
  },
  {
   "cell_type": "code",
   "execution_count": 100,
   "metadata": {
    "collapsed": true
   },
   "outputs": [],
   "source": [
    "def insert(intervals, newInterval):\n",
    "        \"\"\"\n",
    "        :type intervals: List[Interval]\n",
    "        :type newInterval: Interval\n",
    "        :rtype: List[Interval]\n",
    "        \"\"\"\n",
    "        if intervals==[]:\n",
    "            return [newInterval]\n",
    "        \n",
    "        if newInterval.start>intervals[-1].end:\n",
    "            return intervals+[newInterval]\n",
    "        if newInterval.end<intervals[0].start:\n",
    "            return [newInterval]+intervals\n",
    "\n",
    "        x1,x2=binarySearch([i.start for i in intervals],newInterval.start)\n",
    "        if (newInterval.start<=intervals[x1].end \n",
    "                and newInterval.start>=intervals[x1].start):\n",
    "            svalue=intervals[x1].start\n",
    "            sind=x1\n",
    "        else:\n",
    "            svalue=newInterval.start\n",
    "            sind=x2\n",
    "        x1,x2=binarySearch([i.end for i in intervals],newInterval.end)\n",
    "        if (newInterval.end>=intervals[x2].start \n",
    "                and newInterval.end<=intervals[x2].end):\n",
    "            evalue=intervals[x2].end\n",
    "            eind=x2\n",
    "        else:\n",
    "            evalue=newInterval.end\n",
    "            eind=x1\n",
    "        print sind,eind\n",
    "        print svalue,evalue\n",
    "\n",
    "        return intervals[:sind]+[Interval(svalue,evalue)]+intervals[eind+1:]"
   ]
  },
  {
   "cell_type": "code",
   "execution_count": 89,
   "metadata": {
    "collapsed": true
   },
   "outputs": [],
   "source": [
    "class Interval(object):\n",
    "    def __init__(self, s=0, e=0):\n",
    "        self.start = s\n",
    "        self.end = e\n",
    "intervals=[]\n",
    "for x in [[1,2],[3,5],[6,7],[8,10],[12,16]]:\n",
    "    intervals.append(Interval(x[0],x[1]))"
   ]
  },
  {
   "cell_type": "code",
   "execution_count": 90,
   "metadata": {},
   "outputs": [
    {
     "name": "stdout",
     "output_type": "stream",
     "text": [
      "1 2\n",
      "3 5\n",
      "6 19\n"
     ]
    }
   ],
   "source": [
    "for x in insert(intervals, Interval(6,19)):\n",
    "    print x.start,x.end"
   ]
  },
  {
   "cell_type": "code",
   "execution_count": 91,
   "metadata": {},
   "outputs": [
    {
     "name": "stdout",
     "output_type": "stream",
     "text": [
      "1 2\n",
      "3 5\n",
      "6 11\n",
      "12 16\n"
     ]
    }
   ],
   "source": [
    "for x in insert(intervals, Interval(6,11)):\n",
    "    print x.start,x.end"
   ]
  },
  {
   "cell_type": "code",
   "execution_count": 92,
   "metadata": {},
   "outputs": [
    {
     "name": "stdout",
     "output_type": "stream",
     "text": [
      "6 19\n"
     ]
    }
   ],
   "source": [
    "intervals=[]\n",
    "for x in insert(intervals, Interval(6,19)):\n",
    "    print x.start,x.end"
   ]
  },
  {
   "cell_type": "code",
   "execution_count": 93,
   "metadata": {},
   "outputs": [
    {
     "name": "stdout",
     "output_type": "stream",
     "text": [
      "6 89\n"
     ]
    }
   ],
   "source": [
    "for x in [[19,89]]:\n",
    "    intervals.append(Interval(x[0],x[1]))\n",
    "for x in insert(intervals, Interval(6,19)):\n",
    "    print x.start,x.end"
   ]
  },
  {
   "cell_type": "code",
   "execution_count": 94,
   "metadata": {},
   "outputs": [
    {
     "name": "stdout",
     "output_type": "stream",
     "text": [
      "6 89\n",
      "19 89\n"
     ]
    }
   ],
   "source": [
    "for x in [[19,89]]:\n",
    "    intervals.append(Interval(x[0],x[1]))\n",
    "for x in insert(intervals, Interval(6,19)):\n",
    "    print x.start,x.end"
   ]
  },
  {
   "cell_type": "code",
   "execution_count": 95,
   "metadata": {},
   "outputs": [
    {
     "name": "stdout",
     "output_type": "stream",
     "text": [
      "1 5\n",
      "6 8\n"
     ]
    }
   ],
   "source": [
    "intervals=[]\n",
    "for x in [[1,5]]:\n",
    "    intervals.append(Interval(x[0],x[1]))\n",
    "for x in insert(intervals, Interval(6,8)):\n",
    "    print x.start,x.end"
   ]
  },
  {
   "cell_type": "code",
   "execution_count": 96,
   "metadata": {},
   "outputs": [
    {
     "name": "stdout",
     "output_type": "stream",
     "text": [
      "6 8\n",
      "9 10\n"
     ]
    }
   ],
   "source": [
    "intervals=[]\n",
    "for x in [[9,10]]:\n",
    "    intervals.append(Interval(x[0],x[1]))\n",
    "for x in insert(intervals, Interval(6,8)):\n",
    "    print x.start,x.end"
   ]
  },
  {
   "cell_type": "code",
   "execution_count": 101,
   "metadata": {},
   "outputs": [
    {
     "name": "stdout",
     "output_type": "stream",
     "text": [
      "0 0\n",
      "0 5\n",
      "0 5\n",
      "7 12\n"
     ]
    }
   ],
   "source": [
    "intervals=[]\n",
    "for x in [[0,4],[7,12]]:\n",
    "    intervals.append(Interval(x[0],x[1]))\n",
    "for x in insert(intervals, Interval(0,5)):\n",
    "    print x.start,x.end"
   ]
  },
  {
   "cell_type": "markdown",
   "metadata": {
    "collapsed": true
   },
   "source": [
    "# Maximum Product Subarray"
   ]
  },
  {
   "cell_type": "code",
   "execution_count": null,
   "metadata": {
    "collapsed": true
   },
   "outputs": [],
   "source": []
  },
  {
   "cell_type": "code",
   "execution_count": 7,
   "metadata": {
    "collapsed": true
   },
   "outputs": [],
   "source": [
    "array=[3,-7,20,9,-4,-10,3]"
   ]
  },
  {
   "cell_type": "code",
   "execution_count": 10,
   "metadata": {
    "collapsed": true
   },
   "outputs": [],
   "source": [
    "def maxProd(nums):\n",
    "    if len(nums)==0:\n",
    "        return 0\n",
    "    maxTot=nums[0]\n",
    "    prePos=1\n",
    "    preNeg=1\n",
    "    curPos=1\n",
    "    curNeg=1\n",
    "    for a in nums:\n",
    "        print maxTot\n",
    "        curPos=prePos*a\n",
    "        curNeg=preNeg*a\n",
    "        maxTot=max(max(curPos,curNeg),maxTot)\n",
    "        prePos=max(max(curPos,curNeg),1)\n",
    "        preNeg=min(curPos,curNeg)\n",
    "        preNeg= 1 if preNeg==0 else preNeg\n",
    "    return maxTot"
   ]
  },
  {
   "cell_type": "code",
   "execution_count": 11,
   "metadata": {},
   "outputs": [
    {
     "name": "stdout",
     "output_type": "stream",
     "text": [
      "3\n",
      "9\n",
      "9\n",
      "20\n",
      "180\n",
      "45360\n",
      "45360\n"
     ]
    },
    {
     "data": {
      "text/plain": [
       "45360"
      ]
     },
     "execution_count": 11,
     "metadata": {},
     "output_type": "execute_result"
    }
   ],
   "source": [
    "maxProd(array)"
   ]
  },
  {
   "cell_type": "markdown",
   "metadata": {
    "collapsed": true
   },
   "source": [
    "# Minimum Window Substring"
   ]
  },
  {
   "cell_type": "code",
   "execution_count": null,
   "metadata": {
    "collapsed": true
   },
   "outputs": [],
   "source": [
    "def minWindow(s, t):\n",
    "        \"\"\"\n",
    "        :type s: str\n",
    "        :type t: str\n",
    "        :rtype: str\n",
    "        \"\"\"\n",
    "        dicFound={}\n",
    "        minIndex=len(s)\n",
    "        maxIndex=0\n",
    "        curMinIndex=len(x)\n",
    "        curMaxIndex=0\n",
    "        for i,a in enumerate(s):\n",
    "            if a in t:\n",
    "                dicFound[a]=i\n",
    "                if len(dicFound)==len(t):\n",
    "                    "
   ]
  },
  {
   "cell_type": "markdown",
   "metadata": {},
   "source": [
    "# Yelp"
   ]
  },
  {
   "cell_type": "code",
   "execution_count": 29,
   "metadata": {},
   "outputs": [
    {
     "name": "stdout",
     "output_type": "stream",
     "text": [
      "['reservations', 'restaurants']\n"
     ]
    }
   ],
   "source": [
    "class TrieNode:\n",
    "    # children['a'] -> TrieNode or None\n",
    "    def __init__(self):\n",
    "        self.children = {}\n",
    "        self.isEnd = False\n",
    "\n",
    "# Trie\n",
    "#     root   -> root.children['b'] \n",
    "#   r  . .  b -> b.children['r']\n",
    "#   e     a                r \n",
    "#   s     r[isEnd=True]   e\n",
    "# e   t   o   a\n",
    "# r   a   .    k\n",
    "# v   u   .    f \n",
    "# a   r       a\n",
    "# t   a       s [isEnd=false]\n",
    "# i   n       t [isEnd=true]\n",
    "# o   t       s [isEnd=true]\n",
    "# n   s [isEnd=true]\n",
    "#\n",
    "class Trie:\n",
    "    def __init__(self):\n",
    "        self.root = TrieNode()\n",
    "\n",
    "    def insert(self, string):\n",
    "        p = self.root\n",
    "        for c in string:\n",
    "            if c not in p.children:\n",
    "                p.children[c] = TrieNode()\n",
    "                p.isEnd = False\n",
    "            p = p.children[c]\n",
    "\n",
    "        p.isEnd = True\n",
    "\n",
    "    # Implement this method\n",
    "    # getAllSuggestions('res') -> ['restaurants', 'reservation']\n",
    "    # getAllSuggestion('z') -> []\n",
    "    def getAllSuggestions(self, prefix):\n",
    "        curNode=self.root\n",
    "        \n",
    "        for a in prefix:\n",
    "            if a not in curNode.children:\n",
    "                return []\n",
    "            curNode=curNode.children[a]\n",
    "        return [prefix+x for x in self.DFS(curNode)]\n",
    "        \n",
    "        #return []\n",
    "\n",
    "    def DFS(self,root):\n",
    "        if root.isEnd:\n",
    "            return ['']\n",
    "        stringArray=[]\n",
    "        for children in root.children:\n",
    "            results=self.DFS(root.children[children])\n",
    "            \n",
    "            for r in results:\n",
    "                stringArray.append(children+r)\n",
    "\n",
    "        return stringArray\n",
    "    \n",
    "words = ['restaurants', 'reservations', 'bars', 'breakfast']\n",
    "\n",
    "trie = Trie()\n",
    "for word in words:\n",
    "   trie.insert(word)\n",
    "\n",
    "\n",
    "print(trie.getAllSuggestions('r'))\n",
    "#print(trie.getAllSuggestions('res'))\n",
    "#print(trie.getAllSuggestions('rest'))\n",
    "#print(trie.getAllSuggestions('be'))\n",
    "#print(trie.getAllSuggestions('ba'))"
   ]
  },
  {
   "cell_type": "markdown",
   "metadata": {},
   "source": [
    "# LCA binary search tree"
   ]
  },
  {
   "cell_type": "code",
   "execution_count": 1,
   "metadata": {
    "collapsed": true
   },
   "outputs": [],
   "source": [
    "# Definition for a binary tree node.\n",
    "class TreeNode(object):\n",
    "    def __init__(self, x):\n",
    "        self.val = x\n",
    "        self.left = None\n",
    "        self.right = None"
   ]
  },
  {
   "cell_type": "code",
   "execution_count": 2,
   "metadata": {
    "collapsed": true
   },
   "outputs": [],
   "source": [
    "root=TreeNode(9)\n",
    "root.left=TreeNode(1)\n",
    "root.right=TreeNode(10)"
   ]
  },
  {
   "cell_type": "code",
   "execution_count": 23,
   "metadata": {},
   "outputs": [
    {
     "data": {
      "text/plain": [
       "<__main__.TreeNode at 0x1044fa550>"
      ]
     },
     "execution_count": 23,
     "metadata": {},
     "output_type": "execute_result"
    }
   ],
   "source": [
    "lowestCommonAncestor(root, root.left, root.right)"
   ]
  },
  {
   "cell_type": "code",
   "execution_count": 22,
   "metadata": {
    "collapsed": true
   },
   "outputs": [],
   "source": [
    "def lowestCommonAncestor(root, p, q):\n",
    "    \"\"\"\n",
    "    :type root: TreeNode\n",
    "    :type p: TreeNode\n",
    "    :type q: TreeNode\n",
    "    :rtype: TreeNode\n",
    "    \"\"\"\n",
    "\n",
    "    def swap(p,q):\n",
    "        if p.val>q.val:\n",
    "            temp=p\n",
    "            p=q\n",
    "            q=temp\n",
    "        return p,q\n",
    "\n",
    "    def find(root,a):\n",
    "        if root==None:\n",
    "            return False\n",
    "        if root==a:\n",
    "            return True\n",
    "        if root.val>a.val:\n",
    "            return find(root.left,a)\n",
    "        if root.val<a.val:\n",
    "            return find(root.right,a) \n",
    "\n",
    "    def LCA(root,p,q):\n",
    "        if root==None:\n",
    "            return False\n",
    "        if root.val>=p.val and root.val<=q.val:\n",
    "            rl=find(root,p)\n",
    "            rr=find(root,q)\n",
    "            if rr and rl:\n",
    "                return root\n",
    "            else:\n",
    "                return False\n",
    "        if q.val<root.val:\n",
    "            return LCA(root.left,p,q)\n",
    "        if p.val>root.val:\n",
    "            return LCA(root.right,p,q)\n",
    "\n",
    "    p,q=swap(p,q)\n",
    "    return LCA(root,p,q)\n"
   ]
  },
  {
   "cell_type": "markdown",
   "metadata": {},
   "source": [
    "# Find minimum in convex array"
   ]
  },
  {
   "cell_type": "code",
   "execution_count": 31,
   "metadata": {
    "collapsed": true
   },
   "outputs": [],
   "source": [
    "def findMinConv(arr):\n",
    "    a=0\n",
    "    b=len(arr)-1\n",
    "    while a!=b:\n",
    "        i=int((a+b)*0.5)\n",
    "        j=i+1\n",
    "        if arr[j]<arr[i]:\n",
    "            a=j\n",
    "        if arr[i]<arr[j]:\n",
    "            b=i\n",
    "    return a"
   ]
  },
  {
   "cell_type": "code",
   "execution_count": 34,
   "metadata": {},
   "outputs": [
    {
     "name": "stdout",
     "output_type": "stream",
     "text": [
      "0\n",
      "0\n",
      "1\n",
      "1\n",
      "0\n",
      "1\n",
      "2\n"
     ]
    }
   ],
   "source": [
    "print findMinConv([0,1,2])\n",
    "print findMinConv([0,2])\n",
    "print findMinConv([1,0,2])\n",
    "print findMinConv([1,0,20])\n",
    "print findMinConv([2])\n",
    "print findMinConv([2,0])\n",
    "print findMinConv([3,2,0])"
   ]
  },
  {
   "cell_type": "markdown",
   "metadata": {},
   "source": [
    "# sqrt"
   ]
  },
  {
   "cell_type": "code",
   "execution_count": null,
   "metadata": {
    "collapsed": true
   },
   "outputs": [],
   "source": []
  },
  {
   "cell_type": "markdown",
   "metadata": {},
   "source": [
    "# Flatten nested array"
   ]
  },
  {
   "cell_type": "code",
   "execution_count": 1,
   "metadata": {
    "collapsed": true
   },
   "outputs": [],
   "source": [
    "def flatten(x):\n",
    "    if isinstance(x, list)==False:\n",
    "        return [x]\n",
    "    result=[]\n",
    "    for xi in x:\n",
    "        rx=flatten(xi)\n",
    "        result=result+flatten(xi)\n",
    "    return result"
   ]
  },
  {
   "cell_type": "code",
   "execution_count": 2,
   "metadata": {},
   "outputs": [
    {
     "data": {
      "text/plain": [
       "[1, 2, 5, 6, 4]"
      ]
     },
     "execution_count": 2,
     "metadata": {},
     "output_type": "execute_result"
    }
   ],
   "source": [
    "x=[[1,2],[5,[6]],4]\n",
    "flatten(x)"
   ]
  },
  {
   "cell_type": "markdown",
   "metadata": {},
   "source": [
    "# valid perfect square"
   ]
  },
  {
   "cell_type": "code",
   "execution_count": 3,
   "metadata": {
    "collapsed": true
   },
   "outputs": [],
   "source": [
    "def validSquare(k,maxInt=1000):\n",
    "    a=0\n",
    "    b=k\n",
    "    c=int(k*0.5)\n",
    "    for steps in range(maxInt):\n",
    "        if c*c==k:\n",
    "            return True\n",
    "        if b-a<=1:\n",
    "            return False\n",
    "        if c*c>k:\n",
    "            b=c\n",
    "        else:\n",
    "            a=c\n",
    "        c=int((b-a)*0.5+a)\n",
    "    return None\n",
    "        \n",
    "        "
   ]
  },
  {
   "cell_type": "code",
   "execution_count": 4,
   "metadata": {
    "scrolled": true
   },
   "outputs": [
    {
     "name": "stdout",
     "output_type": "stream",
     "text": [
      "1 False\n",
      "2 False\n",
      "3 False\n",
      "4 True\n",
      "5 False\n",
      "6 False\n",
      "7 False\n",
      "8 False\n",
      "9 True\n",
      "10 False\n",
      "11 False\n",
      "12 False\n",
      "13 False\n",
      "14 False\n",
      "15 False\n",
      "16 True\n",
      "17 False\n",
      "18 False\n",
      "19 False\n",
      "20 False\n",
      "21 False\n",
      "22 False\n",
      "23 False\n",
      "24 False\n",
      "25 True\n",
      "26 False\n",
      "27 False\n",
      "28 False\n",
      "29 False\n",
      "30 False\n",
      "31 False\n",
      "32 False\n",
      "33 False\n",
      "34 False\n",
      "35 False\n",
      "36 True\n",
      "37 False\n",
      "38 False\n",
      "39 False\n",
      "40 False\n",
      "41 False\n",
      "42 False\n",
      "43 False\n",
      "44 False\n",
      "45 False\n",
      "46 False\n",
      "47 False\n",
      "48 False\n",
      "49 True\n",
      "50 False\n",
      "51 False\n",
      "52 False\n",
      "53 False\n",
      "54 False\n",
      "55 False\n",
      "56 False\n",
      "57 False\n",
      "58 False\n",
      "59 False\n",
      "60 False\n",
      "61 False\n",
      "62 False\n",
      "63 False\n",
      "64 True\n",
      "65 False\n",
      "66 False\n",
      "67 False\n",
      "68 False\n",
      "69 False\n",
      "70 False\n",
      "71 False\n",
      "72 False\n",
      "73 False\n",
      "74 False\n",
      "75 False\n",
      "76 False\n",
      "77 False\n",
      "78 False\n",
      "79 False\n",
      "80 False\n",
      "81 True\n",
      "82 False\n",
      "83 False\n",
      "84 False\n",
      "85 False\n",
      "86 False\n",
      "87 False\n",
      "88 False\n",
      "89 False\n",
      "90 False\n",
      "91 False\n",
      "92 False\n",
      "93 False\n",
      "94 False\n",
      "95 False\n",
      "96 False\n",
      "97 False\n",
      "98 False\n",
      "99 False\n",
      "100 True\n"
     ]
    }
   ],
   "source": [
    "for i in range(1,101):\n",
    "    print i, validSquare(i)"
   ]
  },
  {
   "cell_type": "markdown",
   "metadata": {},
   "source": [
    "# weighted summ"
   ]
  },
  {
   "cell_type": "code",
   "execution_count": 6,
   "metadata": {
    "collapsed": true
   },
   "outputs": [],
   "source": [
    "def wSum(array,dep):\n",
    "    if isinstance(array,list):\n",
    "        tot=0\n",
    "        for x in array:\n",
    "            tot+=wSum(x,dep+1)\n",
    "        return tot\n",
    "    else:\n",
    "        return array*dep"
   ]
  },
  {
   "cell_type": "code",
   "execution_count": 7,
   "metadata": {},
   "outputs": [
    {
     "data": {
      "text/plain": [
       "33"
      ]
     },
     "execution_count": 7,
     "metadata": {},
     "output_type": "execute_result"
    }
   ],
   "source": [
    "array=[1,2,[1,2],[1,2],[[1,2],[1,2]]]\n",
    "wSum(array,0)"
   ]
  },
  {
   "cell_type": "code",
   "execution_count": null,
   "metadata": {
    "collapsed": true
   },
   "outputs": [],
   "source": []
  }
 ],
 "metadata": {
  "kernelspec": {
   "display_name": "Python 2",
   "language": "python",
   "name": "python2"
  },
  "language_info": {
   "codemirror_mode": {
    "name": "ipython",
    "version": 2
   },
   "file_extension": ".py",
   "mimetype": "text/x-python",
   "name": "python",
   "nbconvert_exporter": "python",
   "pygments_lexer": "ipython2",
   "version": "2.7.13"
  }
 },
 "nbformat": 4,
 "nbformat_minor": 2
}
