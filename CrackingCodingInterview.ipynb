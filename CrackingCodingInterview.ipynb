{
 "cells": [
  {
   "cell_type": "markdown",
   "metadata": {},
   "source": [
    "# 9.9 queens on 8x8 board"
   ]
  },
  {
   "cell_type": "code",
   "execution_count": 1,
   "metadata": {},
   "outputs": [
    {
     "data": {
      "text/plain": [
       "92"
      ]
     },
     "execution_count": 1,
     "metadata": {},
     "output_type": "execute_result"
    }
   ],
   "source": [
    "def numWays(x0,y,isValid):\n",
    "    isValid0=fillValid(x0,y,isValid)\n",
    "    numTot=0\n",
    "    for x in range(8):\n",
    "        if isValid0[x][y+1]:\n",
    "            if y==6:\n",
    "                numTot+=1\n",
    "            else:\n",
    "                numTot+=numWays(x,y+1,isValid0)\n",
    "                \n",
    "    return numTot\n",
    "\n",
    "def fillValid(x0,y,isValid):\n",
    "    isValid0=[[yv for yv in xv] for xv in isValid]\n",
    "    for yi in range(y+1,8):\n",
    "        if yi>=0 and yi<=7:\n",
    "            isValid0[x0][yi]=False\n",
    "    for xi,yi in zip(range(x0-1,-1,-1),range(y+1,8)):\n",
    "        if xi>=0 and yi>=0 and xi<=7 and yi<=7:\n",
    "            isValid0[xi][yi]=False\n",
    "    for xi,yi in zip(range(x0+1,8),range(y+1,8)):\n",
    "        if xi>=0 and yi>=0 and xi<=7 and yi<=7:\n",
    "            isValid0[xi][yi]=False\n",
    "    return isValid0\n",
    "\n",
    "isValid=[[True for y in range(8)] for x in range(8)]\n",
    "sum([numWays(x,0,isValid) for x in range(8)])"
   ]
  },
  {
   "cell_type": "markdown",
   "metadata": {},
   "source": [
    "# 9.10 box stacking"
   ]
  },
  {
   "cell_type": "code",
   "execution_count": 42,
   "metadata": {
    "collapsed": true
   },
   "outputs": [],
   "source": [
    "import random\n",
    "boxArray=[{'len':random.randint(1,20),\n",
    "           'wid':random.randint(1,20),'hei':random.randint(1,10)}\n",
    "         for _ in range(8)]"
   ]
  },
  {
   "cell_type": "code",
   "execution_count": 43,
   "metadata": {
    "collapsed": true
   },
   "outputs": [],
   "source": [
    "array=[[-1 for x in range(len(boxArray))] \n",
    "       for y in range(len(boxArray))]\n",
    "array[0]=[x['hei'] for x in boxArray]"
   ]
  },
  {
   "cell_type": "code",
   "execution_count": 44,
   "metadata": {
    "collapsed": true
   },
   "outputs": [],
   "source": [
    "for numBox in range(1,len(boxArray)):\n",
    "    array[numBox]=[x for x in array[numBox-1]]\n",
    "    for boxIndex in range(len(boxArray)):\n",
    "        for stackIndex in range(len(boxArray)):\n",
    "            if boxIndex!=stackIndex:\n",
    "                if (boxArray[boxIndex]['len']<boxArray[stackIndex]['len'] \n",
    "                    and boxArray[boxIndex]['wid']<boxArray[stackIndex]['wid']):\n",
    "                    if (array[numBox][boxIndex]<\n",
    "                        array[numBox-1][stackIndex]+boxArray[boxIndex]['hei']):\n",
    "                        array[numBox][boxIndex]=\\\n",
    "                            array[numBox-1][stackIndex]+boxArray[boxIndex]['hei']"
   ]
  },
  {
   "cell_type": "code",
   "execution_count": 45,
   "metadata": {},
   "outputs": [
    {
     "data": {
      "text/plain": [
       "[[1, 8, 10, 5, 6, 3, 2, 10],\n",
       " [9, 8, 10, 5, 16, 11, 10, 20],\n",
       " [12, 8, 10, 5, 17, 11, 10, 20],\n",
       " [12, 8, 10, 5, 18, 11, 10, 20],\n",
       " [12, 8, 10, 5, 18, 11, 10, 20],\n",
       " [12, 8, 10, 5, 18, 11, 10, 20],\n",
       " [12, 8, 10, 5, 18, 11, 10, 20],\n",
       " [12, 8, 10, 5, 18, 11, 10, 20]]"
      ]
     },
     "execution_count": 45,
     "metadata": {},
     "output_type": "execute_result"
    }
   ],
   "source": [
    "array"
   ]
  },
  {
   "cell_type": "code",
   "execution_count": 46,
   "metadata": {},
   "outputs": [
    {
     "data": {
      "text/plain": [
       "[{'hei': 1, 'len': 5, 'wid': 11},\n",
       " {'hei': 8, 'len': 9, 'wid': 17},\n",
       " {'hei': 10, 'len': 18, 'wid': 9},\n",
       " {'hei': 5, 'len': 1, 'wid': 20},\n",
       " {'hei': 6, 'len': 2, 'wid': 8},\n",
       " {'hei': 3, 'len': 8, 'wid': 13},\n",
       " {'hei': 2, 'len': 1, 'wid': 14},\n",
       " {'hei': 10, 'len': 13, 'wid': 8}]"
      ]
     },
     "execution_count": 46,
     "metadata": {},
     "output_type": "execute_result"
    }
   ],
   "source": [
    "boxArray"
   ]
  },
  {
   "cell_type": "markdown",
   "metadata": {},
   "source": [
    "# 9.7 paint fill"
   ]
  },
  {
   "cell_type": "code",
   "execution_count": 79,
   "metadata": {},
   "outputs": [
    {
     "name": "stdout",
     "output_type": "stream",
     "text": [
      "[0, 0, 0, 0, 0, 0, 0, 0, 1, 0]\n",
      "[0, 0, 0, 1, 1, 1, 1, 1, 0, 1]\n",
      "[0, 0, 1, 0, 0, 0, 0, 0, 0, 1]\n",
      "[0, 0, 0, 1, 0, 0, 0, 0, 0, 1]\n",
      "[0, 0, 0, 1, 0, 0, 0, 0, 0, 1]\n",
      "[0, 0, 0, 1, 1, 0, 0, 0, 1, 0]\n",
      "[0, 0, 0, 0, 1, 0, 0, 1, 0, 0]\n",
      "[0, 0, 0, 0, 1, 1, 1, 0, 0, 0]\n",
      "[0, 0, 0, 0, 0, 0, 0, 0, 0, 0]\n",
      "[0, 0, 0, 0, 0, 0, 0, 0, 0, 0]\n",
      "fill\n",
      "[0, 0, 0, 0, 0, 0, 0, 0, 1, 0]\n",
      "[0, 0, 0, 1, 1, 1, 1, 1, 1, 1]\n",
      "[0, 0, 1, 1, 1, 1, 1, 1, 1, 1]\n",
      "[0, 0, 0, 1, 1, 1, 1, 1, 1, 1]\n",
      "[0, 0, 0, 1, 1, 1, 1, 1, 1, 1]\n",
      "[0, 0, 0, 1, 1, 1, 1, 1, 1, 0]\n",
      "[0, 0, 0, 0, 1, 1, 1, 1, 0, 0]\n",
      "[0, 0, 0, 0, 1, 1, 1, 0, 0, 0]\n",
      "[0, 0, 0, 0, 0, 0, 0, 0, 0, 0]\n",
      "[0, 0, 0, 0, 0, 0, 0, 0, 0, 0]\n"
     ]
    }
   ],
   "source": [
    "array=[[0 for x in range(10)] for y in range(10)]\n",
    "array[1][3]=1\n",
    "array[1][4]=1\n",
    "array[1][5]=1\n",
    "array[1][6]=1\n",
    "array[1][7]=1\n",
    "array[0][8]=1\n",
    "array[1][9]=1\n",
    "array[2][9]=1\n",
    "array[3][9]=1\n",
    "array[4][9]=1\n",
    "array[5][8]=1\n",
    "array[6][7]=1\n",
    "array[7][6]=1\n",
    "array[7][5]=1\n",
    "array[7][4]=1\n",
    "array[6][4]=1\n",
    "array[5][4]=1\n",
    "array[5][3]=1\n",
    "array[4][3]=1\n",
    "array[3][3]=1\n",
    "array[2][2]=1\n",
    "for x in array:\n",
    "    print x\n",
    "print 'fill'\n",
    "paintFill(5,5,array)\n",
    "for x in array:\n",
    "    print x"
   ]
  },
  {
   "cell_type": "code",
   "execution_count": 75,
   "metadata": {
    "collapsed": true
   },
   "outputs": [],
   "source": [
    "def paintFill(x,y,array):\n",
    "    if array[x][y]!=1:\n",
    "        array[x][y]=1\n",
    "        if x-1>=0:\n",
    "            if array[x-1][y]!=1:\n",
    "                paintFill(x-1,y,array) \n",
    "        if x+1<len(array):\n",
    "            if array[x+1][y]!=1:\n",
    "                paintFill(x+1,y,array)\n",
    "\n",
    "        if y-1>=0:\n",
    "            if array[x][y-1]!=1:\n",
    "                paintFill(x,y-1,array) \n",
    "        if y+1<len(array[0]):\n",
    "            if array[x][y+1]!=1:\n",
    "                paintFill(x,y+1,array)\n",
    "                "
   ]
  },
  {
   "cell_type": "markdown",
   "metadata": {},
   "source": [
    "# 9.8 coin changing "
   ]
  },
  {
   "cell_type": "code",
   "execution_count": 107,
   "metadata": {
    "collapsed": true
   },
   "outputs": [],
   "source": [
    "coins=[1,2,5]\n",
    "array=[[0 for x in range(7)] for y in range(len(coins))]\n",
    "array[0]=[1 for x in range(7)]\n",
    "for x in range(len(array)):\n",
    "    array[x][0]=1"
   ]
  },
  {
   "cell_type": "code",
   "execution_count": 108,
   "metadata": {
    "collapsed": true
   },
   "outputs": [],
   "source": [
    "for j in range(1,len(array)):\n",
    "    for i in range(1,len(array[0])):\n",
    "        array[j][i]=sum([array[j-1][ij] \n",
    "                         for ij in range(i-coins[j],-coins[j],-coins[j]) if ij>=0])\\\n",
    "            +array[j-1][i]"
   ]
  },
  {
   "cell_type": "code",
   "execution_count": 109,
   "metadata": {},
   "outputs": [
    {
     "data": {
      "text/plain": [
       "[[1, 1, 1, 1, 1, 1, 1], [1, 1, 2, 2, 3, 3, 4], [1, 1, 2, 2, 3, 4, 5]]"
      ]
     },
     "execution_count": 109,
     "metadata": {},
     "output_type": "execute_result"
    }
   ],
   "source": [
    "array"
   ]
  },
  {
   "cell_type": "code",
   "execution_count": 89,
   "metadata": {},
   "outputs": [
    {
     "data": {
      "text/plain": [
       "[]"
      ]
     },
     "execution_count": 89,
     "metadata": {},
     "output_type": "execute_result"
    }
   ],
   "source": [
    "[array[i][ij] \n",
    "                         for ij in range(j-coins[j],-coins[j]+1,-coins[j])]"
   ]
  },
  {
   "cell_type": "markdown",
   "metadata": {},
   "source": [
    "# 1.1 does string have unique chars"
   ]
  },
  {
   "cell_type": "code",
   "execution_count": null,
   "metadata": {
    "collapsed": true
   },
   "outputs": [],
   "source": [
    "array='skejt'\n",
    "for c1 in range(len(array)):\n",
    "    for c2 in range(len(array)):\n",
    "        if c1!=c2:\n",
    "            if array[c1]==array[c2]:"
   ]
  },
  {
   "cell_type": "markdown",
   "metadata": {},
   "source": [
    "# All sets"
   ]
  },
  {
   "cell_type": "code",
   "execution_count": 135,
   "metadata": {
    "collapsed": true
   },
   "outputs": [],
   "source": [
    "def allsets(array):\n",
    "    if len(array)==0:\n",
    "        return [[]]\n",
    "    results=allsets(array[:-1])\n",
    "    newResults=results+[x+[array[-1]] for x in results]\n",
    "\n",
    "    return newResults"
   ]
  },
  {
   "cell_type": "code",
   "execution_count": 136,
   "metadata": {},
   "outputs": [
    {
     "data": {
      "text/plain": [
       "[[], [1], [2], [1, 2], [3], [1, 3], [2, 3], [1, 2, 3]]"
      ]
     },
     "execution_count": 136,
     "metadata": {},
     "output_type": "execute_result"
    }
   ],
   "source": [
    "allsets([1,2,3])"
   ]
  },
  {
   "cell_type": "markdown",
   "metadata": {
    "collapsed": true
   },
   "source": [
    "# Number of 2s"
   ]
  },
  {
   "cell_type": "code",
   "execution_count": null,
   "metadata": {
    "collapsed": true
   },
   "outputs": [],
   "source": []
  },
  {
   "cell_type": "code",
   "execution_count": 140,
   "metadata": {
    "collapsed": true
   },
   "outputs": [],
   "source": [
    "x={'1':3,'3':2}\n",
    "x['2']=x.get('2',0)+1"
   ]
  },
  {
   "cell_type": "code",
   "execution_count": 141,
   "metadata": {},
   "outputs": [
    {
     "data": {
      "text/plain": [
       "{'1': 3, '2': 1, '3': 2}"
      ]
     },
     "execution_count": 141,
     "metadata": {},
     "output_type": "execute_result"
    }
   ],
   "source": [
    "x"
   ]
  },
  {
   "cell_type": "code",
   "execution_count": 142,
   "metadata": {},
   "outputs": [
    {
     "name": "stdout",
     "output_type": "stream",
     "text": [
      "76\n"
     ]
    }
   ],
   "source": [
    "from random import *\n",
    " \n",
    "print randint(1, 100)"
   ]
  },
  {
   "cell_type": "code",
   "execution_count": 187,
   "metadata": {
    "collapsed": true
   },
   "outputs": [],
   "source": [
    "xarray=[]\n",
    "for _ in range(200000):\n",
    "    r1=randint(0, 4)\n",
    "    r2=randint(0,4)\n",
    "    if (r1*5+r2)<21:\n",
    "        xarray.append((r1*5+r2)%7)\n"
   ]
  },
  {
   "cell_type": "code",
   "execution_count": 188,
   "metadata": {},
   "outputs": [
    {
     "data": {
      "text/plain": [
       "6"
      ]
     },
     "execution_count": 188,
     "metadata": {},
     "output_type": "execute_result"
    }
   ],
   "source": [
    "max(xarray)"
   ]
  },
  {
   "cell_type": "code",
   "execution_count": 167,
   "metadata": {
    "collapsed": true
   },
   "outputs": [],
   "source": [
    "import matplotlib.pyplot as plt\n",
    "%matplotlib inline  \n"
   ]
  },
  {
   "cell_type": "code",
   "execution_count": 189,
   "metadata": {},
   "outputs": [
    {
     "data": {
      "text/plain": [
       "(array([ 23830.,  24193.,  23950.,  23893.,  24051.,  23881.,  23966.]),\n",
       " array([ 0.        ,  0.85714286,  1.71428571,  2.57142857,  3.42857143,\n",
       "         4.28571429,  5.14285714,  6.        ]),\n",
       " <a list of 7 Patch objects>)"
      ]
     },
     "execution_count": 189,
     "metadata": {},
     "output_type": "execute_result"
    },
    {
     "data": {
      "image/png": "[encoded data removed]",
      "text/plain": [
       "<matplotlib.figure.Figure at 0x1073b0190>"
      ]
     },
     "metadata": {},
     "output_type": "display_data"
    }
   ],
   "source": [
    "plt.hist(xarray,7)"
   ]
  },
  {
   "cell_type": "code",
   "execution_count": 190,
   "metadata": {
    "collapsed": true
   },
   "outputs": [],
   "source": [
    "x=True"
   ]
  },
  {
   "cell_type": "code",
   "execution_count": 195,
   "metadata": {
    "collapsed": true
   },
   "outputs": [],
   "source": [
    "x = x and False"
   ]
  },
  {
   "cell_type": "code",
   "execution_count": 196,
   "metadata": {},
   "outputs": [
    {
     "data": {
      "text/plain": [
       "False"
      ]
     },
     "execution_count": 196,
     "metadata": {},
     "output_type": "execute_result"
    }
   ],
   "source": [
    "x"
   ]
  },
  {
   "cell_type": "markdown",
   "metadata": {},
   "source": [
    "# 17.14 document split"
   ]
  },
  {
   "cell_type": "code",
   "execution_count": 205,
   "metadata": {
    "collapsed": true
   },
   "outputs": [],
   "source": [
    "def check(doc,dic):\n",
    "    if doc in dic:\n",
    "        return 0\n",
    "    if len(doc)==1:\n",
    "        return 1\n",
    "    sizeUnk=[]\n",
    "    for i in range(1,len(doc)):\n",
    "        r1=check(doc[:i],dic)\n",
    "        r2=check(doc[i:],dic)\n",
    "        sizeUnk.append(r1+r2)\n",
    "    \n",
    "    return min(sizeUnk)"
   ]
  },
  {
   "cell_type": "code",
   "execution_count": 209,
   "metadata": {},
   "outputs": [
    {
     "data": {
      "text/plain": [
       "6"
      ]
     },
     "execution_count": 209,
     "metadata": {},
     "output_type": "execute_result"
    }
   ],
   "source": [
    "doc='gostanford'\n",
    "dic=['go','an']\n",
    "check(doc,dic)"
   ]
  },
  {
   "cell_type": "code",
   "execution_count": 215,
   "metadata": {},
   "outputs": [
    {
     "data": {
      "text/plain": [
       "0"
      ]
     },
     "execution_count": 215,
     "metadata": {},
     "output_type": "execute_result"
    }
   ],
   "source": [
    "61523-61523%100000"
   ]
  },
  {
   "cell_type": "markdown",
   "metadata": {
    "collapsed": true
   },
   "source": [
    "# 1.4 replace char with string"
   ]
  },
  {
   "cell_type": "code",
   "execution_count": 6,
   "metadata": {
    "collapsed": true
   },
   "outputs": [],
   "source": [
    "s='123456789123456789'\n",
    "c='1'\n",
    "c2='000'\n",
    "foundIndex=[]\n",
    "for si in range(len(s)):\n",
    "    if s[si]==c:\n",
    "        foundIndex.append(si)\n",
    "for si in foundIndex[::-1]:\n",
    "    s=s[:si]+c2+s[si+1:]"
   ]
  },
  {
   "cell_type": "code",
   "execution_count": 7,
   "metadata": {},
   "outputs": [
    {
     "data": {
      "text/plain": [
       "'0002345678900023456789'"
      ]
     },
     "execution_count": 7,
     "metadata": {},
     "output_type": "execute_result"
    }
   ],
   "source": [
    "s"
   ]
  },
  {
   "cell_type": "markdown",
   "metadata": {
    "collapsed": true
   },
   "source": [
    "# 11.6 ordered matrix"
   ]
  },
  {
   "cell_type": "code",
   "execution_count": 12,
   "metadata": {
    "collapsed": true
   },
   "outputs": [],
   "source": [
    "def findM(m,k):\n",
    "    i=0\n",
    "    j=len(m[0])-1\n",
    "    found=False\n",
    "    while(found==False and i<len(m) and j>=0):\n",
    "        if m[i][j]==k:\n",
    "            found=True\n",
    "        elif m[i][j]>k:\n",
    "            j=j-1\n",
    "        elif m[i][j]<k:\n",
    "            i=i+1\n",
    "    return found\n",
    "            "
   ]
  },
  {
   "cell_type": "code",
   "execution_count": null,
   "metadata": {
    "collapsed": true
   },
   "outputs": [],
   "source": []
  },
  {
   "cell_type": "code",
   "execution_count": 14,
   "metadata": {
    "scrolled": true
   },
   "outputs": [
    {
     "name": "stdout",
     "output_type": "stream",
     "text": [
      "10\n",
      "True\n",
      "20\n",
      "True\n",
      "30\n",
      "True\n",
      "40\n",
      "True\n",
      "15\n",
      "True\n",
      "25\n",
      "True\n",
      "35\n",
      "True\n",
      "45\n",
      "True\n",
      "27\n",
      "True\n",
      "29\n",
      "True\n",
      "37\n",
      "True\n",
      "48\n",
      "True\n",
      "32\n",
      "True\n",
      "33\n",
      "True\n",
      "39\n",
      "True\n",
      "50\n",
      "True\n",
      "False\n"
     ]
    }
   ],
   "source": [
    "m=[[10,20,30,40],[15,25,35,45],[27,29,37,48],[32,33,39,50]]\n",
    "for mi in m:\n",
    "    for mj in mi:\n",
    "        print mj\n",
    "        print findM(m,mj)\n"
   ]
  },
  {
   "cell_type": "code",
   "execution_count": 16,
   "metadata": {},
   "outputs": [
    {
     "name": "stdout",
     "output_type": "stream",
     "text": [
      "11\n",
      "False\n",
      "21\n",
      "False\n",
      "31\n",
      "False\n",
      "41\n",
      "False\n",
      "16\n",
      "False\n",
      "26\n",
      "False\n",
      "36\n",
      "False\n",
      "46\n",
      "False\n",
      "28\n",
      "False\n",
      "38\n",
      "False\n",
      "49\n",
      "False\n",
      "34\n",
      "False\n",
      "51\n",
      "False\n"
     ]
    }
   ],
   "source": [
    "m=[[10,20,30,40],[15,25,35,45],[27,29,37,48],[32,33,39,50]]\n",
    "for mj in [11,21,31,41,16,26,36,46,28,38,49,34,51]:\n",
    "    print mj\n",
    "    print findM(m,mj)\n"
   ]
  },
  {
   "cell_type": "code",
   "execution_count": 18,
   "metadata": {},
   "outputs": [
    {
     "name": "stdout",
     "output_type": "stream",
     "text": [
      "10\n",
      "True\n",
      "20\n",
      "True\n",
      "30\n",
      "True\n",
      "40\n",
      "True\n",
      "11\n",
      "False\n",
      "21\n",
      "False\n",
      "31\n",
      "False\n",
      "41\n",
      "False\n",
      "16\n",
      "False\n",
      "26\n",
      "False\n",
      "36\n",
      "False\n",
      "46\n",
      "False\n",
      "28\n",
      "False\n",
      "38\n",
      "False\n",
      "49\n",
      "False\n",
      "34\n",
      "False\n",
      "51\n",
      "False\n"
     ]
    }
   ],
   "source": [
    "m=[[10,20,30,40]]\n",
    "for mi in m:\n",
    "    for mj in mi:\n",
    "        print mj\n",
    "        print findM(m,mj)\n",
    "for mj in [11,21,31,41,16,26,36,46,28,38,49,34,51]:\n",
    "    print mj\n",
    "    print findM(m,mj)\n"
   ]
  },
  {
   "cell_type": "code",
   "execution_count": null,
   "metadata": {
    "collapsed": true
   },
   "outputs": [],
   "source": []
  }
 ],
 "metadata": {
  "kernelspec": {
   "display_name": "Python 2",
   "language": "python",
   "name": "python2"
  },
  "language_info": {
   "codemirror_mode": {
    "name": "ipython",
    "version": 2
   },
   "file_extension": ".py",
   "mimetype": "text/x-python",
   "name": "python",
   "nbconvert_exporter": "python",
   "pygments_lexer": "ipython2",
   "version": "2.7.13"
  }
 },
 "nbformat": 4,
 "nbformat_minor": 2
}
