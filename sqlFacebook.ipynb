{
 "cells": [
  {
   "cell_type": "markdown",
   "metadata": {},
   "source": [
    "you have a table Submissions with the submission_id, the body, and the parent_id. Submissions can be posts, or comments to a post. In posts, parent_id is null, and in comments, the parent_id is the post the comment is commenting about. How would you go and make a histogram of number of posts per comment_count?"
   ]
  },
  {
   "cell_type": "code",
   "execution_count": 4,
   "metadata": {
    "collapsed": true
   },
   "outputs": [],
   "source": [
    "from numpy.random import binomial"
   ]
  },
  {
   "cell_type": "code",
   "execution_count": 7,
   "metadata": {
    "collapsed": true
   },
   "outputs": [],
   "source": [
    "submissionIDs=range(100)"
   ]
  },
  {
   "cell_type": "code",
   "execution_count": 26,
   "metadata": {
    "collapsed": true
   },
   "outputs": [],
   "source": [
    "submissionArray=[]\n",
    "count=100\n",
    "for submissionID in submissionIDs:\n",
    "    submissionArray.append({'submission_id':submissionID,'parent_id':None})\n",
    "    for x in range(binomial(10,.3)):\n",
    "        submissionArray.append({'submission_id':count,'parent_id':submissionID})\n",
    "        count+=1"
   ]
  },
  {
   "cell_type": "code",
   "execution_count": 27,
   "metadata": {
    "collapsed": true
   },
   "outputs": [],
   "source": [
    "countComments={}\n",
    "for item in submissionArray:\n",
    "    if item['parent_id']!=None:\n",
    "        if item['parent_id'] in countComments:\n",
    "            countComments[item['parent_id']]+=1\n",
    "        else:\n",
    "            countComments[item['parent_id']]=1\n",
    "\n",
    "countOfcounts={}\n",
    "for value in countComments.values():\n",
    "    if value in countOfcounts:\n",
    "        countOfcounts[value]+=1\n",
    "    else:\n",
    "        countOfcounts[value]=1\n",
    "        "
   ]
  },
  {
   "cell_type": "code",
   "execution_count": 28,
   "metadata": {},
   "outputs": [
    {
     "data": {
      "text/plain": [
       "{1: 11, 2: 22, 3: 30, 4: 20, 5: 8, 6: 7}"
      ]
     },
     "execution_count": 28,
     "metadata": {},
     "output_type": "execute_result"
    }
   ],
   "source": [
    "countOfcounts"
   ]
  },
  {
   "cell_type": "markdown",
   "metadata": {},
   "source": [
    "Given a table that each day shows who was active in the system and a table that tracks ongoing user status, write a procedure that will take each day's active table and pass it into the ongoing daily tracking table.\n",
    "\n",
    "Possible states are:\n",
    "* user stayed (yesterday yes, today yes)\n",
    "* user churned (yesterday yes, today no)\n",
    "* user revived (yesterday no, today yes)\n",
    "* user new (yesterday null, today yes)"
   ]
  },
  {
   "cell_type": "code",
   "execution_count": 29,
   "metadata": {
    "collapsed": true
   },
   "outputs": [],
   "source": [
    "import random"
   ]
  },
  {
   "cell_type": "code",
   "execution_count": 32,
   "metadata": {
    "collapsed": true
   },
   "outputs": [],
   "source": [
    "activeArray=[]\n",
    "for day in range(100):\n",
    "    for num in range(binomial(10,.3)):\n",
    "        activeArray.append({'day':day,'user_id':random.randint(0,10)})"
   ]
  },
  {
   "cell_type": "code",
   "execution_count": 34,
   "metadata": {
    "collapsed": true
   },
   "outputs": [],
   "source": [
    "allUsers=list(set([item['user_id'] for item in activeArray]))"
   ]
  },
  {
   "cell_type": "code",
   "execution_count": 36,
   "metadata": {
    "collapsed": true
   },
   "outputs": [],
   "source": [
    "activePerDay={_:[] for _ in range(100)}\n",
    "for item in activeArray:\n",
    "    if item['day'] in activePerDay:\n",
    "        activePerDay[item['day']].append(item['user_id'])\n",
    "    else:\n",
    "        activePerDay[item['day']]=[item['user_id']]"
   ]
  },
  {
   "cell_type": "code",
   "execution_count": 37,
   "metadata": {
    "collapsed": true
   },
   "outputs": [],
   "source": [
    "userState=[]\n",
    "for day in range(1,100):\n",
    "    for user in allUsers:\n",
    "        yesterdayState=(user in activePerDay[day-1])\n",
    "        todayState=(user in activePerDay[day])\n",
    "        if yesterdayState==True and todayState==True:\n",
    "            userState.append({'day':day,'user_id':user,'state':'stay'})\n",
    "        elif yesterdayState==True and todayState==False:\n",
    "            userState.append({'day':day,'user_id':user,'state':'churn'})\n",
    "        elif yesterdayState==False and todayState==True:\n",
    "            userState.append({'day':day,'user_id':user,'state':'revive'})\n",
    "        elif yesterdayState==False and todayState==False:\n",
    "            userState.append({'day':day,'user_id':user,'state':'new'})"
   ]
  },
  {
   "cell_type": "markdown",
   "metadata": {},
   "source": [
    "Write a function that takes in two sorted lists and outputs a sorted list that is their union. "
   ]
  },
  {
   "cell_type": "code",
   "execution_count": 45,
   "metadata": {
    "collapsed": true
   },
   "outputs": [],
   "source": [
    "array1=sorted([random.randint(0,10)+3 for _ in range(8)])\n",
    "array2=sorted([random.randint(0,10) for _ in range(8)])"
   ]
  },
  {
   "cell_type": "code",
   "execution_count": 46,
   "metadata": {
    "collapsed": true
   },
   "outputs": [],
   "source": [
    "arrayTot=[]\n",
    "index1=0\n",
    "index2=0\n",
    "while index1<len(array1) or index2<len(array2):\n",
    "    if index2==len(array2) or array1[index1]<array2[index2]:\n",
    "        arrayTot.append(array1[index1])\n",
    "        index1+=1\n",
    "    else:\n",
    "        arrayTot.append(array2[index2])\n",
    "        index2+=1"
   ]
  },
  {
   "cell_type": "code",
   "execution_count": 47,
   "metadata": {},
   "outputs": [
    {
     "data": {
      "text/plain": [
       "[1, 2, 3, 5, 5, 5, 5, 5, 5, 5, 7, 7, 8, 9, 11, 12]"
      ]
     },
     "execution_count": 47,
     "metadata": {},
     "output_type": "execute_result"
    }
   ],
   "source": [
    "arrayTot"
   ]
  },
  {
   "cell_type": "code",
   "execution_count": 48,
   "metadata": {},
   "outputs": [
    {
     "data": {
      "text/plain": [
       "[1, 2, 3, 5, 5, 5, 5, 5, 5, 5, 7, 7, 8, 9, 11, 12]"
      ]
     },
     "execution_count": 48,
     "metadata": {},
     "output_type": "execute_result"
    }
   ],
   "source": [
    "sorted(array1+array2)"
   ]
  },
  {
   "cell_type": "markdown",
   "metadata": {},
   "source": [
    "Write a sorting algorithm for a numerical dataset in Python.  "
   ]
  },
  {
   "cell_type": "code",
   "execution_count": 62,
   "metadata": {
    "collapsed": true
   },
   "outputs": [],
   "source": [
    "def mergeSorted(array1,array2):\n",
    "    arrayTot=[]\n",
    "    index1=0\n",
    "    index2=0\n",
    "    while index1<len(array1) or index2<len(array2):\n",
    "        if index2==len(array2) or (index1!=len(array1) and array1[index1]<array2[index2]):\n",
    "            arrayTot.append(array1[index1])\n",
    "            index1+=1\n",
    "        else:\n",
    "            arrayTot.append(array2[index2])\n",
    "            index2+=1\n",
    "    return arrayTot"
   ]
  },
  {
   "cell_type": "code",
   "execution_count": 50,
   "metadata": {
    "collapsed": true
   },
   "outputs": [],
   "source": [
    "def mergeSort(array):\n",
    "    if len(array)<=1:\n",
    "        return array\n",
    "    indexSplit=int(len(array)*0.5)\n",
    "    array1=mergeSort(array[:indexSplit])\n",
    "    array2=mergeSort(array[indexSplit:])\n",
    "    return mergeSorted(array1,array2)"
   ]
  },
  {
   "cell_type": "code",
   "execution_count": 67,
   "metadata": {},
   "outputs": [
    {
     "data": {
      "text/plain": [
       "[2,\n",
       " 2,\n",
       " 4,\n",
       " 4,\n",
       " 4,\n",
       " 5,\n",
       " 7,\n",
       " 10,\n",
       " 11,\n",
       " 12,\n",
       " 12,\n",
       " 12,\n",
       " 13,\n",
       " 13,\n",
       " 14,\n",
       " 16,\n",
       " 16,\n",
       " 18,\n",
       " 18,\n",
       " 19,\n",
       " 100,\n",
       " 100,\n",
       " 1000]"
      ]
     },
     "execution_count": 67,
     "metadata": {},
     "output_type": "execute_result"
    }
   ],
   "source": [
    "mergeSort([100,100,1000]+[random.randint(0,20) for _ in range(20)])"
   ]
  },
  {
   "cell_type": "markdown",
   "metadata": {},
   "source": [
    "# School attendence"
   ]
  },
  {
   "cell_type": "code",
   "execution_count": 2,
   "metadata": {
    "collapsed": true
   },
   "outputs": [],
   "source": [
    "from random import random"
   ]
  },
  {
   "cell_type": "code",
   "execution_count": 3,
   "metadata": {
    "collapsed": true
   },
   "outputs": [],
   "source": [
    "attendenceArray={'date':[],'student_id':[],'attendance':[]}\n",
    "import datetime\n",
    "\n",
    "dt = datetime.datetime(2010, 1, 1)\n",
    "end = datetime.datetime(2010, 12, 30)\n",
    "step = datetime.timedelta(days=1)\n",
    "\n",
    "while dt < end:\n",
    "    \n",
    "    curDate=dt.strftime('%Y-%m-%d')\n",
    "    \n",
    "    for stuID in range(1000):\n",
    "        \n",
    "        attendenceArray['date'].append(curDate)\n",
    "        attendenceArray['student_id'].append(stuID)\n",
    "        attendenceArray['attendance'].append(1 if random() >.1*stuID%7 else 0)\n",
    "    dt += step"
   ]
  },
  {
   "cell_type": "code",
   "execution_count": 4,
   "metadata": {
    "collapsed": true
   },
   "outputs": [],
   "source": [
    "from random import randint\n",
    "\n",
    "studentArray={'student_id':[],'school_id':[],'grade_level':[]}\n",
    "for stuID in range(1000):\n",
    "    studentArray['student_id'].append(stuID)\n",
    "    studentArray['school_id'].append(randint(1,4))\n",
    "    studentArray['grade_level'].append(randint(1,5))"
   ]
  },
  {
   "cell_type": "markdown",
   "metadata": {
    "collapsed": true
   },
   "source": [
    "### What was the overall attendance rate for the school district on 2010-03-09?\n",
    "\n",
    "attendenceArray={'date':[],'student_id':[],'attendance':[]}\n",
    "\n",
    "studentArray={'student_id':[],'school_id':[],'grade_level':[]}"
   ]
  },
  {
   "cell_type": "code",
   "execution_count": 8,
   "metadata": {},
   "outputs": [
    {
     "data": {
      "text/plain": [
       "81"
      ]
     },
     "execution_count": 8,
     "metadata": {},
     "output_type": "execute_result"
    }
   ],
   "source": [
    "len([att for date,att in zip(attendenceArray['date'],attendenceArray['attendance']) \n",
    "    if date=='2010-03-09' and att==1])"
   ]
  },
  {
   "cell_type": "code",
   "execution_count": 10,
   "metadata": {},
   "outputs": [
    {
     "data": {
      "text/plain": [
       "1000"
      ]
     },
     "execution_count": 10,
     "metadata": {},
     "output_type": "execute_result"
    }
   ],
   "source": [
    "len(studentArray['student_id'])"
   ]
  },
  {
   "cell_type": "markdown",
   "metadata": {},
   "source": [
    "### Which grade level currently has the most students in this school district?\n",
    "\n",
    "attendenceArray={'date':[],'student_id':[],'attendance':[]}\n",
    "\n",
    "studentArray={'student_id':[],'school_id':[],'grade_level':[]}"
   ]
  },
  {
   "cell_type": "code",
   "execution_count": 11,
   "metadata": {
    "collapsed": true
   },
   "outputs": [],
   "source": [
    "countPerGrade={}\n",
    "for sGrade in studentArray['grade_level']:\n",
    "    if sGrade in countPerGrade:\n",
    "        countPerGrade[sGrade]+=1\n",
    "    else:\n",
    "        countPerGrade[sGrade]=1"
   ]
  },
  {
   "cell_type": "code",
   "execution_count": 16,
   "metadata": {},
   "outputs": [
    {
     "data": {
      "text/plain": [
       "[(3, 227), (2, 203), (5, 198), (1, 189), (4, 183)]"
      ]
     },
     "execution_count": 16,
     "metadata": {},
     "output_type": "execute_result"
    }
   ],
   "source": [
    "sorted(countPerGrade.items(),key=lambda x: -x[1])"
   ]
  },
  {
   "cell_type": "markdown",
   "metadata": {},
   "source": [
    "### Which school had the highest attendance rate? The lowest?\n",
    "\n",
    "attendenceArray={'date':[],'student_id':[],'attendance':[]}\n",
    "\n",
    "studentArray={'student_id':[],'school_id':[],'grade_level':[]}"
   ]
  },
  {
   "cell_type": "code",
   "execution_count": 17,
   "metadata": {
    "collapsed": true
   },
   "outputs": [],
   "source": [
    "studentPerSchool={idx:0 for idx in set(studentArray['school_id'])}\n",
    "for schoolId in studentArray['school_id']:\n",
    "    studentPerSchool[schoolId]+=1"
   ]
  },
  {
   "cell_type": "code",
   "execution_count": 19,
   "metadata": {
    "collapsed": true
   },
   "outputs": [],
   "source": [
    "numDays=len(set(attendenceArray['date']))"
   ]
  },
  {
   "cell_type": "code",
   "execution_count": 21,
   "metadata": {
    "collapsed": true
   },
   "outputs": [],
   "source": [
    "studentIDtoSchoolID={ \n",
    "    stuid:schoid for stuid,schoid in \n",
    "    zip(studentArray['student_id'],studentArray['school_id'])}"
   ]
  },
  {
   "cell_type": "code",
   "execution_count": 23,
   "metadata": {},
   "outputs": [],
   "source": [
    "attendencePerSchool={xid:0 for xid in set(studentArray['school_id'])}\n",
    "for sid,att in zip(attendenceArray['student_id'],attendenceArray['attendance']):\n",
    "    if att==1:\n",
    "        attendencePerSchool[studentIDtoSchoolID[sid]]+=1"
   ]
  },
  {
   "cell_type": "code",
   "execution_count": 27,
   "metadata": {},
   "outputs": [],
   "source": [
    "attRatePerSchool={\n",
    "    sid:float(attendencePerSchool[sid])/float(studentPerSchool[sid])/float(numDays) \n",
    "                  for sid in set(studentArray['school_id'])}"
   ]
  },
  {
   "cell_type": "code",
   "execution_count": 29,
   "metadata": {},
   "outputs": [],
   "source": [
    "sortedRate=sorted(attRatePerSchool.items(),key=lambda x:x[1])"
   ]
  },
  {
   "cell_type": "code",
   "execution_count": 30,
   "metadata": {},
   "outputs": [
    {
     "data": {
      "text/plain": [
       "(1, 0.058258567278729995)"
      ]
     },
     "execution_count": 30,
     "metadata": {},
     "output_type": "execute_result"
    }
   ],
   "source": [
    "sortedRate[0]"
   ]
  },
  {
   "cell_type": "code",
   "execution_count": 31,
   "metadata": {},
   "outputs": [
    {
     "data": {
      "text/plain": [
       "(3, 0.11496871862207461)"
      ]
     },
     "execution_count": 31,
     "metadata": {},
     "output_type": "execute_result"
    }
   ],
   "source": [
    "sortedRate[-1]"
   ]
  },
  {
   "cell_type": "markdown",
   "metadata": {},
   "source": [
    "#### Given an event-level table of interactions between pairs of users (note that there aren't duplicates in one day for one pair of users), for each possible number of \"people interacted with\" find the count for that group in a given day (i.e. 10 people interacted with only one person, 20 with 2, etc.).  "
   ]
  },
  {
   "cell_type": "code",
   "execution_count": 32,
   "metadata": {
    "collapsed": true
   },
   "outputs": [],
   "source": [
    "arrayUserPairs=[sorted([int((random()*10)**2),int((random()*10)**2)]) for _ in range(1000)]"
   ]
  },
  {
   "cell_type": "code",
   "execution_count": 34,
   "metadata": {
    "collapsed": true
   },
   "outputs": [],
   "source": [
    "countPerUser={}\n",
    "for pair in arrayUserPairs:\n",
    "    for index in [0,1]:\n",
    "        curUser=pair[index]\n",
    "        if curUser in countPerUser:\n",
    "            countPerUser[curUser]+=1\n",
    "        else:\n",
    "            countPerUser[curUser]=1"
   ]
  },
  {
   "cell_type": "code",
   "execution_count": 35,
   "metadata": {
    "collapsed": true
   },
   "outputs": [],
   "source": [
    "countPerCount={}\n",
    "for count in countPerUser.values():\n",
    "    if count in countPerCount:\n",
    "        countPerCount[count]+=1\n",
    "    else:\n",
    "        countPerCount[count]=1"
   ]
  },
  {
   "cell_type": "code",
   "execution_count": 36,
   "metadata": {},
   "outputs": [
    {
     "data": {
      "text/plain": [
       "{5: 1,\n",
       " 6: 1,\n",
       " 7: 2,\n",
       " 8: 5,\n",
       " 9: 9,\n",
       " 10: 6,\n",
       " 11: 3,\n",
       " 12: 9,\n",
       " 13: 2,\n",
       " 14: 5,\n",
       " 15: 8,\n",
       " 16: 11,\n",
       " 17: 4,\n",
       " 19: 3,\n",
       " 20: 6,\n",
       " 21: 2,\n",
       " 22: 4,\n",
       " 23: 1,\n",
       " 24: 1,\n",
       " 25: 3,\n",
       " 26: 1,\n",
       " 27: 1,\n",
       " 28: 1,\n",
       " 30: 2,\n",
       " 31: 1,\n",
       " 37: 1,\n",
       " 40: 1,\n",
       " 47: 1,\n",
       " 51: 1,\n",
       " 61: 1,\n",
       " 83: 1,\n",
       " 84: 1,\n",
       " 189: 1}"
      ]
     },
     "execution_count": 36,
     "metadata": {},
     "output_type": "execute_result"
    }
   ],
   "source": [
    "countPerCount"
   ]
  },
  {
   "cell_type": "markdown",
   "metadata": {},
   "source": [
    "### You have a table with appID, eventID, and timestamp. eventID is either 'click' or 'impression'. Calculate the click through rate. Now do it in for each app.  "
   ]
  },
  {
   "cell_type": "code",
   "execution_count": 37,
   "metadata": {
    "collapsed": true
   },
   "outputs": [],
   "source": [
    "arrayEvent=[{'appID':randint(1,50),\n",
    "             'eventID': 'click' if randint(0,1)==0  else 'impression'} \n",
    "            for _ in range(10000)]"
   ]
  },
  {
   "cell_type": "code",
   "execution_count": 41,
   "metadata": {},
   "outputs": [
    {
     "data": {
      "text/plain": [
       "1.0189783969311528"
      ]
     },
     "execution_count": 41,
     "metadata": {},
     "output_type": "execute_result"
    }
   ],
   "source": [
    "float(len([action for action in arrayEvent if action['eventID']=='click']))/ \\\n",
    "    float(len([action for action in arrayEvent if action['eventID']=='impression']))"
   ]
  },
  {
   "cell_type": "code",
   "execution_count": 53,
   "metadata": {},
   "outputs": [],
   "source": [
    "clickPerApp={}\n",
    "impPerApp={}\n",
    "for event in arrayEvent:\n",
    "    if event['eventID']=='click':\n",
    "        if event['appID'] in clickPerApp:\n",
    "            clickPerApp[event['appID']]+=1\n",
    "        else:\n",
    "            clickPerApp[event['appID']]=1\n",
    "    else:\n",
    "        if event['appID'] in impPerApp:\n",
    "            impPerApp[event['appID']]+=1\n",
    "        else:\n",
    "            impPerApp[event['appID']]=1\n",
    "rate1={appID:float(clickPerApp.get(appID,0))/float(impPerApp[appID]) \n",
    "      for appID in impPerApp}"
   ]
  },
  {
   "cell_type": "code",
   "execution_count": 55,
   "metadata": {},
   "outputs": [],
   "source": [
    "rate2={}\n",
    "for appID in set([event['appID'] for event in arrayEvent]):\n",
    "    rate2[appID]=float(len([action for action \n",
    "               in arrayEvent \n",
    "               if action['eventID']=='click' and action['appID']==appID]))/ \\\n",
    "    float(len([action for action \n",
    "               in arrayEvent \n",
    "               if action['eventID']=='impression' and action['appID']==appID]))"
   ]
  },
  {
   "cell_type": "code",
   "execution_count": 56,
   "metadata": {},
   "outputs": [
    {
     "data": {
      "text/plain": [
       "True"
      ]
     },
     "execution_count": 56,
     "metadata": {},
     "output_type": "execute_result"
    }
   ],
   "source": [
    "rate1==rate2"
   ]
  },
  {
   "cell_type": "code",
   "execution_count": null,
   "metadata": {
    "collapsed": true
   },
   "outputs": [],
   "source": []
  }
 ],
 "metadata": {
  "kernelspec": {
   "display_name": "Python 2",
   "language": "python",
   "name": "python2"
  },
  "language_info": {
   "codemirror_mode": {
    "name": "ipython",
    "version": 2
   },
   "file_extension": ".py",
   "mimetype": "text/x-python",
   "name": "python",
   "nbconvert_exporter": "python",
   "pygments_lexer": "ipython2",
   "version": "2.7.13"
  }
 },
 "nbformat": 4,
 "nbformat_minor": 2
}
